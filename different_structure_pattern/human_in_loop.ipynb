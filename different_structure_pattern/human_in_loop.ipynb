{
 "cells": [
  {
   "cell_type": "markdown",
   "id": "65962df4",
   "metadata": {},
   "source": [
    "For some actions, you may want to require human approval before running to ensure that everything is running as intended."
   ]
  },
  {
   "cell_type": "code",
   "execution_count": 481,
   "id": "708c9f43",
   "metadata": {},
   "outputs": [],
   "source": [
    "from typing import Annotated\n",
    "import operator,json\n",
    "from typing import TypedDict, Annotated, Sequence\n",
    "from typing_extensions import TypedDict\n",
    "from langchain_core.messages import BaseMessage\n",
    "from langgraph.checkpoint.memory import MemorySaver\n",
    "from langgraph.graph import StateGraph,END,START\n",
    "from langgraph.graph.message import add_messages\n",
    "from langgraph.prebuilt import ToolNode, tools_condition\n",
    "from langchain_core.tools import tool\n",
    "from langchain_community.tools.tavily_search import TavilySearchResults\n",
    "import os\n",
    "from dotenv import load_dotenv\n",
    "from langchain_google_genai import GoogleGenerativeAIEmbeddings\n",
    "from langchain_google_genai import ChatGoogleGenerativeAI\n",
    "\n",
    "from langchain_groq import ChatGroq\n",
    "load_dotenv()\n",
    "\n",
    "llm=ChatGroq(model_name=\"Gemma2-9b-It\")\n",
    "\n",
    "\n",
    "# gemini_api_key = os.getenv(\"GEMINI_API_KEY\")\n",
    "# embeddings = GoogleGenerativeAIEmbeddings(model=\"models/embedding-001\",google_api_key=gemini_api_key)\n",
    "# llm = ChatGoogleGenerativeAI(model=\"gemini-2.0-flash\",api_key=gemini_api_key)"
   ]
  },
  {
   "cell_type": "code",
   "execution_count": 482,
   "id": "2d5cf373",
   "metadata": {},
   "outputs": [],
   "source": [
    "@tool\n",
    "def multiply(first_number:int, second_number:int)->int:\n",
    "    \"\"\"multiply two integer number\"\"\"\n",
    "    return first_number * second_number"
   ]
  },
  {
   "cell_type": "code",
   "execution_count": 483,
   "id": "24ee3333",
   "metadata": {},
   "outputs": [],
   "source": [
    "@tool\n",
    "def search(query:str):\n",
    "    \"\"\"perform the web search on the user query\"\"\"\n",
    "    tavily=TavilySearchResults()\n",
    "    result=tavily.invoke(query)\n",
    "    return result"
   ]
  },
  {
   "cell_type": "code",
   "execution_count": 484,
   "id": "6ccdc60e",
   "metadata": {},
   "outputs": [
    {
     "data": {
      "text/plain": [
       "[{'title': 'Virat Kohli - Wikipedia',\n",
       "  'url': 'https://en.wikipedia.org/wiki/Virat_Kohli',\n",
       "  'content': 'Virat Kohli (Hindi pronunciation: [ʋɪˈɾɑːʈ ˈkoːɦli] ⓘ; born 5 November 1988) is an Indian international cricketer who plays Test and ODI cricket for the Indian national team. A former captain in all formats of the game, Kohli retired from the T20I format following India\\'s win at the 2024 T20 World Cup. He\\'s a right-handed batsman and an occasional unorthodox right arm medium pace bowler. Kohli holds the highest IPL run-scorer record, ranks third in T20I, third in ODI, and stands the [...] ^ Sharma, Aabhas (8 November 2013). \"Why Virat Kohli is who he is\". Business Standard. Archived from the original on 23 April 2015. Retrieved 1 June 2015.\\n^ Doshi, Anjali; Das, Rahul (21 June 2014). \"The Rise and Rise of Virat Kohli\". Verve Magazine. Archived from the original on 4 April 2015. Retrieved 1 June 2015.\\n^ Jones, Dean (17 March 2017). \"Virat Kohli, the highly paid head of the Indian snake\". The Sydney Morning Herald. Retrieved 20 June 2020. [...] \"Virat best in the world: Graeme Smith\". 20 February 2018. Archived from the original on 20 February 2018.\\n\"Virat Kohli better than AB de Villiers, says Shane Warne\". India Today. Archived from the original on 25 July 2016. Retrieved 13 July 2016.\\n\"Virat Kohli is a genius and best in the world: Javed Miandad\". The Times of India. 8 February 2018. Archived from the original on 13 February 2018.',\n",
       "  'score': 0.7882741},\n",
       " {'title': 'Virat Kohli | Wishing Happy Birthday to Cricket Legend - YouTube',\n",
       "  'url': 'https://www.youtube.com/watch?v=MsVTEDJNwUE',\n",
       "  'content': 'Virat Kohli is an Indian international cricketer and the former captain of the Indian national cricket team. He currently represents Royal',\n",
       "  'score': 0.7286136},\n",
       " {'title': 'Virat Kohli | Life, Career, Cricket, Awards, & Facts | Britannica',\n",
       "  'url': 'https://www.britannica.com/biography/Virat-Kohli',\n",
       "  'content': 'Virat Kohli (born November 5, 1988, Delhi, India) is an Indian international cricketer considered by many as one of the greatest batsmen in the history of the game. Kohli plays for (and previously captained) the Royal Challengers Bangalore (RCB) in the Indian Premier League (IPL). He is also a former captain of the Indian cricket team in all three international formats—Test cricket, one-day internationals (ODIs), and Twenty20 internationals (T20I)—making him one of India’s most successful [...] Breaking an unbreakable record Virat Kohli celebrating his 50th century in one-day international (ODI) play, overtaking Sachin Tendulkar for the most ODI centuries, during the ODI World Cup semifinal between India and New Zealand at Wankhede Stadium, Mumbai, India, on November 15, 2023. (more)\\nVirat Kohli\\nIndian cricketer\\nAsk the Chatbot a Question\\nMore Actions\\nPrint\\nprint Print\\nPlease select which sections you would like to print:\\n\\nTable Of Contents [...] IndiaNetzone - Virat Kohli',\n",
       "  'score': 0.7004242},\n",
       " {'title': 'Virat Kohli: Cricket star, controversies, and business investments',\n",
       "  'url': 'https://crictoday.com/cricket/series/virat-kohli/',\n",
       "  'content': 'Virat Kohli is a professional cricketer and the former captain of the Indian national team. He was born on November 5, 1988, in Delhi, India. Kohli began',\n",
       "  'score': 0.68344116},\n",
       " {'title': \"Cricket's Biggest Star Virat Kohli Desperate For Elusive Indian ...\",\n",
       "  'url': 'https://www.forbes.com/sites/tristanlavalette/2025/03/19/crickets-biggest-star-virat-kohli-desperate-for-elusive-indian-premier-league-title/',\n",
       "  'content': 'It’s a similar issue in cricket with Virat Kohli, cricket’s biggest star who has also featured in Forbes’ list of wealthiest athletes in the past. His every move is monitored closely and anything he says is aggregated all over the world, especially in India where he is arguably the country’s most famous figure.\\n\\nHe is also married to Bollywood star Anushka Sharma, with the high-profile celebrity couple treated as something like royalty by their compatriots. [...] Virat Kohli is a cricket legend (Photo by Robert Cianflone/Getty Images)\\n\\nBut Kohli is almost 37 years old and very much in the twilight of his legendary career despite his famed fitness. His Test career looks on the rocks after such an inept Test tour of Australia\\n\\nThere is no successor to Kohli’s throne right now. Basically cricket’s transcendent star has to be from mighty money-spinning India, the heartland of the British bat and ball sport these days.',\n",
       "  'score': 0.4767995}]"
      ]
     },
     "execution_count": 484,
     "metadata": {},
     "output_type": "execute_result"
    }
   ],
   "source": [
    "search(\"who is a Virat?\")"
   ]
  },
  {
   "cell_type": "code",
   "execution_count": 485,
   "id": "33c1a6e9",
   "metadata": {},
   "outputs": [],
   "source": [
    "tools = [search,multiply]"
   ]
  },
  {
   "cell_type": "code",
   "execution_count": 486,
   "id": "274a3b16",
   "metadata": {},
   "outputs": [],
   "source": [
    "model_with_tools = llm.bind_tools(tools)"
   ]
  },
  {
   "cell_type": "code",
   "execution_count": 487,
   "id": "25965754",
   "metadata": {},
   "outputs": [],
   "source": [
    "tool_mapping={tool.name: tool for tool in tools}"
   ]
  },
  {
   "cell_type": "code",
   "execution_count": 488,
   "id": "a16f77d4",
   "metadata": {},
   "outputs": [
    {
     "data": {
      "text/plain": [
       "{'search': StructuredTool(name='search', description='perform the web search on the user query', args_schema=<class 'langchain_core.utils.pydantic.search'>, func=<function search at 0x00000297213296C0>),\n",
       " 'multiply': StructuredTool(name='multiply', description='multiply two integer number', args_schema=<class 'langchain_core.utils.pydantic.multiply'>, func=<function multiply at 0x0000029721329800>)}"
      ]
     },
     "execution_count": 488,
     "metadata": {},
     "output_type": "execute_result"
    }
   ],
   "source": [
    "tool_mapping"
   ]
  },
  {
   "cell_type": "code",
   "execution_count": 489,
   "id": "55e37769",
   "metadata": {},
   "outputs": [],
   "source": [
    "response = model_with_tools.invoke(\"who is virat\")"
   ]
  },
  {
   "cell_type": "code",
   "execution_count": 490,
   "id": "94a852b9",
   "metadata": {},
   "outputs": [
    {
     "data": {
      "text/plain": [
       "AIMessage(content='', additional_kwargs={'tool_calls': [{'id': 'call_0v7g', 'function': {'arguments': '{\"query\":\"who is virat kohli\"}', 'name': 'search'}, 'type': 'function'}]}, response_metadata={'token_usage': {'completion_tokens': 85, 'prompt_tokens': 1072, 'total_tokens': 1157, 'completion_time': 0.154545455, 'prompt_time': 0.037693365, 'queue_time': 0.23690463399999998, 'total_time': 0.19223882}, 'model_name': 'Gemma2-9b-It', 'system_fingerprint': 'fp_10c08bf97d', 'finish_reason': 'tool_calls', 'logprobs': None}, id='run-d75d6d1a-49e2-4693-bc61-f9bb1d32a783-0', tool_calls=[{'name': 'search', 'args': {'query': 'who is virat kohli'}, 'id': 'call_0v7g', 'type': 'tool_call'}], usage_metadata={'input_tokens': 1072, 'output_tokens': 85, 'total_tokens': 1157})"
      ]
     },
     "execution_count": 490,
     "metadata": {},
     "output_type": "execute_result"
    }
   ],
   "source": [
    "response"
   ]
  },
  {
   "cell_type": "code",
   "execution_count": 491,
   "id": "1d1464d0",
   "metadata": {},
   "outputs": [],
   "source": [
    "tool_details=response.additional_kwargs.get(\"tool_calls\")"
   ]
  },
  {
   "cell_type": "code",
   "execution_count": 492,
   "id": "612af298",
   "metadata": {},
   "outputs": [
    {
     "data": {
      "text/plain": [
       "[{'id': 'call_0v7g',\n",
       "  'function': {'arguments': '{\"query\":\"who is virat kohli\"}',\n",
       "   'name': 'search'},\n",
       "  'type': 'function'}]"
      ]
     },
     "execution_count": 492,
     "metadata": {},
     "output_type": "execute_result"
    }
   ],
   "source": [
    "tool_details"
   ]
  },
  {
   "cell_type": "code",
   "execution_count": 493,
   "id": "c5ea5862",
   "metadata": {},
   "outputs": [
    {
     "data": {
      "text/plain": [
       "'search'"
      ]
     },
     "execution_count": 493,
     "metadata": {},
     "output_type": "execute_result"
    }
   ],
   "source": [
    "tool_details[0][\"function\"][\"name\"]"
   ]
  },
  {
   "cell_type": "code",
   "execution_count": 494,
   "id": "293ce83f",
   "metadata": {},
   "outputs": [
    {
     "data": {
      "text/plain": [
       "'{\"query\":\"who is virat kohli\"}'"
      ]
     },
     "execution_count": 494,
     "metadata": {},
     "output_type": "execute_result"
    }
   ],
   "source": [
    "tool_details[0][\"function\"][\"arguments\"]"
   ]
  },
  {
   "cell_type": "code",
   "execution_count": 495,
   "id": "61c9b83a",
   "metadata": {},
   "outputs": [
    {
     "data": {
      "text/plain": [
       "{'query': 'who is virat kohli'}"
      ]
     },
     "execution_count": 495,
     "metadata": {},
     "output_type": "execute_result"
    }
   ],
   "source": [
    "json.loads(tool_details[0][\"function\"][\"arguments\"])"
   ]
  },
  {
   "cell_type": "code",
   "execution_count": 496,
   "id": "c272827d",
   "metadata": {},
   "outputs": [
    {
     "data": {
      "text/plain": [
       "[{'title': 'Virat Kohli | Life, Career, Cricket, Awards, & Facts | Britannica',\n",
       "  'url': 'https://www.britannica.com/biography/Virat-Kohli',\n",
       "  'content': 'Virat Kohli (born November 5, 1988, Delhi, India) is an Indian international cricketer considered by many as one of the greatest batsmen in the history of the game. Kohli plays for (and previously captained) the Royal Challengers Bangalore (RCB) in the Indian Premier League (IPL). He is also a former captain of the Indian cricket team in all three international formats—Test cricket, one-day internationals (ODIs), and Twenty20 internationals (T20I)—making him one of India’s most successful [...] Kohli was retained in 2018 for $2.1 million but struggled to score as freely as he did in 2016. In 2022 he was retained again for $2 million but relinquished the captaincy, which went to Faf du Plessis. Kohli has since captained on occasion when du Plessis has been injured. Kohli is the highest individual run scorer in the history of the IPL, but RCB’s lack of titles has frustrated his fans.\\nEarly international career [...] Kohli was the highest run scorer at the 2014 T20I World Cup, playing a key role in India’s semifinal win over South Africa. He was the top scorer in the final as well, a match that India lost to Sri Lanka. Kohli subsequently struggled on India’s multi-format tour of England that year, leading many to question his abilities. In the 2015 ODI World Cup, he scored one century against Pakistan but otherwise met with difficulty. In the 2016 Asia Cup, his run of scores helped India reach the final and',\n",
       "  'score': 0.8891543},\n",
       " {'title': 'Virat Kohli Profile - Cricket Player, India - NDTV Sports',\n",
       "  'url': 'https://sports.ndtv.com/cricket/players/967-virat-kohli-playerprofile',\n",
       "  'content': \"Daring, tough, and fiercely talented, Virat Kohli is arguably one of the finest batters that India has produced. He has even drawn comparisons with the great Sachin Tendulkar. With a firm bottom-hand grip and the ability to smash balls landing on a particular area to any part of the ground at will and without much risk, Kohli has carved a niche of his own in Indian cricket. The king of chases, as many of his fans have christened him, Kohli is a deeply hammered nail across all formats. [...] Virat Kohli Photos\\n\\nVirat Kohli Videos\\n\\nVirat Kohli Profile [...] Kohli rose to fame when he captained India's victorious Under-19 World Cup side in Malaysia in 2008. He was immediately propelled into the lucrative Twenty20 tournament - the Indian Premier League in 2008. Devoid of noteworthy performances in the first edition for Bengaluru, his domestic form still won him an India ODI cap on the tour to Sri Lanka in the same year.\",\n",
       "  'score': 0.79041743},\n",
       " {'title': 'Virat Kohli | cricket.com.au',\n",
       "  'url': 'https://www.cricket.com.au/players/CA:10917/virat-kohli',\n",
       "  'content': \"Undoubtedly one of India's finest ever batters, Virat Kohli has been a superstar of international cricket for well over a decade.\",\n",
       "  'score': 0.7283819},\n",
       " {'title': 'Virat Kohli Profile - Cricket Player India | Stats, Records, Video',\n",
       "  'url': 'https://www.espncricinfo.com/cricketers/virat-kohli-253802',\n",
       "  'content': \"- Virat Kohli is the only player in the Indian Premier League (IPL) to have played all seasons for one team: Royal Challengers Bangalore (RCB)\\n- He was picked by RCB soon after he captained India to victory in the 2008 Under-19 World Cup and has been retained by them ever since\\n- Kohli is the IPL's highest run-scorer and the only one with more than 8000 runs [...] An Under-19 world Cup-winning captain, when he burst onto the scene, Kohli was a precocious talent with a cover drive to kill for. He was destined to be India's next big batsman as the Tendulkar era began to retire, but Kohli wanted to be more: a cricketer whom the opposition would be in awe of, a cricketer whose presence would raise the intensity of the contest. He lived every ball, competed each moment, and made sure he had the fitness and strength to do so. He was widely credited for [...] Alphabetically sorted top ten of players who have played the most matches across formats in the last 12 months\\nOverview\\nStats\\nRecords\\nMatches\\nVideos\\nNews\\nPhotos\\nFull Name\\nVirat Kohli\\nBorn\\nNovember 05, 1988, Delhi\\nAge\\n36y 95d\\nBatting Style\\nRight hand Bat\\nBowling Style\\nRight arm Medium\\nPlaying Role\\nTop order Batter\\nTEAMS\",\n",
       "  'score': 0.7036111},\n",
       " {'title': 'Virat Kohli Profile - ICC Ranking, Age, Career Info & Stats',\n",
       "  'url': 'https://www.cricbuzz.com/profiles/1413/virat-kohli',\n",
       "  'content': \"vs Mumbai Indians, Oct 09 at 2011 at MA Chidambaram Stadium\\nProfile\\nA spunky, chubby teenager with gelled hair shot to fame after leading India to glory in the Under-19 World Cup at Kuala Lumpur in early 2008. In an Indian team filled with saint-like icons worthy of their own hagiographies, Virat Kohli, with his most un-Indian, 'bad-boy' intensity, would clearly be an outcast.  \\nGrind through the ranks [...] Kohli has a seemingly hot head on his shoulders, but he channels all his anger while he is batting. Known to be an aggressive batsman always on the lookout for runs, he has a fairly sound , albeit slightly unconventional technique, which makes him judge the length of the ball earlier than most, and amazingly quick wrists to run his hands through the ball, even against fast bowlers. He is equally adept against pace and spin, and never looks ungainly at the crease. With nimble foot-movement\",\n",
       "  'score': 0.67269784}]"
      ]
     },
     "execution_count": 496,
     "metadata": {},
     "output_type": "execute_result"
    }
   ],
   "source": [
    "tool_mapping[tool_details[0][\"function\"][\"name\"]].invoke(json.loads(tool_details[0][\"function\"][\"arguments\"]))"
   ]
  },
  {
   "cell_type": "code",
   "execution_count": 497,
   "id": "4073561f",
   "metadata": {},
   "outputs": [],
   "source": [
    "class AgentState(TypedDict):\n",
    "    messages: Annotated[Sequence[BaseMessage],operator.add]\n",
    "    "
   ]
  },
  {
   "cell_type": "code",
   "execution_count": 498,
   "id": "ceb8e15d",
   "metadata": {},
   "outputs": [],
   "source": [
    "def invoke_model(state: AgentState):\n",
    "    messages = state[\"messages\"]\n",
    "    question = messages[-1]\n",
    "    return {\"messages\":[model_with_tools.invoke(question)]}"
   ]
  },
  {
   "cell_type": "code",
   "execution_count": 499,
   "id": "c78ae311",
   "metadata": {},
   "outputs": [],
   "source": [
    "def invoke_tool(state: AgentState):\n",
    "    tool_details = state['messages'][-1].additional_kwargs.get(\"tool_calls\",[])[0]\n",
    "\n",
    "    if tool_details is None:\n",
    "        raise Exception(\"no tool call found\")\n",
    "    \n",
    "    print(f\"selected tool: {tool_details.get(\"function\").get(\"name\")}\")\n",
    "\n",
    "    if tool_details.get(\"function\").get(\"name\") == \"search\" :\n",
    "        response = input(prompt=f\"[y/n] continue with expensive web search?\")\n",
    "\n",
    "        if response == 'n':\n",
    "            raise Exception(\"web search discard\")\n",
    "        \n",
    "    response = tool_mapping[tool_details[\"function\"][\"name\"]].invoke(json.loads(tool_details[\"function\"][\"arguments\"]))\n",
    "    return {\"messages\": [response]}"
   ]
  },
  {
   "cell_type": "code",
   "execution_count": 500,
   "id": "7c41e322",
   "metadata": {},
   "outputs": [],
   "source": [
    "def router(state):\n",
    "    tool_calls = state['messages'][-1].additional_kwargs.get(\"tool_calls\",[])\n",
    "    if len(tool_calls):\n",
    "        return \"tool\"\n",
    "    else:\n",
    "        return \"end\""
   ]
  },
  {
   "cell_type": "code",
   "execution_count": 501,
   "id": "e570b7d9",
   "metadata": {},
   "outputs": [],
   "source": [
    "graph = StateGraph(AgentState)\n",
    "\n",
    "graph.add_node(\"ai_assistant\",invoke_model)\n",
    "graph.add_node(\"tool\",invoke_tool)\n",
    "\n",
    "graph.add_conditional_edges(\"ai_assistant\",router,{\"tool\":\"tool\",\"end\":END})\n",
    "\n",
    "graph.add_edge(\"tool\",END)\n",
    "\n",
    "graph.set_entry_point(\"ai_assistant\")\n",
    "\n",
    "app = graph.compile()"
   ]
  },
  {
   "cell_type": "code",
   "execution_count": 502,
   "id": "d65a752c",
   "metadata": {},
   "outputs": [
    {
     "data": {
      "image/png": "[encoded data removed]",
      "text/plain": [
       "<IPython.core.display.Image object>"
      ]
     },
     "metadata": {},
     "output_type": "display_data"
    }
   ],
   "source": [
    "from IPython.display import Image, display\n",
    "display(Image(app.get_graph().draw_mermaid_png()))"
   ]
  },
  {
   "cell_type": "code",
   "execution_count": 503,
   "id": "8e46b447",
   "metadata": {},
   "outputs": [
    {
     "name": "stdout",
     "output_type": "stream",
     "text": [
      "{'messages': [AIMessage(content='', additional_kwargs={'tool_calls': [{'id': 'call_kd14', 'function': {'arguments': '{\"query\":\"upcoming president of USA\"}', 'name': 'search'}, 'type': 'function'}]}, response_metadata={'token_usage': {'completion_tokens': 83, 'prompt_tokens': 1075, 'total_tokens': 1158, 'completion_time': 0.150909091, 'prompt_time': 0.037575525, 'queue_time': 0.24066682, 'total_time': 0.188484616}, 'model_name': 'Gemma2-9b-It', 'system_fingerprint': 'fp_10c08bf97d', 'finish_reason': 'tool_calls', 'logprobs': None}, id='run-39d17bc6-b5fc-4937-a7ac-169a90e9467c-0', tool_calls=[{'name': 'search', 'args': {'query': 'upcoming president of USA'}, 'id': 'call_kd14', 'type': 'tool_call'}], usage_metadata={'input_tokens': 1075, 'output_tokens': 83, 'total_tokens': 1158})]}\n",
      "----\n",
      "selected tool: search\n",
      "{'messages': [[{'title': '2024 United States presidential election - Wikipedia', 'url': 'https://en.wikipedia.org/wiki/2024_United_States_presidential_election', 'content': \"2024 United States presidential election\\n\\n\\n\\n\\nPresidential elections were held in the United States on November 5, 2024.[a] The Republican Party's ticket—Donald Trump, who was the 45th president of the United States from 2017 to 2021, and JD Vance, the junior U.S. senator from Ohio—defeated the Democratic Party's ticket—Kamala Harris, the incumbent vice president, and Tim Walz, the 41st governor of Minnesota.[6][7]\\n\\nJoe Biden\\nDemocratic\\n\\nDonald Trump\\nRepublican [...] The incumbent president, Joe Biden of the Democratic Party, initially ran for re-election as the party's presumptive nominee,[8] facing little opposition and easily defeating Representative Dean Phillips during the Democratic primaries;[9] however, what was broadly considered a poor debate performance in June 2024 intensified concerns about his age and health, and led to calls within his party for him to leave the race.[10] After initially declining to do so, Biden withdrew on July 21, becoming [...] Republican to have won the popular vote since George H. W. Bush in 1988.[26][632] Trump improved his percentage of the vote in every state and DC compared to the 2020 election;[633] 2024 was the first presidential election since 1976 in which all 50 states and DC shifted to the same party.[634][635] Trump numerically performed with 49.8% of the vote, one of the smallest margins of victory since 1888, with his 1.48%[636][637] victory smaller than every winning president other than two: John F.\", 'score': 0.7935067}, {'title': 'United States presidential election of 2024 - Britannica', 'url': 'https://www.britannica.com/event/United-States-presidential-election-of-2024', 'content': \"United States presidential election of 2024, American election, held on November 5, 2024, in which former Republican president Donald Trump (2017–21) defeated the Democratic nominee, Vice Pres. Kamala Harris. Trump, who lost his bid for reelection in 2020 to Democrat Joe Biden, is the first U.S. president to be elected to two nonconsecutive terms since Grover Cleveland, the 22nd and 24th president of the United States (1885–89 and 1893–97). Having been convicted of a felony crime in May 2024, [...] Date:\\nNovember 5, 2024\\n(Show\\xa0more)\\nLocation:\\nUnited States\\n(Show\\xa0more)\\nKey People:\\nDonald Trump\\nKamala Harris\\nMarianne Williamson\\nRobert F. Kennedy, Jr.\\nVivek Ramaswamy\\n(Show\\xa0more)\\nSee all related content\\nNews •\\nTrump's swearing-in will move inside the Capitol Rotunda because of intense cold weather • Jan. 17, 2025, 5:31 PM ET (AP)\\nShow less [...] Numerous polls conducted shortly before the November election indicated that Harris and Trump were neck and neck both nationally and in swing states. When vote counting began on election day (November 5, 2024), however, most of the polls proved to be inaccurate: Trump won both the national popular vote and the projected Electoral College vote, capturing all seven swing states.\\nTracy Grant Brian Duignan\", 'score': 0.7311551}, {'title': '2024 United States elections - Wikipedia', 'url': 'https://en.wikipedia.org/wiki/2024_United_States_elections', 'content': 'The 2024 United States elections were held on Tuesday, November 5, 2024. In the presidential election, former Republican President Donald Trump, seeking a non-consecutive second term, defeated the incumbent Democratic Vice President Kamala Harris. Republicans also gained control of the Senate and held narrow control of the House of Representatives, winning a government trifecta for the first time since 2016. This was the first time since 1980 that Republicans flipped control of a chamber of [...] ^ Fabian, Jordan; Korte, Gregory (July 22, 2024). \"Harris Crosses Delegate Threshold in Sign Nomination Is Hers\". Bloomberg. Archived from the original on July 23, 2024. Retrieved July 22, 2024.\\n^ Kim, Seung Min (August 5, 2024). \"Kamala Harris is now Democratic presidential nominee, will face off against Donald Trump this fall\". Associated Press. Archived from the original on August 8, 2024. Retrieved August 16, 2024. [...] In November 2022, former President Donald Trump announced his candidacy in the 2024 presidential election.[61] Other candidates who entered the 2024 Republican Party presidential primaries include former South Carolina governor and former U.S. Ambassador to the U.N. Nikki Haley and Governor Ron DeSantis of Florida, who later suspended their campaigns and endorsed Trump.[62] The first Republican presidential debate was held on August 23, 2023, and the first primary contest was the 2024 Iowa', 'score': 0.70531887}, {'title': 'Donald Trump defeats Kamala Harris to become the next U.S. ...', 'url': 'https://www.nbcnews.com/politics/2024-election/trump-wins-election-president-harris-defeat-2024-race-rcna176107', 'content': \"Politics\\nU.S. News\\nWorld\\nBusiness\\nEditors' picks\\nShopping\\nTipline\\nSports\\nHealth\\nScience\\nCulture & Trends\\n\\n2024 Election\\nDonald Trump defeats Kamala Harris to become the next U.S. president, NBC News projects\\nTrump will make history as the 45th and now 47th president, NBC News projects, saying he will fix an ailing country and despite warnings he will rule as an authoritarian.\\nGet more newson [...] /\\xa0Updated\\xa0\\nBy Jonathan Allen\\nDonald J. Trump, the once and now future president, capped an improbable political comeback by defeating Vice President Kamala Harris on promises to turbocharge the economy and deport undocumented immigrants by the millions. [...] By that time, several Republican hopefuls, most notably Florida Gov. Ron DeSantis and former U.N. Ambassador Nikki Haley, were eyeing primary challenges. Some Republicans blamed Trump for picking winners in primaries who went on to lose marquee Senate elections, depriving the GOP of a majority in the upper chamber. In December 2022, several national surveys showed DeSantis leading Trump by wide margins in a hypothetical head-to-head matchup.\", 'score': 0.6279746}, {'title': 'When will Donald Trump take office as US president? - BBC', 'url': 'https://www.bbc.com/news/articles/cde7ng85jwgo', 'content': \"Home\\nNews\\nSport\\nBusiness\\nInnovation\\nCulture\\nArts\\nTravel\\nEarth\\nVideo\\nLive\\nAudio\\nWeather\\nNewsletters\\nWhen will Donald Trump take office as US president?\\n7 January 2025\\nJennifer Clarke\\nBBC News\\nReuters\\nRepublican Donald Trump will be the next US president, after he defeated Democrat Kamala Harris in November's election.\\nTrump previously served as US president between 2017 and 2021.\\nIs Donald Trump president yet? [...] North America correspondent Anthony Zurcher makes sense of US politics in his twice-weekly US Election Unspun newsletter. Readers in the UK can sign up here. Those outside the UK can sign up here.\\nJD Vance\\nUS election 2024\\nDonald Trump\\nUS politics\\nUnited States\\nJoe Biden\", 'score': 0.59344494}]]}\n",
      "----\n"
     ]
    }
   ],
   "source": [
    "for s in app.stream({\"messages\": [\"who is upcoming president of USA?\"]}):\n",
    "    print(list(s.values())[0])\n",
    "    print(\"----\")"
   ]
  },
  {
   "cell_type": "code",
   "execution_count": 504,
   "id": "6223417c",
   "metadata": {},
   "outputs": [
    {
     "name": "stdout",
     "output_type": "stream",
     "text": [
      "{'messages': [AIMessage(content='', additional_kwargs={'tool_calls': [{'id': 'call_fqtb', 'function': {'arguments': '{\"first_number\":23,\"second_number\":46}', 'name': 'multiply'}, 'type': 'function'}]}, response_metadata={'token_usage': {'completion_tokens': 93, 'prompt_tokens': 1080, 'total_tokens': 1173, 'completion_time': 0.169090909, 'prompt_time': 0.037614745, 'queue_time': 0.23472023399999997, 'total_time': 0.206705654}, 'model_name': 'Gemma2-9b-It', 'system_fingerprint': 'fp_10c08bf97d', 'finish_reason': 'tool_calls', 'logprobs': None}, id='run-e19fd407-14ba-411e-b1c2-e02d49151b4c-0', tool_calls=[{'name': 'multiply', 'args': {'first_number': 23, 'second_number': 46}, 'id': 'call_fqtb', 'type': 'tool_call'}], usage_metadata={'input_tokens': 1080, 'output_tokens': 93, 'total_tokens': 1173})]}\n",
      "----\n",
      "selected tool: multiply\n",
      "{'messages': [1058]}\n",
      "----\n"
     ]
    }
   ],
   "source": [
    "for s in app.stream({\"messages\": [\"what is multiplication of 23 and 46?\"]}):\n",
    "    print(list(s.values())[0])\n",
    "    print(\"----\")"
   ]
  },
  {
   "cell_type": "markdown",
   "id": "e9b98369",
   "metadata": {},
   "source": [
    "LangGraph supports human-in-the-loop workflows in a number of ways. In this section, we will use LangGraph's interrupt_before functionality to always break the tool node."
   ]
  },
  {
   "cell_type": "code",
   "execution_count": 505,
   "id": "e93834d3",
   "metadata": {},
   "outputs": [],
   "source": [
    "from langchain_groq import ChatGroq\n",
    "llm = ChatGroq(model_name=\"Gemma2-9b-It\")"
   ]
  },
  {
   "cell_type": "code",
   "execution_count": 506,
   "id": "21d20f9b",
   "metadata": {},
   "outputs": [],
   "source": [
    "tavily = TavilySearchResults()\n",
    "\n",
    "tools = [tavily,search,multiply]"
   ]
  },
  {
   "cell_type": "code",
   "execution_count": 507,
   "id": "89792427",
   "metadata": {},
   "outputs": [],
   "source": [
    "llm_with_tools = llm.bind_tools(tools)"
   ]
  },
  {
   "cell_type": "code",
   "execution_count": 508,
   "id": "d7f4dbdb",
   "metadata": {},
   "outputs": [],
   "source": [
    "class AgentState(TypedDict):\n",
    "    messages: Annotated[list,add_messages]"
   ]
  },
  {
   "cell_type": "code",
   "execution_count": 509,
   "id": "d279cc82",
   "metadata": {},
   "outputs": [],
   "source": [
    "def ai_assistant(state: AgentState):\n",
    "    return {\"messages\":[llm_with_tools.invoke(state[\"messages\"])]}"
   ]
  },
  {
   "cell_type": "code",
   "execution_count": 510,
   "id": "2bef30ed",
   "metadata": {},
   "outputs": [],
   "source": [
    "memory = MemorySaver()"
   ]
  },
  {
   "cell_type": "code",
   "execution_count": 511,
   "id": "f968b6f4",
   "metadata": {},
   "outputs": [],
   "source": [
    "graph = StateGraph(AgentState)\n",
    "\n",
    "graph.add_node(\"ai_assistant\",ai_assistant)\n",
    "\n",
    "tool_node = ToolNode(tools=tools)\n",
    "graph.add_node(\"tools\",tool_node)\n",
    "\n",
    "graph.add_edge(START,\"ai_assistant\")\n",
    "graph.add_conditional_edges(\n",
    "    \"ai_assistant\",\n",
    "    tools_condition,\n",
    ")\n",
    "graph.add_edge(\"tools\",\"ai_assistant\")\n",
    "\n",
    "app2 = graph.compile(checkpointer=memory,interrupt_before=[\"tools\"])"
   ]
  },
  {
   "cell_type": "code",
   "execution_count": 512,
   "id": "9aead4e7",
   "metadata": {},
   "outputs": [
    {
     "data": {
      "image/png": "[encoded data removed]",
      "text/plain": [
       "<IPython.core.display.Image object>"
      ]
     },
     "metadata": {},
     "output_type": "display_data"
    }
   ],
   "source": [
    "from IPython.display import Image, display\n",
    "display(Image(app2.get_graph().draw_mermaid_png()))"
   ]
  },
  {
   "cell_type": "code",
   "execution_count": 513,
   "id": "9623891e",
   "metadata": {},
   "outputs": [],
   "source": [
    "user_input = \"what is current a capital of india?\"\n",
    "config = {\"configurable\":{\"thread_id\":\"1\"}}"
   ]
  },
  {
   "cell_type": "code",
   "execution_count": 514,
   "id": "8abc3850",
   "metadata": {},
   "outputs": [],
   "source": [
    "events = app2.stream(\n",
    "    {\"messages\":[(\"user\",user_input)]},config,stream_mode=\"values\"\n",
    ")"
   ]
  },
  {
   "cell_type": "code",
   "execution_count": 515,
   "id": "5bd42d8d",
   "metadata": {},
   "outputs": [
    {
     "name": "stdout",
     "output_type": "stream",
     "text": [
      "================================\u001b[1m Human Message \u001b[0m=================================\n",
      "\n",
      "what is current a capital of india?\n",
      "==================================\u001b[1m Ai Message \u001b[0m==================================\n",
      "Tool Calls:\n",
      "  tavily_search_results_json (call_dvh9)\n",
      " Call ID: call_dvh9\n",
      "  Args:\n",
      "    query: what is the capital of india\n"
     ]
    }
   ],
   "source": [
    "for event in events:\n",
    "    if \"messages\" in event:\n",
    "        event[\"messages\"][-1].pretty_print()"
   ]
  },
  {
   "cell_type": "code",
   "execution_count": 516,
   "id": "9618c26b",
   "metadata": {},
   "outputs": [],
   "source": [
    "snapshot = app2.get_state(config)"
   ]
  },
  {
   "cell_type": "code",
   "execution_count": 517,
   "id": "80bcef21",
   "metadata": {},
   "outputs": [
    {
     "data": {
      "text/plain": [
       "('tools',)"
      ]
     },
     "execution_count": 517,
     "metadata": {},
     "output_type": "execute_result"
    }
   ],
   "source": [
    "snapshot.next"
   ]
  },
  {
   "cell_type": "code",
   "execution_count": 518,
   "id": "88dd0066",
   "metadata": {},
   "outputs": [],
   "source": [
    "last_message = snapshot.values[\"messages\"][-1]"
   ]
  },
  {
   "cell_type": "code",
   "execution_count": 519,
   "id": "cfc8a847",
   "metadata": {},
   "outputs": [
    {
     "data": {
      "text/plain": [
       "[{'name': 'tavily_search_results_json',\n",
       "  'args': {'query': 'what is the capital of india'},\n",
       "  'id': 'call_dvh9',\n",
       "  'type': 'tool_call'}]"
      ]
     },
     "execution_count": 519,
     "metadata": {},
     "output_type": "execute_result"
    }
   ],
   "source": [
    "last_message.tool_calls"
   ]
  },
  {
   "cell_type": "code",
   "execution_count": 520,
   "id": "a9f239b6",
   "metadata": {},
   "outputs": [],
   "source": [
    "events = app2.stream(None,config, stream_mode=\"values\")"
   ]
  },
  {
   "cell_type": "code",
   "execution_count": 521,
   "id": "9560d880",
   "metadata": {},
   "outputs": [
    {
     "name": "stdout",
     "output_type": "stream",
     "text": [
      "==================================\u001b[1m Ai Message \u001b[0m==================================\n",
      "Tool Calls:\n",
      "  tavily_search_results_json (call_dvh9)\n",
      " Call ID: call_dvh9\n",
      "  Args:\n",
      "    query: what is the capital of india\n",
      "=================================\u001b[1m Tool Message \u001b[0m=================================\n",
      "Name: tavily_search_results_json\n",
      "\n",
      "[{\"title\": \"What is the capital of India? States and union territories explained.\", \"url\": \"https://www.usatoday.com/story/news/world/2023/05/24/what-is-the-capital-of-india/70195720007/\", \"content\": \"The capital of India is New Delhi, located in the north-central part of the country to the west of the Yamuna River. Calcutta (now Kolkata, the\", \"score\": 0.9018604}, {\"title\": \"Which City became the capital of India for a day, Check here\", \"url\": \"https://www.jagranjosh.com/general-knowledge/which-city-became-the-capital-of-india-for-a-day-1731421925-1\", \"content\": \"one day capital of India\\nIf someone asks you what is the capital of India, you will answer that it is New Delhi, which the British established. In Indian history, the capital of the country changed many times and different cities got the honour of becoming the capital of the country. [...] Which City became the Capital of India for a Day, Check Here\\nIf you are asked what the capital of India is, your answer will be New Delhi, which was settled by the British. Do you know that once in Indian history, a district was made the capital of the country? However, this incident lasted only for a day, after which it was recorded in the pages of history forever. This article will introduce you to one such district in India.\\n\\nByKishan Kumar\\nNov 12, 2024, 20:03 IST [...] After making Kolkata its capital, on 12 December 1912, New Delhi was declared as the capital of the country in the presence of George V. Since then, the name of New Delhi has been associated with the capital of the country.\\nAbout the Author\", \"score\": 0.8963332}, {\"title\": \"List of capitals of India - Wikipedia\", \"url\": \"https://en.wikipedia.org/wiki/List_of_capitals_of_India\", \"content\": \"Find sources: \\\"List of capitals of India\\\" – news · newspapers · books · scholar · JSTOR (September 2012) (Learn how and when to remove this message)\\nThis is a list of locations which have served as capital cities in India. The current capital city is New Delhi, which replaced Calcutta in 1911.\\nAncient period[edit]\\nRajgir: Initial capital of the Magadha Empire from 6th century BCE to 460 BCE, called Girivraj at the time. [1] [...] In 1858, Allahabad (now Prayagraj) became the capital of India for a day when it also served as the capital of North-Western Provinces.[3]\\nDuring the British Raj, until 1911, Calcutta was the capital of India.[4]\\nBy the latter half of the 19th century, Shimla had become the summer capital.[5] [...] Allahabad: The city was a provincial capital in the Mughal Empire and was the headquarters of Jahangir from 1599 to 1604.[2]\\nGhor: Capital of Ghurid Sultanate\\nBudaun: Capital of Iltutmish empire.\\nKanchipuram Capital of Pallavas\\nThanjavur: Capital of Cholas\\nMurshidabad: In 1704, nawab Murshid Quli Khan changed the seat of government from Dhaka to Murshidabad, renaming it after himself.\", \"score\": 0.89030397}, {\"title\": \"Capital City of India - CountryReports.org\", \"url\": \"https://www.countryreports.org/country/India/capital-city.htm\", \"content\": \"India\\nOverview\\nPeople\\nGovernment - Politics\\n- Government - Politics\\n- Capital City\\n- National Defense\\nGeography\\nEnvironment & Climate\\nEconomy\\nNews - Weather\\nHistory\\nNational Symbols\\nPhotos\\nVideos\\nTravel and Tourism\\nEspanol- traducción automática\\nLink-to-CountryReports\\nSources\\n \\nUnited States Edition\\nVideo Library\\nCountryReports\\nCountries\\nActivities\\nSign In\\nWhat is the Capital of India?\\nCapital City    New Delhi\\nCapital location    28 36 N, 77 12 E [...] of the latter designated as New Delhi; the new capital was not formally inaugurated until 1931. [...] Capital - history   the city's name is associated with various myths and legends; the original name for the city may have been Dhilli or Dhillika; alternatively, the name could be a corruption of the Hindustani words \\\"dehleez\\\" or \\\"dehali\\\" - both terms meaning \\\"threshold\\\" or \\\"gateway\\\" - and indicative of the city as a gateway to the Gangetic Plain; after the British decided to move the capital of their Indian Empire from Calcutta to Delhi in 1911, they created a new governmental district south\", \"score\": 0.8893851}, {\"title\": \"Capital of India - Definition, Meaning & Synonyms - Vocabulary.com\", \"url\": \"https://www.vocabulary.com/dictionary/capital%20of%20India\", \"content\": \"Capital of India - Definition, Meaning & Synonyms | Vocabulary.com\\nSKIP TO CONTENT\\n\\n\\nDictionary\\nVocabulary Lists\\nVocabTrainer™\\n\\ncapital of India\\nOther forms: capitals of India\\nDefinitions of capital of India\\n\\n\\nnoun\\nthe capital of India is a division of the old city of Delhi\\nsynonyms: Indian capital, New Delhi\\nsee moresee less\\nexample of:\\nnational capital\\nthe capital city of a nation\\n\\n\\nCite this entry\\nStyle:\\nMLA\\n\\nMLA\\nAPA\\nChicago\", \"score\": 0.86767644}]\n",
      "==================================\u001b[1m Ai Message \u001b[0m==================================\n",
      "Tool Calls:\n",
      "  search (call_yb8d)\n",
      " Call ID: call_yb8d\n",
      "  Args:\n",
      "    query: New Delhi\n"
     ]
    }
   ],
   "source": [
    "for event in events:\n",
    "    if \"messages\" in event:\n",
    "        event[\"messages\"][-1].pretty_print()"
   ]
  },
  {
   "cell_type": "code",
   "execution_count": 522,
   "id": "2216c8db",
   "metadata": {},
   "outputs": [],
   "source": [
    "user_input = \"what is a weather there?\"\n",
    "\n",
    "config = {\"configurable\": {\"thread_id\": \"1\"}}"
   ]
  },
  {
   "cell_type": "code",
   "execution_count": 523,
   "id": "9f772178",
   "metadata": {},
   "outputs": [],
   "source": [
    "events = app2.stream(\n",
    "    {\"messages\": [(\"user\", user_input)]}, config, stream_mode=\"values\"\n",
    ")"
   ]
  },
  {
   "cell_type": "code",
   "execution_count": 524,
   "id": "72bb3b16",
   "metadata": {},
   "outputs": [
    {
     "name": "stdout",
     "output_type": "stream",
     "text": [
      "================================\u001b[1m Human Message \u001b[0m=================================\n",
      "\n",
      "what is a weather there?\n",
      "==================================\u001b[1m Ai Message \u001b[0m==================================\n",
      "Tool Calls:\n",
      "  search (call_17qs)\n",
      " Call ID: call_17qs\n",
      "  Args:\n",
      "    query: weather in New Delhi\n"
     ]
    }
   ],
   "source": [
    "for event in events:\n",
    "    if \"messages\" in event:\n",
    "        event[\"messages\"][-1].pretty_print()"
   ]
  },
  {
   "cell_type": "code",
   "execution_count": 525,
   "id": "4bb9bb2b",
   "metadata": {},
   "outputs": [],
   "source": [
    "snapshot = app2.get_state(config)"
   ]
  },
  {
   "cell_type": "code",
   "execution_count": 526,
   "id": "037345ea",
   "metadata": {},
   "outputs": [
    {
     "data": {
      "text/plain": [
       "('tools',)"
      ]
     },
     "execution_count": 526,
     "metadata": {},
     "output_type": "execute_result"
    }
   ],
   "source": [
    "snapshot.next"
   ]
  },
  {
   "cell_type": "code",
   "execution_count": 527,
   "id": "a818b4b8",
   "metadata": {},
   "outputs": [],
   "source": [
    "last_message=snapshot.values[\"messages\"][-1]"
   ]
  },
  {
   "cell_type": "code",
   "execution_count": 528,
   "id": "416f1325",
   "metadata": {},
   "outputs": [
    {
     "data": {
      "text/plain": [
       "[{'name': 'search',\n",
       "  'args': {'query': 'weather in New Delhi'},\n",
       "  'id': 'call_17qs',\n",
       "  'type': 'tool_call'}]"
      ]
     },
     "execution_count": 528,
     "metadata": {},
     "output_type": "execute_result"
    }
   ],
   "source": [
    "last_message.tool_calls"
   ]
  },
  {
   "cell_type": "code",
   "execution_count": 529,
   "id": "39cee1ff",
   "metadata": {},
   "outputs": [],
   "source": [
    "events = app2.stream(None, config, stream_mode=\"values\")"
   ]
  },
  {
   "cell_type": "code",
   "execution_count": 530,
   "id": "1195ff95",
   "metadata": {},
   "outputs": [
    {
     "name": "stdout",
     "output_type": "stream",
     "text": [
      "==================================\u001b[1m Ai Message \u001b[0m==================================\n",
      "Tool Calls:\n",
      "  search (call_17qs)\n",
      " Call ID: call_17qs\n",
      "  Args:\n",
      "    query: weather in New Delhi\n",
      "=================================\u001b[1m Tool Message \u001b[0m=================================\n",
      "Name: search\n",
      "\n",
      "[{\"title\": \"Weather in New Delhi\", \"url\": \"https://www.weatherapi.com/\", \"content\": \"{'location': {'name': 'New Delhi', 'region': 'Delhi', 'country': 'India', 'lat': 28.6, 'lon': 77.2, 'tz_id': 'Asia/Kolkata', 'localtime_epoch': 1744433870, 'localtime': '2025-04-12 10:27'}, 'current': {'last_updated_epoch': 1744433100, 'last_updated': '2025-04-12 10:15', 'temp_c': 27.4, 'temp_f': 81.3, 'is_day': 1, 'condition': {'text': 'Mist', 'icon': '//cdn.weatherapi.com/weather/64x64/day/143.png', 'code': 1030}, 'wind_mph': 6.0, 'wind_kph': 9.7, 'wind_degree': 153, 'wind_dir': 'SSE', 'pressure_mb': 1009.0, 'pressure_in': 29.8, 'precip_mm': 0.0, 'precip_in': 0.0, 'humidity': 51, 'cloud': 0, 'feelslike_c': 25.8, 'feelslike_f': 78.5, 'windchill_c': 34.8, 'windchill_f': 94.6, 'heatindex_c': 33.4, 'heatindex_f': 92.2, 'dewpoint_c': 10.6, 'dewpoint_f': 51.0, 'vis_km': 4.0, 'vis_miles': 2.0, 'uv': 6.1, 'gust_mph': 7.0, 'gust_kph': 11.2}}\", \"score\": 0.972317}, {\"title\": \"Weather New Delhi in April 2025: Temperature & Climate\", \"url\": \"https://en.climate-data.org/asia/india/delhi/new-delhi-30/t/april-4/\", \"content\": \"Are you planning a holiday with hopefully nice weather in New Delhi in April 2025? ... 12. April, 28 °C | 83 °F, 36 °C | 96 °F, 20 °C | 68 °F, 2.7 mm | 0.1 inch.\", \"score\": 0.95078254}, {\"title\": \"Weather in Delhi in April 2025 - Detailed Forecast\", \"url\": \"https://www.easeweather.com/asia/india/delhi/april\", \"content\": \"Partly cloudy\\n| 37° /22° | 0 mm | 9 |  |\\n| 11 Apr. | \\nPartly cloudy\\n| 39° /24° | 0 mm | 10 |  |\\n| 12 Apr. | \\nSunny\\n| 39° /26° | 0 mm | 9 |  |\\n| 13 Apr. | \\nPartly cloudy\\n| 39° /26° | 0.6 mm | 9 |  |\\n| 14 Apr. | \\nCloudy\\n| 39° /25° | 0.5 mm | 9 |  |\\n| 15 Apr. | \\nSunny\\n| 39° /27° | 0 mm | 9 |  |\\n| 16 Apr. | \\nSunny\\n| 39° /26° | 0 mm | 10 |  |\\n| 17 Apr. | \\nSunny\\n| 39° /26° | 0 mm | 10 |  |\\n| 18 Apr. | \\nSunny\\n| 40° /27° | 0 mm | 10 |  |\\n| 19 Apr. | \\nCloudy\\n| 39° /27° | 0 mm | 9 |  |\\n| 20 Apr. | [...] 4\\nRainy days\\n\\n0\\nSnow days\\n\\n37°/25°\\nTemperatures\\n\\n17 km/h\\nAvg max wind\\n\\n17 %\\nAvg humidity [...] April in Delhi, India, marks the transition from spring to the onset of summer, characterized by a noticeable rise in temperatures and a shift in weather patterns. At the beginning of the month, the weather is relatively mild, with average daytime temperatures hovering around 25° to 30°.\", \"score\": 0.8900749}, {\"title\": \"Delhi weather in April 2025 | Delhi 14 day weather - Weather25.com\", \"url\": \"https://www.weather25.com/asia/india/delhi?page=month&month=April\", \"content\": \"Location was added to My Locations\\nLocation was removed from My Locations\\nMarch\\nMay\\nDelhi weather in April 2025\\nThe temperatures in Delhi during April are extremely high, between 27°C and hot as 39°C, drinking water regularly is advisable.\\nYou can expect a few rainy days in Delhi during April, but usually the weather is comfortable in April.\\nOur weather forecast can give you a great sense of what weather to expect in Delhi in April 2025. [...] | Sun | Mon | Tue | Wed | Thu | Fri | Sat |\\n| --- | --- | --- | --- | --- | --- | --- |\\n| \\n | \\n| 1  37° /23° | 2  37° /23° | 3  40° /25° | 4  39° /25° | 5  40° /26° |\\n| 6  40° /25° | 7  40° /26° | 8  40° /26° | 9  40° /26° | 10  41° /27° | 11  41° /28° | 12  41° /28° |\\n| 13  42° /29° | 14  41° /30° | 15  40° /30° | 16  40° /28° | 17  41° /26° | 18  43° /29° | 19  41° /29° |\\n| 20  39° /28° | 21  39° /28° | 22  40° /27° | 23  41° /28° | 24  40° /28° | 25  41° /28° | 26  42° /30° | [...] Temperatures\\n39° / 27°\\n\\nRainy Days\\n1\\n\\nSnowy Days\\n0\\n\\nDry Days\\n29\\n\\nRainfall\\n15\\nmm\\n\\nSun Hours\\n11.9\\nHrs\\nHistoric average weather for April\\n\\nApril\", \"score\": 0.8708723}, {\"title\": \"New Delhi weather in April 2025 | India: How hot?\", \"url\": \"https://www.weather2travel.com/india/new-delhi/april/\", \"content\": \"New Delhi weather in April 2025. Expect daytime maximum temperatures of 36°C in New Delhi, India in April and very high heat and humidity based on long-term\", \"score\": 0.8684817}]\n",
      "==================================\u001b[1m Ai Message \u001b[0m==================================\n",
      "Tool Calls:\n",
      "  search (call_bqpm)\n",
      " Call ID: call_bqpm\n",
      "  Args:\n",
      "    query: weather in New Delhi\n"
     ]
    }
   ],
   "source": [
    "for event in events:\n",
    "    if \"messages\" in event:\n",
    "        event[\"messages\"][-1].pretty_print()"
   ]
  },
  {
   "cell_type": "code",
   "execution_count": 531,
   "id": "7a3a03f9",
   "metadata": {},
   "outputs": [
    {
     "data": {
      "text/plain": [
       "StateSnapshot(values={'messages': [HumanMessage(content='what is current a capital of india?', additional_kwargs={}, response_metadata={}, id='bdc0ef31-59d3-4fa2-9462-db161b48e63d'), AIMessage(content='', additional_kwargs={'tool_calls': [{'id': 'call_dvh9', 'function': {'arguments': '{\"query\":\"what is the capital of india\"}', 'name': 'tavily_search_results_json'}, 'type': 'function'}]}, response_metadata={'token_usage': {'completion_tokens': 92, 'prompt_tokens': 1221, 'total_tokens': 1313, 'completion_time': 0.167272727, 'prompt_time': 0.044007303, 'queue_time': 0.23339222599999998, 'total_time': 0.21128003}, 'model_name': 'Gemma2-9b-It', 'system_fingerprint': 'fp_10c08bf97d', 'finish_reason': 'tool_calls', 'logprobs': None}, id='run-0ab90675-0bc8-4e61-bf11-829a7c2e235a-0', tool_calls=[{'name': 'tavily_search_results_json', 'args': {'query': 'what is the capital of india'}, 'id': 'call_dvh9', 'type': 'tool_call'}], usage_metadata={'input_tokens': 1221, 'output_tokens': 92, 'total_tokens': 1313}), ToolMessage(content='[{\"title\": \"What is the capital of India? States and union territories explained.\", \"url\": \"https://www.usatoday.com/story/news/world/2023/05/24/what-is-the-capital-of-india/70195720007/\", \"content\": \"The capital of India is New Delhi, located in the north-central part of the country to the west of the Yamuna River. Calcutta (now Kolkata, the\", \"score\": 0.9018604}, {\"title\": \"Which City became the capital of India for a day, Check here\", \"url\": \"https://www.jagranjosh.com/general-knowledge/which-city-became-the-capital-of-india-for-a-day-1731421925-1\", \"content\": \"one day capital of India\\\\nIf someone asks you what is the capital of India, you will answer that it is New Delhi, which the British established. In Indian history, the capital of the country changed many times and different cities got the honour of becoming the capital of the country. [...] Which City became the Capital of India for a Day, Check Here\\\\nIf you are asked what the capital of India is, your answer will be New Delhi, which was settled by the British. Do you know that once in Indian history, a district was made the capital of the country? However, this incident lasted only for a day, after which it was recorded in the pages of history forever. This article will introduce you to one such district in India.\\\\n\\\\nByKishan Kumar\\\\nNov 12, 2024, 20:03 IST [...] After making Kolkata its capital, on 12 December 1912, New Delhi was declared as the capital of the country in the presence of George V. Since then, the name of New Delhi has been associated with the capital of the country.\\\\nAbout the Author\", \"score\": 0.8963332}, {\"title\": \"List of capitals of India - Wikipedia\", \"url\": \"https://en.wikipedia.org/wiki/List_of_capitals_of_India\", \"content\": \"Find sources:\\xa0\\\\\"List of capitals of India\\\\\"\\xa0–\\xa0news\\xa0· newspapers\\xa0· books\\xa0· scholar\\xa0· JSTOR (September 2012) (Learn how and when to remove this message)\\\\nThis is a list of locations which have served as capital cities in India. The current capital city is New Delhi, which replaced Calcutta in 1911.\\\\nAncient period[edit]\\\\nRajgir: Initial capital of the Magadha Empire from 6th century BCE to 460 BCE, called Girivraj at the time. [1] [...] In 1858, Allahabad (now Prayagraj) became the capital of India for a day when it also served as the capital of North-Western Provinces.[3]\\\\nDuring the British Raj, until 1911, Calcutta was the capital of India.[4]\\\\nBy the latter half of the 19th century, Shimla had become the summer capital.[5] [...] Allahabad: The city was a provincial capital in the Mughal Empire and was the headquarters of Jahangir from 1599 to 1604.[2]\\\\nGhor: Capital of Ghurid Sultanate\\\\nBudaun: Capital of Iltutmish empire.\\\\nKanchipuram Capital of Pallavas\\\\nThanjavur: Capital of Cholas\\\\nMurshidabad: In 1704, nawab Murshid Quli Khan changed the seat of government from Dhaka to Murshidabad, renaming it after himself.\", \"score\": 0.89030397}, {\"title\": \"Capital City of India - CountryReports.org\", \"url\": \"https://www.countryreports.org/country/India/capital-city.htm\", \"content\": \"India\\\\nOverview\\\\nPeople\\\\nGovernment - Politics\\\\n- Government - Politics\\\\n- Capital City\\\\n- National Defense\\\\nGeography\\\\nEnvironment & Climate\\\\nEconomy\\\\nNews - Weather\\\\nHistory\\\\nNational Symbols\\\\nPhotos\\\\nVideos\\\\nTravel and Tourism\\\\nEspanol- traducción automática\\\\nLink-to-CountryReports\\\\nSources\\\\n\\xa0\\\\nUnited States Edition\\\\nVideo Library\\\\nCountryReports\\\\nCountries\\\\nActivities\\\\nSign In\\\\nWhat is the Capital of India?\\\\nCapital City    New Delhi\\\\nCapital location    28 36 N, 77 12 E [...] of the latter designated as New Delhi; the new capital was not formally inaugurated until 1931. [...] Capital - history   the city\\'s name is associated with various myths and legends; the original name for the city may have been Dhilli or Dhillika; alternatively, the name could be a corruption of the Hindustani words \\\\\"dehleez\\\\\" or \\\\\"dehali\\\\\" - both terms meaning \\\\\"threshold\\\\\" or \\\\\"gateway\\\\\" - and indicative of the city as a gateway to the Gangetic Plain; after the British decided to move the capital of their Indian Empire from Calcutta to Delhi in 1911, they created a new governmental district south\", \"score\": 0.8893851}, {\"title\": \"Capital of India - Definition, Meaning & Synonyms - Vocabulary.com\", \"url\": \"https://www.vocabulary.com/dictionary/capital%20of%20India\", \"content\": \"Capital of India - Definition, Meaning & Synonyms | Vocabulary.com\\\\nSKIP TO CONTENT\\\\n\\\\n\\\\nDictionary\\\\nVocabulary Lists\\\\nVocabTrainer™\\\\n\\\\ncapital of India\\\\nOther forms: capitals of India\\\\nDefinitions of capital of India\\\\n\\\\n\\\\nnoun\\\\nthe capital of India is a division of the old city of Delhi\\\\nsynonyms: Indian capital, New Delhi\\\\nsee moresee less\\\\nexample of:\\\\nnational capital\\\\nthe capital city of a nation\\\\n\\\\n\\\\nCite this entry\\\\nStyle:\\\\nMLA\\\\n\\\\nMLA\\\\nAPA\\\\nChicago\", \"score\": 0.86767644}]', name='tavily_search_results_json', id='2341123c-eac6-402f-a921-8281e2b70e7d', tool_call_id='call_dvh9', artifact={'query': 'what is the capital of india', 'follow_up_questions': None, 'answer': None, 'images': [], 'results': [{'url': 'https://www.usatoday.com/story/news/world/2023/05/24/what-is-the-capital-of-india/70195720007/', 'title': 'What is the capital of India? States and union territories explained.', 'content': 'The capital of India is New Delhi, located in the north-central part of the country to the west of the Yamuna River. Calcutta (now Kolkata, the', 'score': 0.9018604, 'raw_content': None}, {'url': 'https://www.jagranjosh.com/general-knowledge/which-city-became-the-capital-of-india-for-a-day-1731421925-1', 'title': 'Which City became the capital of India for a day, Check here', 'content': 'one day capital of India\\nIf someone asks you what is the capital of India, you will answer that it is New Delhi, which the British established. In Indian history, the capital of the country changed many times and different cities got the honour of becoming the capital of the country. [...] Which City became the Capital of India for a Day, Check Here\\nIf you are asked what the capital of India is, your answer will be New Delhi, which was settled by the British. Do you know that once in Indian history, a district was made the capital of the country? However, this incident lasted only for a day, after which it was recorded in the pages of history forever. This article will introduce you to one such district in India.\\n\\nByKishan Kumar\\nNov 12, 2024, 20:03 IST [...] After making Kolkata its capital, on 12 December 1912, New Delhi was declared as the capital of the country in the presence of George V. Since then, the name of New Delhi has been associated with the capital of the country.\\nAbout the Author', 'score': 0.8963332, 'raw_content': None}, {'url': 'https://en.wikipedia.org/wiki/List_of_capitals_of_India', 'title': 'List of capitals of India - Wikipedia', 'content': 'Find sources:\\xa0\"List of capitals of India\"\\xa0–\\xa0news\\xa0· newspapers\\xa0· books\\xa0· scholar\\xa0· JSTOR (September 2012) (Learn how and when to remove this message)\\nThis is a list of locations which have served as capital cities in India. The current capital city is New Delhi, which replaced Calcutta in 1911.\\nAncient period[edit]\\nRajgir: Initial capital of the Magadha Empire from 6th century BCE to 460 BCE, called Girivraj at the time. [1] [...] In 1858, Allahabad (now Prayagraj) became the capital of India for a day when it also served as the capital of North-Western Provinces.[3]\\nDuring the British Raj, until 1911, Calcutta was the capital of India.[4]\\nBy the latter half of the 19th century, Shimla had become the summer capital.[5] [...] Allahabad: The city was a provincial capital in the Mughal Empire and was the headquarters of Jahangir from 1599 to 1604.[2]\\nGhor: Capital of Ghurid Sultanate\\nBudaun: Capital of Iltutmish empire.\\nKanchipuram Capital of Pallavas\\nThanjavur: Capital of Cholas\\nMurshidabad: In 1704, nawab Murshid Quli Khan changed the seat of government from Dhaka to Murshidabad, renaming it after himself.', 'score': 0.89030397, 'raw_content': None}, {'url': 'https://www.countryreports.org/country/India/capital-city.htm', 'title': 'Capital City of India - CountryReports.org', 'content': 'India\\nOverview\\nPeople\\nGovernment - Politics\\n- Government - Politics\\n- Capital City\\n- National Defense\\nGeography\\nEnvironment & Climate\\nEconomy\\nNews - Weather\\nHistory\\nNational Symbols\\nPhotos\\nVideos\\nTravel and Tourism\\nEspanol- traducción automática\\nLink-to-CountryReports\\nSources\\n\\xa0\\nUnited States Edition\\nVideo Library\\nCountryReports\\nCountries\\nActivities\\nSign In\\nWhat is the Capital of India?\\nCapital City    New Delhi\\nCapital location    28 36 N, 77 12 E [...] of the latter designated as New Delhi; the new capital was not formally inaugurated until 1931. [...] Capital - history   the city\\'s name is associated with various myths and legends; the original name for the city may have been Dhilli or Dhillika; alternatively, the name could be a corruption of the Hindustani words \"dehleez\" or \"dehali\" - both terms meaning \"threshold\" or \"gateway\" - and indicative of the city as a gateway to the Gangetic Plain; after the British decided to move the capital of their Indian Empire from Calcutta to Delhi in 1911, they created a new governmental district south', 'score': 0.8893851, 'raw_content': None}, {'url': 'https://www.vocabulary.com/dictionary/capital%20of%20India', 'title': 'Capital of India - Definition, Meaning & Synonyms - Vocabulary.com', 'content': 'Capital of India - Definition, Meaning & Synonyms | Vocabulary.com\\nSKIP TO CONTENT\\n\\n\\nDictionary\\nVocabulary Lists\\nVocabTrainer™\\n\\ncapital of India\\nOther forms: capitals of India\\nDefinitions of capital of India\\n\\n\\nnoun\\nthe capital of India is a division of the old city of Delhi\\nsynonyms: Indian capital, New Delhi\\nsee moresee less\\nexample of:\\nnational capital\\nthe capital city of a nation\\n\\n\\nCite this entry\\nStyle:\\nMLA\\n\\nMLA\\nAPA\\nChicago', 'score': 0.86767644, 'raw_content': None}], 'response_time': 2.15}), AIMessage(content='', additional_kwargs={'tool_calls': [{'id': 'call_yb8d', 'function': {'arguments': '{\"query\":\"New Delhi\"}', 'name': 'search'}, 'type': 'function'}]}, response_metadata={'token_usage': {'completion_tokens': 39, 'prompt_tokens': 2654, 'total_tokens': 2693, 'completion_time': 0.070909091, 'prompt_time': 0.091310588, 'queue_time': 0.23860877300000002, 'total_time': 0.162219679}, 'model_name': 'Gemma2-9b-It', 'system_fingerprint': 'fp_10c08bf97d', 'finish_reason': 'tool_calls', 'logprobs': None}, id='run-9ab68571-a2ac-4043-b5bb-7068d08d4ec2-0', tool_calls=[{'name': 'search', 'args': {'query': 'New Delhi'}, 'id': 'call_yb8d', 'type': 'tool_call'}], usage_metadata={'input_tokens': 2654, 'output_tokens': 39, 'total_tokens': 2693}), HumanMessage(content='what is a weather there?', additional_kwargs={}, response_metadata={}, id='5d330acf-09c1-41cf-9ef2-87fb6b253495'), AIMessage(content='', additional_kwargs={'tool_calls': [{'id': 'call_17qs', 'function': {'arguments': '{\"query\":\"weather in New Delhi\"}', 'name': 'search'}, 'type': 'function'}]}, response_metadata={'token_usage': {'completion_tokens': 47, 'prompt_tokens': 2711, 'total_tokens': 2758, 'completion_time': 0.085454545, 'prompt_time': 0.101547989, 'queue_time': 0.24741427, 'total_time': 0.187002534}, 'model_name': 'Gemma2-9b-It', 'system_fingerprint': 'fp_10c08bf97d', 'finish_reason': 'tool_calls', 'logprobs': None}, id='run-76f4b2aa-951d-4597-90ac-b47c3bf9af95-0', tool_calls=[{'name': 'search', 'args': {'query': 'weather in New Delhi'}, 'id': 'call_17qs', 'type': 'tool_call'}], usage_metadata={'input_tokens': 2711, 'output_tokens': 47, 'total_tokens': 2758}), ToolMessage(content='[{\"title\": \"Weather in New Delhi\", \"url\": \"https://www.weatherapi.com/\", \"content\": \"{\\'location\\': {\\'name\\': \\'New Delhi\\', \\'region\\': \\'Delhi\\', \\'country\\': \\'India\\', \\'lat\\': 28.6, \\'lon\\': 77.2, \\'tz_id\\': \\'Asia/Kolkata\\', \\'localtime_epoch\\': 1744433870, \\'localtime\\': \\'2025-04-12 10:27\\'}, \\'current\\': {\\'last_updated_epoch\\': 1744433100, \\'last_updated\\': \\'2025-04-12 10:15\\', \\'temp_c\\': 27.4, \\'temp_f\\': 81.3, \\'is_day\\': 1, \\'condition\\': {\\'text\\': \\'Mist\\', \\'icon\\': \\'//cdn.weatherapi.com/weather/64x64/day/143.png\\', \\'code\\': 1030}, \\'wind_mph\\': 6.0, \\'wind_kph\\': 9.7, \\'wind_degree\\': 153, \\'wind_dir\\': \\'SSE\\', \\'pressure_mb\\': 1009.0, \\'pressure_in\\': 29.8, \\'precip_mm\\': 0.0, \\'precip_in\\': 0.0, \\'humidity\\': 51, \\'cloud\\': 0, \\'feelslike_c\\': 25.8, \\'feelslike_f\\': 78.5, \\'windchill_c\\': 34.8, \\'windchill_f\\': 94.6, \\'heatindex_c\\': 33.4, \\'heatindex_f\\': 92.2, \\'dewpoint_c\\': 10.6, \\'dewpoint_f\\': 51.0, \\'vis_km\\': 4.0, \\'vis_miles\\': 2.0, \\'uv\\': 6.1, \\'gust_mph\\': 7.0, \\'gust_kph\\': 11.2}}\", \"score\": 0.972317}, {\"title\": \"Weather New Delhi in April 2025: Temperature & Climate\", \"url\": \"https://en.climate-data.org/asia/india/delhi/new-delhi-30/t/april-4/\", \"content\": \"Are you planning a holiday with hopefully nice weather in New Delhi in April 2025? ... 12. April, 28 °C | 83 °F, 36 °C | 96 °F, 20 °C | 68 °F, 2.7 mm | 0.1 inch.\", \"score\": 0.95078254}, {\"title\": \"Weather in Delhi in April 2025 - Detailed Forecast\", \"url\": \"https://www.easeweather.com/asia/india/delhi/april\", \"content\": \"Partly cloudy\\\\n| 37° /22° | 0\\xa0mm | 9 |  |\\\\n| 11 Apr. | \\\\nPartly cloudy\\\\n| 39° /24° | 0\\xa0mm | 10 |  |\\\\n| 12 Apr. | \\\\nSunny\\\\n| 39° /26° | 0\\xa0mm | 9 |  |\\\\n| 13 Apr. | \\\\nPartly cloudy\\\\n| 39° /26° | 0.6\\xa0mm | 9 |  |\\\\n| 14 Apr. | \\\\nCloudy\\\\n| 39° /25° | 0.5\\xa0mm | 9 |  |\\\\n| 15 Apr. | \\\\nSunny\\\\n| 39° /27° | 0\\xa0mm | 9 |  |\\\\n| 16 Apr. | \\\\nSunny\\\\n| 39° /26° | 0\\xa0mm | 10 |  |\\\\n| 17 Apr. | \\\\nSunny\\\\n| 39° /26° | 0\\xa0mm | 10 |  |\\\\n| 18 Apr. | \\\\nSunny\\\\n| 40° /27° | 0\\xa0mm | 10 |  |\\\\n| 19 Apr. | \\\\nCloudy\\\\n| 39° /27° | 0\\xa0mm | 9 |  |\\\\n| 20 Apr. | [...] 4\\\\nRainy days\\\\n\\\\n0\\\\nSnow days\\\\n\\\\n37°/25°\\\\nTemperatures\\\\n\\\\n17\\xa0km/h\\\\nAvg max wind\\\\n\\\\n17 %\\\\nAvg humidity [...] April in Delhi, India, marks the transition from spring to the onset of summer, characterized by a noticeable rise in temperatures and a shift in weather patterns. At the beginning of the month, the weather is relatively mild, with average daytime temperatures hovering around 25° to 30°.\", \"score\": 0.8900749}, {\"title\": \"Delhi weather in April 2025 | Delhi 14 day weather - Weather25.com\", \"url\": \"https://www.weather25.com/asia/india/delhi?page=month&month=April\", \"content\": \"Location was added to My Locations\\\\nLocation was removed from My Locations\\\\nMarch\\\\nMay\\\\nDelhi weather in April 2025\\\\nThe temperatures in Delhi during April are extremely high, between 27°C and hot as 39°C, drinking water regularly is advisable.\\\\nYou can expect a few rainy days in Delhi during April, but usually the weather is comfortable in April.\\\\nOur weather forecast can give you a great sense of what weather to expect in Delhi in April 2025. [...] | Sun | Mon | Tue | Wed | Thu | Fri | Sat |\\\\n| --- | --- | --- | --- | --- | --- | --- |\\\\n| \\\\n | \\\\n| 1  37° /23° | 2  37° /23° | 3  40° /25° | 4  39° /25° | 5  40° /26° |\\\\n| 6  40° /25° | 7  40° /26° | 8  40° /26° | 9  40° /26° | 10  41° /27° | 11  41° /28° | 12  41° /28° |\\\\n| 13  42° /29° | 14  41° /30° | 15  40° /30° | 16  40° /28° | 17  41° /26° | 18  43° /29° | 19  41° /29° |\\\\n| 20  39° /28° | 21  39° /28° | 22  40° /27° | 23  41° /28° | 24  40° /28° | 25  41° /28° | 26  42° /30° | [...] Temperatures\\\\n39° / 27°\\\\n\\\\nRainy Days\\\\n1\\\\n\\\\nSnowy Days\\\\n0\\\\n\\\\nDry Days\\\\n29\\\\n\\\\nRainfall\\\\n15\\\\nmm\\\\n\\\\nSun Hours\\\\n11.9\\\\nHrs\\\\nHistoric average weather for April\\\\n\\\\nApril\", \"score\": 0.8708723}, {\"title\": \"New Delhi weather in April 2025 | India: How hot?\", \"url\": \"https://www.weather2travel.com/india/new-delhi/april/\", \"content\": \"New Delhi weather in April 2025. Expect daytime maximum temperatures of 36°C in New Delhi, India in April and very high heat and humidity based on long-term\", \"score\": 0.8684817}]', name='search', id='4233aaf0-24c9-4010-b243-3e0c08b3965d', tool_call_id='call_17qs'), AIMessage(content='', additional_kwargs={'tool_calls': [{'id': 'call_bqpm', 'function': {'arguments': '{\"query\":\"weather in New Delhi\"}', 'name': 'search'}, 'type': 'function'}]}, response_metadata={'token_usage': {'completion_tokens': 45, 'prompt_tokens': 4650, 'total_tokens': 4695, 'completion_time': 0.081818182, 'prompt_time': 0.158055847, 'queue_time': 0.47008646600000004, 'total_time': 0.239874029}, 'model_name': 'Gemma2-9b-It', 'system_fingerprint': 'fp_10c08bf97d', 'finish_reason': 'tool_calls', 'logprobs': None}, id='run-7482fe8d-403e-442e-b527-ea6becc55eed-0', tool_calls=[{'name': 'search', 'args': {'query': 'weather in New Delhi'}, 'id': 'call_bqpm', 'type': 'tool_call'}], usage_metadata={'input_tokens': 4650, 'output_tokens': 45, 'total_tokens': 4695})]}, next=('tools',), config={'configurable': {'thread_id': '1', 'checkpoint_ns': '', 'checkpoint_id': '1f0175ab-5993-63e4-8008-b6709c5d7d8b'}}, metadata={'source': 'loop', 'writes': {'ai_assistant': {'messages': [AIMessage(content='', additional_kwargs={'tool_calls': [{'id': 'call_bqpm', 'function': {'arguments': '{\"query\":\"weather in New Delhi\"}', 'name': 'search'}, 'type': 'function'}]}, response_metadata={'token_usage': {'completion_tokens': 45, 'prompt_tokens': 4650, 'total_tokens': 4695, 'completion_time': 0.081818182, 'prompt_time': 0.158055847, 'queue_time': 0.47008646600000004, 'total_time': 0.239874029}, 'model_name': 'Gemma2-9b-It', 'system_fingerprint': 'fp_10c08bf97d', 'finish_reason': 'tool_calls', 'logprobs': None}, id='run-7482fe8d-403e-442e-b527-ea6becc55eed-0', tool_calls=[{'name': 'search', 'args': {'query': 'weather in New Delhi'}, 'id': 'call_bqpm', 'type': 'tool_call'}], usage_metadata={'input_tokens': 4650, 'output_tokens': 45, 'total_tokens': 4695})]}}, 'step': 8, 'parents': {}, 'thread_id': '1'}, created_at='2025-04-12T04:58:00.969725+00:00', parent_config={'configurable': {'thread_id': '1', 'checkpoint_ns': '', 'checkpoint_id': '1f0175ab-4c5f-690f-8007-53d5a9bcb4ce'}}, tasks=(PregelTask(id='546b9037-b8b9-2a29-33bb-11a94008461b', name='tools', path=('__pregel_pull', 'tools'), error=None, interrupts=(), state=None, result=None),))"
      ]
     },
     "execution_count": 531,
     "metadata": {},
     "output_type": "execute_result"
    }
   ],
   "source": [
    "app2.get_state(config)"
   ]
  },
  {
   "cell_type": "code",
   "execution_count": 532,
   "id": "de2a039b",
   "metadata": {},
   "outputs": [],
   "source": [
    "snapshot=app2.get_state(config)"
   ]
  },
  {
   "cell_type": "code",
   "execution_count": 533,
   "id": "aee695fa",
   "metadata": {},
   "outputs": [
    {
     "data": {
      "text/plain": [
       "('tools',)"
      ]
     },
     "execution_count": 533,
     "metadata": {},
     "output_type": "execute_result"
    }
   ],
   "source": [
    "snapshot.next"
   ]
  },
  {
   "cell_type": "code",
   "execution_count": 534,
   "id": "879326ed",
   "metadata": {},
   "outputs": [],
   "source": [
    "user_input = \"give me the recent news of it?\"\n",
    "\n",
    "config = {\"configurable\": {\"thread_id\": \"1\"}}"
   ]
  },
  {
   "cell_type": "code",
   "execution_count": 535,
   "id": "15dc1ded",
   "metadata": {},
   "outputs": [],
   "source": [
    "events = app2.stream(\n",
    "    {\"messages\":[(\"user\",user_input)]},config,stream_mode=\"values\"\n",
    ")"
   ]
  },
  {
   "cell_type": "code",
   "execution_count": 536,
   "id": "0fcaa4ed",
   "metadata": {},
   "outputs": [
    {
     "name": "stdout",
     "output_type": "stream",
     "text": [
      "================================\u001b[1m Human Message \u001b[0m=================================\n",
      "\n",
      "give me the recent news of it?\n",
      "==================================\u001b[1m Ai Message \u001b[0m==================================\n",
      "Tool Calls:\n",
      "  tavily_search_results_json (call_yf1w)\n",
      " Call ID: call_yf1w\n",
      "  Args:\n",
      "    query: Recent news about New Delhi\n"
     ]
    }
   ],
   "source": [
    "for event in events:\n",
    "    if \"messages\" in event:\n",
    "        event[\"messages\"][-1].pretty_print()"
   ]
  },
  {
   "cell_type": "code",
   "execution_count": 537,
   "id": "7a27ea95",
   "metadata": {},
   "outputs": [],
   "source": [
    "snapshot = app2.get_state(config)"
   ]
  },
  {
   "cell_type": "code",
   "execution_count": 538,
   "id": "3ef51c07",
   "metadata": {},
   "outputs": [],
   "source": [
    "current_message = snapshot.values[\"messages\"][-1]"
   ]
  },
  {
   "cell_type": "code",
   "execution_count": 539,
   "id": "b4ba39aa",
   "metadata": {},
   "outputs": [
    {
     "name": "stdout",
     "output_type": "stream",
     "text": [
      "==================================\u001b[1m Ai Message \u001b[0m==================================\n",
      "Tool Calls:\n",
      "  tavily_search_results_json (call_yf1w)\n",
      " Call ID: call_yf1w\n",
      "  Args:\n",
      "    query: Recent news about New Delhi\n"
     ]
    }
   ],
   "source": [
    "current_message.pretty_print()"
   ]
  },
  {
   "cell_type": "code",
   "execution_count": 540,
   "id": "c32570e3",
   "metadata": {},
   "outputs": [],
   "source": [
    "tool_call_id = current_message.tool_calls[0][\"id\"]"
   ]
  },
  {
   "cell_type": "code",
   "execution_count": 541,
   "id": "1fa3e7ca",
   "metadata": {},
   "outputs": [
    {
     "data": {
      "text/plain": [
       "'call_yf1w'"
      ]
     },
     "execution_count": 541,
     "metadata": {},
     "output_type": "execute_result"
    }
   ],
   "source": [
    "tool_call_id"
   ]
  },
  {
   "cell_type": "code",
   "execution_count": 542,
   "id": "99adaa57",
   "metadata": {},
   "outputs": [],
   "source": [
    "from langchain_core.messages import AIMessage, ToolMessage\n",
    "\n",
    "answer = \"it is just related to raining which is happing on daily basis\""
   ]
  },
  {
   "cell_type": "code",
   "execution_count": 543,
   "id": "6904bb2e",
   "metadata": {},
   "outputs": [],
   "source": [
    "new_messages = [\n",
    "    ToolMessage(content=answer, tool_call_id=tool_call_id),\n",
    "    AIMessage(content=answer)\n",
    "]"
   ]
  },
  {
   "cell_type": "code",
   "execution_count": 544,
   "id": "64ddad7a",
   "metadata": {},
   "outputs": [
    {
     "data": {
      "text/plain": [
       "{'configurable': {'thread_id': '1',\n",
       "  'checkpoint_ns': '',\n",
       "  'checkpoint_id': '1f0175ab-66cd-6efd-800c-bd63e1c6ab76'}}"
      ]
     },
     "execution_count": 544,
     "metadata": {},
     "output_type": "execute_result"
    }
   ],
   "source": [
    "app2.update_state(\n",
    "    config,\n",
    "    {\"messages\": new_messages},\n",
    ")"
   ]
  },
  {
   "cell_type": "code",
   "execution_count": 545,
   "id": "94279b85",
   "metadata": {},
   "outputs": [
    {
     "name": "stdout",
     "output_type": "stream",
     "text": [
      "[AIMessage(content='it is just related to raining which is happing on daily basis', additional_kwargs={}, response_metadata={}, id='d7ac9e62-9fc6-4dae-9cc3-8d8cb1ec97ad')]\n"
     ]
    }
   ],
   "source": [
    "print(app2.get_state(config).values[\"messages\"][-1:])"
   ]
  }
 ],
 "metadata": {
  "kernelspec": {
   "display_name": "venv",
   "language": "python",
   "name": "python3"
  },
  "language_info": {
   "codemirror_mode": {
    "name": "ipython",
    "version": 3
   },
   "file_extension": ".py",
   "mimetype": "text/x-python",
   "name": "python",
   "nbconvert_exporter": "python",
   "pygments_lexer": "ipython3",
   "version": "3.12.7"
  }
 },
 "nbformat": 4,
 "nbformat_minor": 5
}
