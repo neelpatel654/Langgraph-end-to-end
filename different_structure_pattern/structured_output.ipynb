{
 "cells": [
  {
   "cell_type": "markdown",
   "id": "eaabdabc",
   "metadata": {},
   "source": [
    "A Structured Output Agent in LangChain (or other LLM frameworks) refers to an agent that produces responses in a specific structured format, such as JSON, dictionaries, or other structured data types. These agents are particularly useful when you want to ensure that your responses conform to a defined schema, making it easier to parse, validate, and utilize in downstream applications.\n",
    "\n",
    "Why Use a Structured Output Agent?\n",
    "Controlled Responses: Ensures that the outputs follow a specific format, reducing ambiguity.\n",
    "Data Validation: Useful when you want the model output to fit predefined structures, like for APIs or database entries.\n",
    "Automation: Makes integration with systems like dashboards, ETL pipelines, or business workflows easier."
   ]
  },
  {
   "cell_type": "code",
   "execution_count": 2,
   "id": "eb1d9a6f",
   "metadata": {},
   "outputs": [],
   "source": [
    "import os\n",
    "from dotenv import load_dotenv\n",
    "from langchain_google_genai import GoogleGenerativeAIEmbeddings\n",
    "from langchain_google_genai import ChatGoogleGenerativeAI\n",
    "from langchain_community.tools.tavily_search import TavilySearchResults\n",
    "from langchain_core.tools import tool\n",
    "from pydantic import BaseModel, Field\n",
    "from langgraph.graph import MessagesState,StateGraph, END\n",
    "from langgraph.prebuilt import ToolNode\n",
    "from langchain_core.messages import HumanMessage\n",
    "\n",
    "load_dotenv()\n",
    "\n",
    "gemini_api_key = os.getenv(\"GEMINI_API_KEY\")\n",
    "\n",
    "embeddings = GoogleGenerativeAIEmbeddings(model=\"models/embedding-001\",google_api_key=gemini_api_key)\n",
    "llm = ChatGoogleGenerativeAI(model=\"gemini-2.0-flash\",api_key=gemini_api_key)"
   ]
  },
  {
   "cell_type": "code",
   "execution_count": 3,
   "id": "d4821b30",
   "metadata": {},
   "outputs": [
    {
     "data": {
      "text/plain": [
       "'\"Mr. 360\" is a nickname most famously associated with **AB de Villiers**, a former South African cricketer.\\n\\nHe earned this nickname because of his incredible ability to hit the ball to all parts of the ground, seemingly 360 degrees around the wicket. He was known for his innovative and unorthodox shots, making him one of the most exciting and unpredictable batsmen to watch.'"
      ]
     },
     "execution_count": 3,
     "metadata": {},
     "output_type": "execute_result"
    }
   ],
   "source": [
    "llm.invoke(\"who is mr.360\").content"
   ]
  },
  {
   "cell_type": "code",
   "execution_count": 4,
   "id": "75cf53c0",
   "metadata": {},
   "outputs": [],
   "source": [
    "tavily_tool = TavilySearchResults()"
   ]
  },
  {
   "cell_type": "code",
   "execution_count": 5,
   "id": "53edfb74",
   "metadata": {},
   "outputs": [],
   "source": [
    "@tool\n",
    "def get_city_details(prompt: str):\n",
    "     \"Should do a web search to find the required city details\"\n",
    "     response = tavily_tool.invoke(prompt)\n",
    "     return response"
   ]
  },
  {
   "cell_type": "code",
   "execution_count": 6,
   "id": "77bf19b6",
   "metadata": {},
   "outputs": [],
   "source": [
    "tools = [get_city_details]\n",
    "model_with_tools = llm.bind_tools(tools)"
   ]
  },
  {
   "cell_type": "code",
   "execution_count": 7,
   "id": "62c03617",
   "metadata": {},
   "outputs": [],
   "source": [
    "class CityDetails(BaseModel):\n",
    "    \"\"\"Respond to the user with this\"\"\"\n",
    "    state_name: str = Field(description=\"State name of city\")\n",
    "    state_capital: str = Field(description=\"State capital of the city\")\n",
    "    country_name: str = Field(description=\"Country name of the city\")\n",
    "    country_capital: str = Field(description=\"Country capital of the city\")\n",
    "    city_description: str"
   ]
  },
  {
   "cell_type": "code",
   "execution_count": 8,
   "id": "8d09bfe1",
   "metadata": {},
   "outputs": [],
   "source": [
    "# Inherit 'messages' key from MessagesState, which is a list of chat messages\n",
    "class AgentState(MessagesState):\n",
    "    final_response: CityDetails"
   ]
  },
  {
   "cell_type": "code",
   "execution_count": 9,
   "id": "f257a5a4",
   "metadata": {},
   "outputs": [],
   "source": [
    "model_with_structured_output = llm.with_structured_output(CityDetails)"
   ]
  },
  {
   "cell_type": "code",
   "execution_count": 10,
   "id": "c67c651c",
   "metadata": {},
   "outputs": [],
   "source": [
    "def call_model(state: AgentState):\n",
    "    print(f\" this is 01 input from call model {state}\")\n",
    "    response = model_with_tools.invoke(state['messages'])\n",
    "    print(f\"this is 02 response from call model  {response}\")\n",
    "    # We return a list, because this will get added to the existing list\n",
    "    return {\"messages\": [response]}"
   ]
  },
  {
   "cell_type": "code",
   "execution_count": 11,
   "id": "20f23b24",
   "metadata": {},
   "outputs": [],
   "source": [
    "def should_continue(state: AgentState):\n",
    "    messages = state[\"messages\"]\n",
    "    last_message = messages[-1]\n",
    "    \n",
    "    # If there is no function call, then we respond to the user\n",
    "    if not last_message.tool_calls:\n",
    "        return \"respond\"\n",
    "    # Otherwise if there is, we continue with the tool\n",
    "    else: \n",
    "        return \"continue\""
   ]
  },
  {
   "cell_type": "code",
   "execution_count": 12,
   "id": "373a9136",
   "metadata": {},
   "outputs": [],
   "source": [
    "def respond(state: AgentState):\n",
    "    print(f\"here is 03 state from respond {state}\")\n",
    "    response = model_with_structured_output.invoke([HumanMessage(content=state['messages'][-1].content)])\n",
    "    # We return the final answer\n",
    "    print(f\"this is 04 response from respond{response}\")\n",
    "    return {\"final_response\": response}"
   ]
  },
  {
   "cell_type": "code",
   "execution_count": 13,
   "id": "ca84f7ee",
   "metadata": {},
   "outputs": [],
   "source": [
    "# Define a new graph\n",
    "workflow = StateGraph(AgentState)\n",
    "\n",
    "# Define the two nodes we will cycle between\n",
    "workflow.add_node(\"llm\", call_model)\n",
    "workflow.add_node(\"tools\", ToolNode(tools))\n",
    "workflow.add_node(\"respond\", respond)\n",
    "\n",
    "\n",
    "# Set the entrypoint as `agent`\n",
    "# This means that this node is the first one called\n",
    "workflow.set_entry_point(\"llm\")\n",
    "\n",
    "# We now add a conditional edge\n",
    "workflow.add_conditional_edges(\n",
    "    \"llm\",\n",
    "    \n",
    "    should_continue,\n",
    "    {\n",
    "        \"continue\": \"tools\",\n",
    "        \"respond\": \"respond\",\n",
    "    },\n",
    ")\n",
    "\n",
    "workflow.add_edge(\"tools\", \"llm\")\n",
    "workflow.add_edge(\"respond\", END)\n",
    "graph = workflow.compile()"
   ]
  },
  {
   "cell_type": "code",
   "execution_count": 14,
   "id": "3fe150ce",
   "metadata": {},
   "outputs": [
    {
     "data": {
      "image/png": "[encoded data removed]",
      "text/plain": [
       "<IPython.core.display.Image object>"
      ]
     },
     "metadata": {},
     "output_type": "display_data"
    }
   ],
   "source": [
    "from IPython.display import Image, display\n",
    "# View\n",
    "display(Image(graph.get_graph().draw_mermaid_png()))"
   ]
  },
  {
   "cell_type": "code",
   "execution_count": 15,
   "id": "255e77f5",
   "metadata": {},
   "outputs": [
    {
     "name": "stdout",
     "output_type": "stream",
     "text": [
      " this is 01 input from call model {'messages': [HumanMessage(content='Tell me about the city details for Mehsana?', additional_kwargs={}, response_metadata={}, id='02a89eb5-368b-413f-9425-e0ffa8992aeb')]}\n",
      "this is 02 response from call model  content='' additional_kwargs={'function_call': {'name': 'get_city_details', 'arguments': '{\"prompt\": \"Mehsana city details\"}'}} response_metadata={'prompt_feedback': {'block_reason': 0, 'safety_ratings': []}, 'finish_reason': 'STOP', 'safety_ratings': []} id='run-82ec46a2-94d4-4ca7-8173-af9c180c9560-0' tool_calls=[{'name': 'get_city_details', 'args': {'prompt': 'Mehsana city details'}, 'id': 'b5cd5fc2-4289-4bb1-a664-01c3eaecb03b', 'type': 'tool_call'}] usage_metadata={'input_tokens': 29, 'output_tokens': 11, 'total_tokens': 40, 'input_token_details': {'cache_read': 0}}\n",
      " this is 01 input from call model {'messages': [HumanMessage(content='Tell me about the city details for Mehsana?', additional_kwargs={}, response_metadata={}, id='02a89eb5-368b-413f-9425-e0ffa8992aeb'), AIMessage(content='', additional_kwargs={'function_call': {'name': 'get_city_details', 'arguments': '{\"prompt\": \"Mehsana city details\"}'}}, response_metadata={'prompt_feedback': {'block_reason': 0, 'safety_ratings': []}, 'finish_reason': 'STOP', 'safety_ratings': []}, id='run-82ec46a2-94d4-4ca7-8173-af9c180c9560-0', tool_calls=[{'name': 'get_city_details', 'args': {'prompt': 'Mehsana city details'}, 'id': 'b5cd5fc2-4289-4bb1-a664-01c3eaecb03b', 'type': 'tool_call'}], usage_metadata={'input_tokens': 29, 'output_tokens': 11, 'total_tokens': 40, 'input_token_details': {'cache_read': 0}}), ToolMessage(content='[{\"title\": \"Mehsana - Wikipedia\", \"url\": \"https://en.wikipedia.org/wiki/Mehsana\", \"content\": \"MahesanaLocation in Gujarat, IndiaShow map of GujaratMahesanaMahesana (India)Show map of India\\\\nCoordinates:23°36′N72°24′E\\ufeff / \\ufeff23.6°N 72.4°E\\ufeff /23.6; 72.4\\\\nCountry | India\\\\nState | Gujarat\\\\nDistrict | Mehsana\\\\nRegion | North Gujarat\\\\nFounded by | Mehsaji Chavda\\\\nGovernment\\\\n•\\xa0Type | Municipal Corporation\\\\n•\\xa0Body | Mehsana Municipal Corporation\\\\nArea\\\\n•\\xa0City | 31.08\\xa0km2(12.00\\xa0sq\\xa0mi)\\\\nElevation[1] | 114\\xa0m (375\\xa0ft)\\\\nPopulation(2011)[4]\\\\n•\\xa0City | 184,991[2]\\\\n•\\xa0Rank | 18th (Gujarat)\\\\n•Metro[3] | 190,189\\\\nLanguages [...] Mehsana (pronunciationⓘ), also spelled Mahesana, is a city and the headquarters of Mehsana district in the Indian state of Gujarat. Established in 14th century, the city was under Gaekwads of Baroda State from 18th century to the independence of India in 1947. Dairy, oil and natural gas are major industries in the city. [...] At 762,[4] Mehsana had the lowest child sex-ratio among the urban centres in India.[19]\\\\n\\\\nMehsana City | Total | Male | Female\\\\nCity & outgrowths | 190,753 | 100,558 | 90,195\\\\nLiterates | 148,851 | 81,647 | 67,204\\\\nChildren (0–6) | 18,946 | 10,751 | 8,195\\\\nLiteracy | 89.64% | 94.18% | 84.69%\\\\nSex ratio | 899\\\\nChild sex ratio | 762\\\\nReligion\", \"score\": 0.8652358}, {\"title\": \"Mehsana district - Wikipedia\", \"url\": \"https://en.wikipedia.org/wiki/Mehsana_district\", \"content\": \"Mehsana district\\\\n\\\\n\\\\n\\\\nMehsana district (alternate spelling \\\\\"Mahesana\\\\\") is one of the 33 districts of Gujarat state in western India.[1] Mehsana city is the administrative headquarters of this district. The district has a population of over 1.8 million and an area of over 4,500\\xa0 km2. There are over 600 villages in this district with a population of 2,035,064 of which 22.40% were urban as of 2011.[2] [...] Mehsana District\\\\nDistrictofGujarat\\\\nClockwise from top-left:Modhera Sun Temple, Kirti Toran,Vadnagar, Umiya Mandir inUnjha, Mehsana city, Shitala Mata Temple, Buttapaldi\\\\nInteractive Map Outlining Mahesana District\\\\nLocation of district in Gujarat\\\\nCoordinates:23°40′N72°30′E\\ufeff / \\ufeff23.667°N 72.500°E\\ufeff /23.667; 72.500\\\\nCountry | India\\\\nState | Gujarat\\\\nHeadquarters | Mehsana\\\\nArea\\\\n•\\xa0Total | 4,401\\xa0km2(1,699\\xa0sq\\xa0mi)\\\\nPopulation(2011)\\\\n•\\xa0Total | 2,035,064\\\\n•\\xa0Density | 460/km2(1,200/sq\\xa0mi)\\\\nLanguages [...] According to the 2011 census, Mehsana district has a population of 2,035,064,[8] roughly equal to the nation of Slovenia[9] or the US state of New Mexico.[10] This gives it a ranking of 229th in India (out of a total of 640). The district has a population density of 462 inhabitants per square kilometre (1,200/sq\\xa0mi). Its population growth rate over the decade 2001-2011 was 9.91%. Mehsana has a sex ratio of 925 females for every 1,000 males, and a literacy rate of 84.26%. 25.27% of the\", \"score\": 0.79883134}, {\"title\": \"What is Time to Treatment Initiation (TTI)? TTI refers to the time ...\", \"url\": \"https://www.instagram.com/shankushospitals/p/DFVV3PaRoc-/what-is-time-to-treatment-initiation-ttitti-refers-to-the-time-between-a-cancer-/\", \"content\": \"Jan 27, 2025 ... ... Mehsana | Himmatnagar | Palanpur | Patan | Jamnagar | Sumerpur | Basti | Raebareli | Ratlam | City Center - Mehsana For More Details: www\", \"score\": 0.6496014}, {\"title\": \"District Mahesana, Goverment of Gujarat | Famous for Sun Temple ...\", \"url\": \"https://mahesana.nic.in/\", \"content\": \"Area: 4484.10 sq km ... Population: 20 Lakh ... Sub Divisions: 4 ... Talukas: 10 ... Villages: 614 ... Find Services ... Certificates ... Supply ... Magisterial ... Revenue.\", \"score\": 0.5954225}, {\"title\": \"MEHSANA CITY\", \"url\": \"https://cwas.org.in/resources/file_manager/2013-_mehsana.pdf\", \"content\": \"The collected sewage is diverted to the nearby storm water drains and then discharged into Khari River. Source: Prepared Based on Detail Project Report Volume-1\", \"score\": 0.52100873}]', name='get_city_details', id='95519f3b-8e71-4ce3-ac3c-fc562eb5507a', tool_call_id='b5cd5fc2-4289-4bb1-a664-01c3eaecb03b')]}\n",
      "this is 02 response from call model  content=\"Mehsana is a city in the state of Gujarat, India, and is the administrative headquarters of the Mehsana district. It was established in the 14th century and was under the Gaekwads of Baroda State from the 18th century until India's independence in 1947. The major industries in the city are dairy, oil, and natural gas. The city has a population of 184,991 as of 2011, and the district has a population of over 2 million.\" additional_kwargs={} response_metadata={'prompt_feedback': {'block_reason': 0, 'safety_ratings': []}, 'finish_reason': 'STOP', 'safety_ratings': []} id='run-2a60a094-68c5-412c-94bd-3eade6a5b881-0' usage_metadata={'input_tokens': 1343, 'output_tokens': 116, 'total_tokens': 1459, 'input_token_details': {'cache_read': 0}}\n",
      "here is 03 state from respond {'messages': [HumanMessage(content='Tell me about the city details for Mehsana?', additional_kwargs={}, response_metadata={}, id='02a89eb5-368b-413f-9425-e0ffa8992aeb'), AIMessage(content='', additional_kwargs={'function_call': {'name': 'get_city_details', 'arguments': '{\"prompt\": \"Mehsana city details\"}'}}, response_metadata={'prompt_feedback': {'block_reason': 0, 'safety_ratings': []}, 'finish_reason': 'STOP', 'safety_ratings': []}, id='run-82ec46a2-94d4-4ca7-8173-af9c180c9560-0', tool_calls=[{'name': 'get_city_details', 'args': {'prompt': 'Mehsana city details'}, 'id': 'b5cd5fc2-4289-4bb1-a664-01c3eaecb03b', 'type': 'tool_call'}], usage_metadata={'input_tokens': 29, 'output_tokens': 11, 'total_tokens': 40, 'input_token_details': {'cache_read': 0}}), ToolMessage(content='[{\"title\": \"Mehsana - Wikipedia\", \"url\": \"https://en.wikipedia.org/wiki/Mehsana\", \"content\": \"MahesanaLocation in Gujarat, IndiaShow map of GujaratMahesanaMahesana (India)Show map of India\\\\nCoordinates:23°36′N72°24′E\\ufeff / \\ufeff23.6°N 72.4°E\\ufeff /23.6; 72.4\\\\nCountry | India\\\\nState | Gujarat\\\\nDistrict | Mehsana\\\\nRegion | North Gujarat\\\\nFounded by | Mehsaji Chavda\\\\nGovernment\\\\n•\\xa0Type | Municipal Corporation\\\\n•\\xa0Body | Mehsana Municipal Corporation\\\\nArea\\\\n•\\xa0City | 31.08\\xa0km2(12.00\\xa0sq\\xa0mi)\\\\nElevation[1] | 114\\xa0m (375\\xa0ft)\\\\nPopulation(2011)[4]\\\\n•\\xa0City | 184,991[2]\\\\n•\\xa0Rank | 18th (Gujarat)\\\\n•Metro[3] | 190,189\\\\nLanguages [...] Mehsana (pronunciationⓘ), also spelled Mahesana, is a city and the headquarters of Mehsana district in the Indian state of Gujarat. Established in 14th century, the city was under Gaekwads of Baroda State from 18th century to the independence of India in 1947. Dairy, oil and natural gas are major industries in the city. [...] At 762,[4] Mehsana had the lowest child sex-ratio among the urban centres in India.[19]\\\\n\\\\nMehsana City | Total | Male | Female\\\\nCity & outgrowths | 190,753 | 100,558 | 90,195\\\\nLiterates | 148,851 | 81,647 | 67,204\\\\nChildren (0–6) | 18,946 | 10,751 | 8,195\\\\nLiteracy | 89.64% | 94.18% | 84.69%\\\\nSex ratio | 899\\\\nChild sex ratio | 762\\\\nReligion\", \"score\": 0.8652358}, {\"title\": \"Mehsana district - Wikipedia\", \"url\": \"https://en.wikipedia.org/wiki/Mehsana_district\", \"content\": \"Mehsana district\\\\n\\\\n\\\\n\\\\nMehsana district (alternate spelling \\\\\"Mahesana\\\\\") is one of the 33 districts of Gujarat state in western India.[1] Mehsana city is the administrative headquarters of this district. The district has a population of over 1.8 million and an area of over 4,500\\xa0 km2. There are over 600 villages in this district with a population of 2,035,064 of which 22.40% were urban as of 2011.[2] [...] Mehsana District\\\\nDistrictofGujarat\\\\nClockwise from top-left:Modhera Sun Temple, Kirti Toran,Vadnagar, Umiya Mandir inUnjha, Mehsana city, Shitala Mata Temple, Buttapaldi\\\\nInteractive Map Outlining Mahesana District\\\\nLocation of district in Gujarat\\\\nCoordinates:23°40′N72°30′E\\ufeff / \\ufeff23.667°N 72.500°E\\ufeff /23.667; 72.500\\\\nCountry | India\\\\nState | Gujarat\\\\nHeadquarters | Mehsana\\\\nArea\\\\n•\\xa0Total | 4,401\\xa0km2(1,699\\xa0sq\\xa0mi)\\\\nPopulation(2011)\\\\n•\\xa0Total | 2,035,064\\\\n•\\xa0Density | 460/km2(1,200/sq\\xa0mi)\\\\nLanguages [...] According to the 2011 census, Mehsana district has a population of 2,035,064,[8] roughly equal to the nation of Slovenia[9] or the US state of New Mexico.[10] This gives it a ranking of 229th in India (out of a total of 640). The district has a population density of 462 inhabitants per square kilometre (1,200/sq\\xa0mi). Its population growth rate over the decade 2001-2011 was 9.91%. Mehsana has a sex ratio of 925 females for every 1,000 males, and a literacy rate of 84.26%. 25.27% of the\", \"score\": 0.79883134}, {\"title\": \"What is Time to Treatment Initiation (TTI)? TTI refers to the time ...\", \"url\": \"https://www.instagram.com/shankushospitals/p/DFVV3PaRoc-/what-is-time-to-treatment-initiation-ttitti-refers-to-the-time-between-a-cancer-/\", \"content\": \"Jan 27, 2025 ... ... Mehsana | Himmatnagar | Palanpur | Patan | Jamnagar | Sumerpur | Basti | Raebareli | Ratlam | City Center - Mehsana For More Details: www\", \"score\": 0.6496014}, {\"title\": \"District Mahesana, Goverment of Gujarat | Famous for Sun Temple ...\", \"url\": \"https://mahesana.nic.in/\", \"content\": \"Area: 4484.10 sq km ... Population: 20 Lakh ... Sub Divisions: 4 ... Talukas: 10 ... Villages: 614 ... Find Services ... Certificates ... Supply ... Magisterial ... Revenue.\", \"score\": 0.5954225}, {\"title\": \"MEHSANA CITY\", \"url\": \"https://cwas.org.in/resources/file_manager/2013-_mehsana.pdf\", \"content\": \"The collected sewage is diverted to the nearby storm water drains and then discharged into Khari River. Source: Prepared Based on Detail Project Report Volume-1\", \"score\": 0.52100873}]', name='get_city_details', id='95519f3b-8e71-4ce3-ac3c-fc562eb5507a', tool_call_id='b5cd5fc2-4289-4bb1-a664-01c3eaecb03b'), AIMessage(content=\"Mehsana is a city in the state of Gujarat, India, and is the administrative headquarters of the Mehsana district. It was established in the 14th century and was under the Gaekwads of Baroda State from the 18th century until India's independence in 1947. The major industries in the city are dairy, oil, and natural gas. The city has a population of 184,991 as of 2011, and the district has a population of over 2 million.\", additional_kwargs={}, response_metadata={'prompt_feedback': {'block_reason': 0, 'safety_ratings': []}, 'finish_reason': 'STOP', 'safety_ratings': []}, id='run-2a60a094-68c5-412c-94bd-3eade6a5b881-0', usage_metadata={'input_tokens': 1343, 'output_tokens': 116, 'total_tokens': 1459, 'input_token_details': {'cache_read': 0}})]}\n",
      "this is 04 response from respondstate_name='Gujarat' state_capital='Gandhinagar' country_name='India' country_capital='New Delhi' city_description=\"Mehsana is a city in the state of Gujarat, India, and is the administrative headquarters of the Mehsana district. It was established in the 14th century and was under the Gaekwads of Baroda State from the 18th century until India's independence in 1947. The major industries in the city are dairy, oil, and natural gas. The city has a population of 184,991 as of 2011, and the district has a population of over 2 million.\"\n"
     ]
    }
   ],
   "source": [
    "answer = graph.invoke(input={\"messages\": [(\"human\", \"Tell me about the city details for Mehsana?\")]})['final_response']"
   ]
  },
  {
   "cell_type": "code",
   "execution_count": 16,
   "id": "77437ee5",
   "metadata": {},
   "outputs": [
    {
     "data": {
      "text/plain": [
       "CityDetails(state_name='Gujarat', state_capital='Gandhinagar', country_name='India', country_capital='New Delhi', city_description=\"Mehsana is a city in the state of Gujarat, India, and is the administrative headquarters of the Mehsana district. It was established in the 14th century and was under the Gaekwads of Baroda State from the 18th century until India's independence in 1947. The major industries in the city are dairy, oil, and natural gas. The city has a population of 184,991 as of 2011, and the district has a population of over 2 million.\")"
      ]
     },
     "execution_count": 16,
     "metadata": {},
     "output_type": "execute_result"
    }
   ],
   "source": [
    "answer"
   ]
  }
 ],
 "metadata": {
  "kernelspec": {
   "display_name": "venv",
   "language": "python",
   "name": "python3"
  },
  "language_info": {
   "codemirror_mode": {
    "name": "ipython",
    "version": 3
   },
   "file_extension": ".py",
   "mimetype": "text/x-python",
   "name": "python",
   "nbconvert_exporter": "python",
   "pygments_lexer": "ipython3",
   "version": "3.12.7"
  }
 },
 "nbformat": 4,
 "nbformat_minor": 5
}
