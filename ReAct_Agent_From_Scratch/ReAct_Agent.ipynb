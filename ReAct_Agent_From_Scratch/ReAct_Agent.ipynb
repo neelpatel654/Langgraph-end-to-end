{
 "cells": [
  {
   "cell_type": "code",
   "execution_count": 13,
   "id": "6b47887c",
   "metadata": {},
   "outputs": [],
   "source": [
    "import os\n",
    "from dotenv import load_dotenv\n",
    "load_dotenv()\n",
    "\n",
    "gemini_api_key = os.getenv(\"GEMINI_API_KEY\")\n",
    "langchain_api_key = os.getenv(\"LANGCHAIN_API_KEY\")\n",
    "langchain_project = os.getenv(\"LANGCHAIN_PROJECT\")\n",
    "\n",
    "os.environ[\"GEMINI_API_KEY\"] = gemini_api_key\n",
    "os.environ[\"LANGCHAIN_API_KEY\"] = langchain_api_key\n",
    "os.environ[\"LANGCHAIN_PROJECT\"] = langchain_project"
   ]
  },
  {
   "cell_type": "code",
   "execution_count": 14,
   "id": "d3aa292c",
   "metadata": {},
   "outputs": [
    {
     "data": {
      "text/plain": [
       "'Hi there! How can I help you today?'"
      ]
     },
     "execution_count": 14,
     "metadata": {},
     "output_type": "execute_result"
    }
   ],
   "source": [
    "from langchain_google_genai import ChatGoogleGenerativeAI\n",
    "llm = ChatGoogleGenerativeAI(model=\"gemini-2.0-flash\",api_key=gemini_api_key)\n",
    "llm.invoke('hi').content"
   ]
  },
  {
   "cell_type": "code",
   "execution_count": 15,
   "id": "fdb69000",
   "metadata": {},
   "outputs": [
    {
     "name": "stdout",
     "output_type": "stream",
     "text": [
      "I am doing well, thank you for asking! How are you today?\n"
     ]
    }
   ],
   "source": [
    "message = [{\"role\":\"system\",\"content\":\"you are a helpful assistant\"},\n",
    "           {\"role\":\"user\",\"content\":\"hi how are you?\"}]\n",
    "\n",
    "result = llm.invoke(message)\n",
    "print(result.content)"
   ]
  },
  {
   "cell_type": "code",
   "execution_count": 16,
   "id": "d259045e",
   "metadata": {},
   "outputs": [],
   "source": [
    "class Chatbot:\n",
    "    def __init__(self, system=\"\"):\n",
    "        self.system = system\n",
    "        self.message = []\n",
    "        if self.system:\n",
    "            self.message.append({\"role\":\"system\",\"content\":system})\n",
    "\n",
    "    def __call__(self, message):\n",
    "        self.message.append({\"role\":\"user\",\"content\":message})\n",
    "        result = self.execute()\n",
    "        self.message.append({\"role\":\"assistant\",\"content\":result})\n",
    "        return result\n",
    "    \n",
    "    def execute(self):\n",
    "        llm= ChatGoogleGenerativeAI(model=\"gemini-2.0-flash\",api_key=gemini_api_key)\n",
    "        result = llm.invoke(self.message)\n",
    "        return result.content"
   ]
  },
  {
   "cell_type": "code",
   "execution_count": 17,
   "id": "e4b4b045",
   "metadata": {},
   "outputs": [
    {
     "data": {
      "text/plain": [
       "'Hi there! How can I help you today?'"
      ]
     },
     "execution_count": 17,
     "metadata": {},
     "output_type": "execute_result"
    }
   ],
   "source": [
    "bot = Chatbot(\"you are a helpful assistant\")\n",
    "bot(\"HI\")"
   ]
  },
  {
   "cell_type": "code",
   "execution_count": 18,
   "id": "e2f3f28b",
   "metadata": {},
   "outputs": [
    {
     "data": {
      "text/plain": [
       "[{'role': 'system', 'content': 'you are a helpful assistant'},\n",
       " {'role': 'user', 'content': 'HI'},\n",
       " {'role': 'assistant', 'content': 'Hi there! How can I help you today?'}]"
      ]
     },
     "execution_count": 18,
     "metadata": {},
     "output_type": "execute_result"
    }
   ],
   "source": [
    "bot.message"
   ]
  },
  {
   "cell_type": "code",
   "execution_count": 19,
   "id": "40aedde8",
   "metadata": {},
   "outputs": [
    {
     "data": {
      "text/plain": [
       "''"
      ]
     },
     "execution_count": 19,
     "metadata": {},
     "output_type": "execute_result"
    }
   ],
   "source": [
    "bot.execute()"
   ]
  },
  {
   "cell_type": "code",
   "execution_count": 20,
   "id": "6b6a3cd2",
   "metadata": {},
   "outputs": [],
   "source": [
    "prompt = \"\"\"\n",
    "You run in a loop of Thought, Action, PAUSE, Observation.\n",
    "At the end of the loop your output an Answer.\n",
    "Use Thought to describe your thoughts about the question you have been asked.\n",
    "Use Action to run one of the actions available to you - then return PAUSE.\n",
    "Observation will be the result of running those actions.\n",
    "\n",
    "\n",
    "Your available actions are:\n",
    "calculate:\n",
    "e.g. calculate: 4 * 7 / 3\n",
    "Runs a calculation and returns the number - uses Python so be sure to use floating point\n",
    "syntax if necessary\n",
    "\n",
    "wikipedia:\n",
    "e.g. wikipedia: Django\n",
    "Returns a summary from searching Wikipedia\n",
    "\n",
    "simon_blog_search:\n",
    "e.g. simon_blog_search: Python\n",
    "Search Simon's blog for that term\n",
    "\n",
    "Example session:\n",
    "Question: What is the capital of France?\n",
    "Thought: I should look up France on Wikipedia\n",
    "Action: wikipedia: France\n",
    "PAUSE\n",
    "\n",
    "You will be called again with this:\n",
    "Observation: France is a country. The capital is Paris.\n",
    "\n",
    "You then output:\n",
    "Answer: The capital of France is Paris\n",
    "\n",
    "Please Note: if you get basic conversation questions like \"hi\",\"hello\",\"how are you?\",\\n\n",
    "you have to answer \"hi\",\"hello\",\"i am good\".\n",
    "\"\"\".strip()"
   ]
  },
  {
   "cell_type": "markdown",
   "id": "082479ae",
   "metadata": {},
   "source": [
    "Understand the Regular expression\n",
    "Pattern Breakdown:\n",
    "\n",
    "^: This matches the start of a string. It means the string must begin with what follows.\n",
    "Action:: This is a literal match. It means the string must have the text \"Action:\" at the beginning.\n",
    "(\\w+):\n",
    "The parentheses () define a capture group. This allows you to extract part of the string that matches this section.\n",
    "\\w+ matches one or more word characters (letters, digits, and underscores). This will capture a word that follows \"Action:\".\n",
    ":: This is a literal colon that separates the word matched by (\\w+) from the rest of the string.\n",
    "(.*):\n",
    "This is another capture group, where .* matches any character (.) zero or more times (*), which means it captures everything that comes after the second colon.\n",
    "What does it do?\n",
    "This regex is looking for a string that:\n",
    "\n",
    "Starts with the text \"Action:\".\n",
    "Has a word right after it, separated by a colon.\n",
    "Then, after another colon, it captures everything that follows."
   ]
  },
  {
   "cell_type": "code",
   "execution_count": 24,
   "id": "5196fc00",
   "metadata": {},
   "outputs": [],
   "source": [
    "import re\n",
    "action_re = re.compile(r'^Action: (\\w+): (.*)')"
   ]
  },
  {
   "cell_type": "code",
   "execution_count": 25,
   "id": "126a45d6",
   "metadata": {},
   "outputs": [],
   "source": [
    "import re\n",
    "\n",
    "# Compiling the regular expression pattern\n",
    "action_re = re.compile(r'^Action: (\\w+): (.*)')\n",
    "\n",
    "# Sample strings\n",
    "text1 = \"Action: Move: North\"\n",
    "text2 = \"Action: Jump: High\"\n",
    "text3 = \"Error: Not an Action\""
   ]
  },
  {
   "cell_type": "code",
   "execution_count": 27,
   "id": "4322f41b",
   "metadata": {},
   "outputs": [
    {
     "data": {
      "text/plain": [
       "<re.Match object; span=(0, 19), match='Action: Move: North'>"
      ]
     },
     "execution_count": 27,
     "metadata": {},
     "output_type": "execute_result"
    }
   ],
   "source": [
    "match1 = action_re.match(text1)\n",
    "match1"
   ]
  },
  {
   "cell_type": "code",
   "execution_count": 34,
   "id": "a3e23b7c",
   "metadata": {},
   "outputs": [
    {
     "data": {
      "text/plain": [
       "'Move'"
      ]
     },
     "execution_count": 34,
     "metadata": {},
     "output_type": "execute_result"
    }
   ],
   "source": [
    "match1.group(1)\n"
   ]
  },
  {
   "cell_type": "code",
   "execution_count": 35,
   "id": "d34a4715",
   "metadata": {},
   "outputs": [
    {
     "data": {
      "text/plain": [
       "'North'"
      ]
     },
     "execution_count": 35,
     "metadata": {},
     "output_type": "execute_result"
    }
   ],
   "source": [
    "match1.group(2)"
   ]
  },
  {
   "cell_type": "code",
   "execution_count": 31,
   "id": "c63d0fb1",
   "metadata": {},
   "outputs": [
    {
     "data": {
      "text/plain": [
       "<re.Match object; span=(0, 18), match='Action: Jump: High'>"
      ]
     },
     "execution_count": 31,
     "metadata": {},
     "output_type": "execute_result"
    }
   ],
   "source": [
    "match2 = action_re.match(text2)\n",
    "match2"
   ]
  },
  {
   "cell_type": "code",
   "execution_count": 30,
   "id": "c717c0a6",
   "metadata": {},
   "outputs": [],
   "source": [
    "match3 = action_re.match(text3)\n",
    "match3"
   ]
  },
  {
   "cell_type": "code",
   "execution_count": 32,
   "id": "767459cf",
   "metadata": {},
   "outputs": [
    {
     "name": "stdout",
     "output_type": "stream",
     "text": [
      "Matched: Move, North\n"
     ]
    }
   ],
   "source": [
    "if match1:\n",
    "    print(f\"Matched: {match1.group(1)}, {match1.group(2)}\")"
   ]
  },
  {
   "cell_type": "code",
   "execution_count": 36,
   "id": "1388d4c7",
   "metadata": {},
   "outputs": [
    {
     "name": "stdout",
     "output_type": "stream",
     "text": [
      "Matched: Jump, High\n"
     ]
    }
   ],
   "source": [
    "if match2:\n",
    "    print(f\"Matched: {match2.group(1)}, {match2.group(2)}\")  # Jump, High"
   ]
  },
  {
   "cell_type": "code",
   "execution_count": 37,
   "id": "6daf7186",
   "metadata": {},
   "outputs": [],
   "source": [
    "if match3:\n",
    "    print(\"No match\")  # This won't match, as it doesn't start with \"Action:\""
   ]
  },
  {
   "cell_type": "code",
   "execution_count": 38,
   "id": "2995e6de",
   "metadata": {},
   "outputs": [],
   "source": [
    "import httpx\n",
    "def wikipedia(query):\n",
    "    response = httpx.get(\"https://en.wikipedia.org/w/api.php\", params={\n",
    "        \"action\": \"query\",\n",
    "        \"list\": \"search\",\n",
    "        \"srsearch\": query,\n",
    "        \"format\": \"json\"\n",
    "    })\n",
    "    return response.json()[\"query\"][\"search\"][0][\"snippet\"]"
   ]
  },
  {
   "cell_type": "code",
   "execution_count": 39,
   "id": "fe7827ee",
   "metadata": {},
   "outputs": [],
   "source": [
    "import httpx\n",
    "def simon_blog_search(query):\n",
    "    response = httpx.get(\"https://datasette.simonwillison.net/simonwillisonblog.json\", params={\n",
    "        \"sql\": \"\"\"\n",
    "        select\n",
    "          blog_entry.title || ': ' || substr(html_strip_tags(blog_entry.body), 0, 1000) as text,\n",
    "          blog_entry.created\n",
    "        from\n",
    "          blog_entry join blog_entry_fts on blog_entry.rowid = blog_entry_fts.rowid\n",
    "        where\n",
    "          blog_entry_fts match escape_fts(:q)\n",
    "        order by\n",
    "          blog_entry_fts.rank\n",
    "        limit\n",
    "          1\n",
    "        \"\"\".strip(),\n",
    "        \"_shape\": \"array\",\n",
    "        \"q\": query,\n",
    "    })\n",
    "    return response.json()[0][\"text\"]"
   ]
  },
  {
   "cell_type": "code",
   "execution_count": 40,
   "id": "ee9df6ce",
   "metadata": {},
   "outputs": [],
   "source": [
    "def calculate(number):\n",
    "    return eval(number)"
   ]
  },
  {
   "cell_type": "code",
   "execution_count": 41,
   "id": "c8663b43",
   "metadata": {},
   "outputs": [
    {
     "data": {
      "text/plain": [
       "4"
      ]
     },
     "execution_count": 41,
     "metadata": {},
     "output_type": "execute_result"
    }
   ],
   "source": [
    "calculate(\"2+2\")"
   ]
  },
  {
   "cell_type": "code",
   "execution_count": 48,
   "id": "1525d0c1",
   "metadata": {},
   "outputs": [],
   "source": [
    "known_actions = {\n",
    "    \"wikipedia\": wikipedia,\n",
    "    \"calculate\": calculate,\n",
    "    \"simon_blog_search\": simon_blog_search\n",
    "}"
   ]
  },
  {
   "cell_type": "code",
   "execution_count": 49,
   "id": "f3da49c9",
   "metadata": {},
   "outputs": [],
   "source": [
    "bot = Chatbot(prompt)"
   ]
  },
  {
   "cell_type": "code",
   "execution_count": 50,
   "id": "fe3f130d",
   "metadata": {},
   "outputs": [
    {
     "data": {
      "text/plain": [
       "'Thought: I need to search Wikipedia for information about quantum computing.\\nAction: wikipedia: quantum computing\\nPAUSE'"
      ]
     },
     "execution_count": 50,
     "metadata": {},
     "output_type": "execute_result"
    }
   ],
   "source": [
    "next_prompt=\"Tell me about quantum computing from Wikipedia.\"\n",
    "\n",
    "result = bot(next_prompt)\n",
    "\n",
    "result"
   ]
  },
  {
   "cell_type": "code",
   "execution_count": 51,
   "id": "3170eb2c",
   "metadata": {},
   "outputs": [
    {
     "data": {
      "text/plain": [
       "[<re.Match object; span=(0, 36), match='Action: wikipedia: quantum computing'>]"
      ]
     },
     "execution_count": 51,
     "metadata": {},
     "output_type": "execute_result"
    }
   ],
   "source": [
    "actions = [action_re.match(a) for a in result.split('\\n') if action_re.match(a)]\n",
    "\n",
    "actions"
   ]
  },
  {
   "cell_type": "code",
   "execution_count": 52,
   "id": "37f8d0a1",
   "metadata": {},
   "outputs": [
    {
     "data": {
      "text/plain": [
       "'quantum computing'"
      ]
     },
     "execution_count": 52,
     "metadata": {},
     "output_type": "execute_result"
    }
   ],
   "source": [
    "action, action_input = actions[0].groups()\n",
    "\n",
    "action_input"
   ]
  },
  {
   "cell_type": "code",
   "execution_count": 53,
   "id": "8ed82645",
   "metadata": {},
   "outputs": [
    {
     "data": {
      "text/plain": [
       "'wikipedia'"
      ]
     },
     "execution_count": 53,
     "metadata": {},
     "output_type": "execute_result"
    }
   ],
   "source": [
    "action"
   ]
  },
  {
   "cell_type": "code",
   "execution_count": 54,
   "id": "70ac5bba",
   "metadata": {},
   "outputs": [
    {
     "data": {
      "text/plain": [
       "'and <span class=\"searchmatch\">quantum</span> <span class=\"searchmatch\">computing</span> takes advantage of this behavior using specialized hardware. Classical physics cannot explain the operation of these <span class=\"searchmatch\">quantum</span> devices'"
      ]
     },
     "execution_count": 54,
     "metadata": {},
     "output_type": "execute_result"
    }
   ],
   "source": [
    "known_actions[action](action_input)"
   ]
  },
  {
   "cell_type": "code",
   "execution_count": 57,
   "id": "099409e5",
   "metadata": {},
   "outputs": [],
   "source": [
    "def query(question, max_turns=5):\n",
    "    i=0\n",
    "    bot = Chatbot(prompt)\n",
    "    next_prompt = question\n",
    "    while i < max_turns:\n",
    "        i +=1 \n",
    "        result = bot(next_prompt)\n",
    "        print(result)\n",
    "        actions = [action_re.match(a) for a in result.split('\\n') if action_re.match(a)]\n",
    "        if actions:\n",
    "            action, action_input = actions[0].groups()\n",
    "            if action not in known_actions:\n",
    "                raise Exception(f\"Unknown action: {action}: {action_input}\")\n",
    "            print(\" -- running {} {}\".format(action, action_input))\n",
    "            observation = known_actions[action](action_input)\n",
    "            print(\"Observation:\", observation)\n",
    "            next_prompt = f\"Observation: {observation}\"\n",
    "\n",
    "        else:\n",
    "            return result"
   ]
  },
  {
   "cell_type": "code",
   "execution_count": 58,
   "id": "9ae7bd83",
   "metadata": {},
   "outputs": [
    {
     "name": "stdout",
     "output_type": "stream",
     "text": [
      "Thought: This is a basic conversational question.\n",
      "Action: PAUSE\n",
      "Observation:\n",
      "Answer: hi\n"
     ]
    },
    {
     "data": {
      "text/plain": [
       "'Thought: This is a basic conversational question.\\nAction: PAUSE\\nObservation:\\nAnswer: hi'"
      ]
     },
     "execution_count": 58,
     "metadata": {},
     "output_type": "execute_result"
    }
   ],
   "source": [
    "query(\"hello\")"
   ]
  },
  {
   "cell_type": "code",
   "execution_count": 59,
   "id": "670acf4f",
   "metadata": {},
   "outputs": [
    {
     "name": "stdout",
     "output_type": "stream",
     "text": [
      "Thought: This is a basic conversation question. I should respond appropriately.\n",
      "Action:\n",
      "PAUSE\n",
      "Observation:\n",
      "Answer: hi\n"
     ]
    },
    {
     "data": {
      "text/plain": [
       "'Thought: This is a basic conversation question. I should respond appropriately.\\nAction:\\nPAUSE\\nObservation:\\nAnswer: hi'"
      ]
     },
     "execution_count": 59,
     "metadata": {},
     "output_type": "execute_result"
    }
   ],
   "source": [
    "query(\"what you doing?\")"
   ]
  },
  {
   "cell_type": "code",
   "execution_count": 60,
   "id": "b834fdfc",
   "metadata": {},
   "outputs": [
    {
     "name": "stdout",
     "output_type": "stream",
     "text": [
      "Thought: I need to calculate the product of 15 and 25.\n",
      "Action: calculate: 15 * 25\n",
      "PAUSE\n",
      " -- running calculate 15 * 25\n",
      "Observation: 375\n",
      "Answer: 375\n",
      "Answer: 375\n"
     ]
    }
   ],
   "source": [
    "print(query(\"Fifteen * twenty five\"))"
   ]
  },
  {
   "cell_type": "code",
   "execution_count": 61,
   "id": "6e86af28",
   "metadata": {},
   "outputs": [
    {
     "name": "stdout",
     "output_type": "stream",
     "text": [
      "Thought: I need to search Simon's blog for the term \"AI\" or \"Artificial Intelligence\" to see if he has written about it.\n",
      "Action: simon_blog_search: AI\n",
      "PAUSE\n",
      " -- running simon_blog_search AI\n",
      "Observation: It's OK to call it Artificial Intelligence: Update 9th January 2024: This post was clumsily written and failed to make the point I wanted it to make. I've published a follow-up, What I should have said about the term Artificial Intelligence which you should read instead.\n",
      "My original post follows.\n",
      "\n",
      "\n",
      "We need to be having high quality conversations about AI: what it can and can't do, its many risks and pitfalls and how to integrate it into society in the most beneficial ways possible.\n",
      "Any time I write anything that mentions AI it's inevitable that someone will object to the very usage of the term.\n",
      "Strawman: \"Don't call it AI! It's not actually intelligent - it's just spicy autocomplete.\"\n",
      "That strawman is right: it's not \"intelligent\" in the same way that humans are. And \"spicy autocomplete\" is actually a pretty good analogy for how a lot of these things work. But I still don't think this argument is a helpful contribution to the discussion.\n",
      "We need an agreed term for this class of technology, in order to have conversations\n",
      "Thought: Simon has written about AI and the use of the term \"Artificial Intelligence\".\n",
      "Answer: Yes, Simon has written about AI, specifically regarding the use of the term \"Artificial Intelligence\".\n"
     ]
    },
    {
     "data": {
      "text/plain": [
       "'Thought: Simon has written about AI and the use of the term \"Artificial Intelligence\".\\nAnswer: Yes, Simon has written about AI, specifically regarding the use of the term \"Artificial Intelligence\".'"
      ]
     },
     "execution_count": 61,
     "metadata": {},
     "output_type": "execute_result"
    }
   ],
   "source": [
    "query(\"Has Simon written about AI?\")"
   ]
  }
 ],
 "metadata": {
  "kernelspec": {
   "display_name": "venv",
   "language": "python",
   "name": "python3"
  },
  "language_info": {
   "codemirror_mode": {
    "name": "ipython",
    "version": 3
   },
   "file_extension": ".py",
   "mimetype": "text/x-python",
   "name": "python",
   "nbconvert_exporter": "python",
   "pygments_lexer": "ipython3",
   "version": "3.12.7"
  }
 },
 "nbformat": 4,
 "nbformat_minor": 5
}
