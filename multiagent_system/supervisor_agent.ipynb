{
 "cells": [
  {
   "cell_type": "code",
   "execution_count": 25,
   "id": "c1701520",
   "metadata": {},
   "outputs": [],
   "source": [
    "from typing import Annotated\n",
    "from typing import Literal\n",
    "from langchain_community.tools.tavily_search import TavilySearchResults\n",
    "from langchain_core.tools import tool\n",
    "from langchain_experimental.utilities import PythonREPL\n",
    "from typing_extensions import TypedDict\n",
    "from langgraph.graph import MessagesState, END,StateGraph, START\n",
    "from langgraph.types import Command\n",
    "from langchain_core.messages import HumanMessage\n",
    "from langgraph.prebuilt import create_react_agent"
   ]
  },
  {
   "cell_type": "code",
   "execution_count": 26,
   "id": "4e1d8239",
   "metadata": {},
   "outputs": [
    {
     "data": {
      "text/plain": [
       "True"
      ]
     },
     "execution_count": 26,
     "metadata": {},
     "output_type": "execute_result"
    }
   ],
   "source": [
    "from dotenv import load_dotenv\n",
    "load_dotenv()"
   ]
  },
  {
   "cell_type": "code",
   "execution_count": 27,
   "id": "485387dc",
   "metadata": {},
   "outputs": [],
   "source": [
    "from langchain_groq import ChatGroq\n",
    "import os\n",
    "groq_api_key = os.getenv(\"GROQ_API_KEY\")\n",
    "llm = ChatGroq(model=\"deepseek-r1-distill-llama-70b\",api_key=groq_api_key)"
   ]
  },
  {
   "cell_type": "code",
   "execution_count": 28,
   "id": "b00913e4",
   "metadata": {},
   "outputs": [],
   "source": [
    "import re\n",
    "def clean_text(text):\n",
    "    clean_text = re.sub(r\"<think>.*?</think>\\s*\",\"\",text,flags=re.DOTALL)\n",
    "    return clean_text"
   ]
  },
  {
   "cell_type": "code",
   "execution_count": 29,
   "id": "9e01724d",
   "metadata": {},
   "outputs": [
    {
     "data": {
      "text/plain": [
       "'Hello! How can I assist you today? 😊'"
      ]
     },
     "execution_count": 29,
     "metadata": {},
     "output_type": "execute_result"
    }
   ],
   "source": [
    "response = llm.invoke(\"hello\")\n",
    "clean_text(response.content)"
   ]
  },
  {
   "cell_type": "code",
   "execution_count": 30,
   "id": "c0c487a1",
   "metadata": {},
   "outputs": [],
   "source": [
    "tavily_tool = TavilySearchResults()"
   ]
  },
  {
   "cell_type": "code",
   "execution_count": 31,
   "id": "328085e6",
   "metadata": {},
   "outputs": [],
   "source": [
    "code = \"\"\"\n",
    "x=5\n",
    "y=x*2\n",
    "print(y)\n",
    "\"\"\""
   ]
  },
  {
   "cell_type": "code",
   "execution_count": 32,
   "id": "d09af5af",
   "metadata": {},
   "outputs": [
    {
     "data": {
      "text/plain": [
       "'10\\n'"
      ]
     },
     "execution_count": 32,
     "metadata": {},
     "output_type": "execute_result"
    }
   ],
   "source": [
    "repl = PythonREPL()\n",
    "repl.run(code)"
   ]
  },
  {
   "cell_type": "code",
   "execution_count": 33,
   "id": "11087b6e",
   "metadata": {},
   "outputs": [
    {
     "name": "stderr",
     "output_type": "stream",
     "text": [
      "<>:10: SyntaxWarning: invalid escape sequence '\\`'\n",
      "<>:10: SyntaxWarning: invalid escape sequence '\\`'\n",
      "<>:10: SyntaxWarning: invalid escape sequence '\\`'\n",
      "<>:10: SyntaxWarning: invalid escape sequence '\\`'\n",
      "C:\\Users\\Parth\\AppData\\Local\\Temp\\ipykernel_6356\\835468712.py:10: SyntaxWarning: invalid escape sequence '\\`'\n",
      "  result_str = f\"Successfully executed:\\n\\`\\`\\`python\\n{code}\\n\\`\\`\\`\\nStdout: {result}\"\n",
      "C:\\Users\\Parth\\AppData\\Local\\Temp\\ipykernel_6356\\835468712.py:10: SyntaxWarning: invalid escape sequence '\\`'\n",
      "  result_str = f\"Successfully executed:\\n\\`\\`\\`python\\n{code}\\n\\`\\`\\`\\nStdout: {result}\"\n"
     ]
    }
   ],
   "source": [
    "@tool\n",
    "def python_repl_tool(code: Annotated[str,\"The python code to execute to generate your chart.\"]):\n",
    "    \"\"\"Use this to execute python code and do math. If you want to see the output of a value,\n",
    "    you should print it out with `print(...)`. This is visible to the user.\"\"\"\n",
    "    try:\n",
    "        result = repl.run(code)\n",
    "    except BaseException as e:\n",
    "        return f\"Error: {e}\"\n",
    "    \n",
    "    result_str = f\"Successfully executed:\\n\\`\\`\\`python\\n{code}\\n\\`\\`\\`\\nStdout: {result}\"\n",
    "    return result_str"
   ]
  },
  {
   "cell_type": "code",
   "execution_count": 34,
   "id": "c2fc1bf1",
   "metadata": {},
   "outputs": [
    {
     "name": "stdout",
     "output_type": "stream",
     "text": [
      "Successfully executed:\n",
      "\\`\\`\\`python\n",
      "\n",
      "x=5\n",
      "y=x*2\n",
      "print(y)\n",
      "\n",
      "\\`\\`\\`\n",
      "Stdout: 10\n",
      "\n"
     ]
    }
   ],
   "source": [
    "print(python_repl_tool.invoke(code))"
   ]
  },
  {
   "cell_type": "code",
   "execution_count": 35,
   "id": "49f3ef0a",
   "metadata": {},
   "outputs": [
    {
     "data": {
      "text/plain": [
       "['researcher', 'coder', 'FINISH']"
      ]
     },
     "execution_count": 35,
     "metadata": {},
     "output_type": "execute_result"
    }
   ],
   "source": [
    "members=[\"researcher\",\"coder\"]\n",
    "options=members+[\"FINISH\"]\n",
    "options"
   ]
  },
  {
   "cell_type": "code",
   "execution_count": 36,
   "id": "a2761ec8",
   "metadata": {},
   "outputs": [],
   "source": [
    "class Router(TypedDict):\n",
    "    \"\"\"Worker to route to next. If no workers needed, route to FINISH.\"\"\"\n",
    "    next: Literal[\"researcher\",\"coder\",\"FINISH\"]"
   ]
  },
  {
   "cell_type": "code",
   "execution_count": 37,
   "id": "4ea2dae0",
   "metadata": {},
   "outputs": [],
   "source": [
    "class State(MessagesState):\n",
    "    next:str"
   ]
  },
  {
   "cell_type": "code",
   "execution_count": 38,
   "id": "0e5eea2c",
   "metadata": {},
   "outputs": [],
   "source": [
    "system_prompt=f\"\"\"\n",
    "You are a supervisor, tasked with managing a conversation between the following workers: {members}. \n",
    "Given the following user request, respond with the worker to act next. \n",
    "Each worker will perform a task and respond with their results and status.\n",
    "Each worker is designed for doing a specific task,so call worker for their specialized task. \n",
    "When finished, respond with FINISH.\n",
    "\"\"\""
   ]
  },
  {
   "cell_type": "code",
   "execution_count": 39,
   "id": "795099f9",
   "metadata": {},
   "outputs": [],
   "source": [
    "state={\"next\":[\"hi\"]}"
   ]
  },
  {
   "cell_type": "code",
   "execution_count": 40,
   "id": "ed5db0d5",
   "metadata": {},
   "outputs": [
    {
     "data": {
      "text/plain": [
       "['hi']"
      ]
     },
     "execution_count": 40,
     "metadata": {},
     "output_type": "execute_result"
    }
   ],
   "source": [
    "state[\"next\"]"
   ]
  },
  {
   "cell_type": "code",
   "execution_count": 41,
   "id": "d63edc91",
   "metadata": {},
   "outputs": [
    {
     "data": {
      "text/plain": [
       "[{'role': 'system',\n",
       "  'content': \"\\nYou are a supervisor, tasked with managing a conversation between the following workers: ['researcher', 'coder']. \\nGiven the following user request, respond with the worker to act next. \\nEach worker will perform a task and respond with their results and status.\\nEach worker is designed for doing a specific task,so call worker for their specialized task. \\nWhen finished, respond with FINISH.\\n\"},\n",
       " 'hi']"
      ]
     },
     "execution_count": 41,
     "metadata": {},
     "output_type": "execute_result"
    }
   ],
   "source": [
    "[{\"role\":\"system\",\"content\":system_prompt}] + state[\"next\"]"
   ]
  },
  {
   "cell_type": "code",
   "execution_count": 42,
   "id": "6ccd17ce",
   "metadata": {},
   "outputs": [],
   "source": [
    "def supervisor_node(state:State) -> Command[Literal[\"researcher\",\"coder\",\"__end__\"]]:\n",
    "    messages = [{\"role\":\"system\",\"content\":system_prompt}]+ state[\"messages\"]\n",
    "\n",
    "    response = llm.with_structured_output(Router).invoke(messages)\n",
    "\n",
    "    goto = response[\"next\"]\n",
    "\n",
    "    print(\"below my goto**********************************\")\n",
    "\n",
    "    print(goto)\n",
    "\n",
    "    if goto == \"FINISH\":\n",
    "        goto=END\n",
    "    return Command(goto=goto,update={\"next\":goto})"
   ]
  },
  {
   "cell_type": "code",
   "execution_count": 43,
   "id": "f8266f90",
   "metadata": {},
   "outputs": [],
   "source": [
    "def research_node(state: State) -> Command[Literal[\"supervisor\"]]:\n",
    "    research_agent = create_react_agent(llm,tools=[tavily_tool],prompt=\"You are a researcher. DO NOT do any math.\")\n",
    "    result = research_agent.invoke(state)\n",
    "\n",
    "    return Command(\n",
    "        update={\n",
    "            \"messages\": [\n",
    "                HumanMessage(content=result[\"messages\"][-1].content, name=\"researcher\")\n",
    "            ]\n",
    "        },\n",
    "        goto = \"supervisor\",\n",
    "    )"
   ]
  },
  {
   "cell_type": "code",
   "execution_count": 44,
   "id": "8f62d0a8",
   "metadata": {},
   "outputs": [],
   "source": [
    "def code_node(state: State) -> Command[Literal[\"supervisor\"]]:\n",
    "    \n",
    "    code_agent = create_react_agent(llm, tools=[python_repl_tool])\n",
    "    \n",
    "    result = code_agent.invoke(state)\n",
    "    \n",
    "    return Command(\n",
    "        update={\n",
    "            \"messages\": [\n",
    "                HumanMessage(content=result[\"messages\"][-1].content, name=\"coder\")\n",
    "            ]\n",
    "        },\n",
    "        goto=\"supervisor\",\n",
    "    )"
   ]
  },
  {
   "cell_type": "code",
   "execution_count": 45,
   "id": "ed4e62fc",
   "metadata": {},
   "outputs": [],
   "source": [
    "graph = StateGraph(State)\n",
    "\n",
    "graph.add_node(\"supervisor\",supervisor_node)\n",
    "graph.add_node(\"researcher\", research_node)\n",
    "graph.add_node(\"coder\", code_node)\n",
    "\n",
    "graph.add_edge(START,\"supervisor\")\n",
    "\n",
    "app=graph.compile()"
   ]
  },
  {
   "cell_type": "code",
   "execution_count": 46,
   "id": "95aa24d1",
   "metadata": {},
   "outputs": [
    {
     "data": {
      "image/png": "[encoded data removed]",
      "text/plain": [
       "<IPython.core.display.Image object>"
      ]
     },
     "metadata": {},
     "output_type": "display_data"
    }
   ],
   "source": [
    "from IPython.display import display,Image\n",
    "\n",
    "display(Image(app.get_graph().draw_mermaid_png()))"
   ]
  },
  {
   "cell_type": "code",
   "execution_count": 47,
   "id": "8edc8ad5",
   "metadata": {},
   "outputs": [],
   "source": [
    "# app.invoke({\"messages\": [(\"user\", \"What's the square root of 42?\")]}, subgraphs=True)"
   ]
  },
  {
   "cell_type": "markdown",
   "id": "48877bc4",
   "metadata": {},
   "source": [
    "below my goto**********************************\n",
    "researcher\n",
    "below my goto**********************************\n",
    "coder\n",
    "below my goto**********************************\n",
    "researcher\n",
    "below my goto**********************************\n",
    "researcher\n",
    "below my goto**********************************\n",
    "researcher\n",
    "below my goto**********************************\n",
    "researcher\n",
    "below my goto**********************************\n",
    "FINISH\n",
    "((),\n",
    " {'messages': [HumanMessage(content=\"What's the square root of 42?\", additional_kwargs={}, response_metadata={}, id='0148a4dc-b9a8-4e88-a833-b8cfc5f7d534'),\n",
    "   HumanMessage(content='The square root of 42 is approximately 6.4807.', additional_kwargs={}, response_metadata={}, name='researcher', id='6ca2b517-8aa8-4fbe-b090-06db841a0633'),\n",
    "   HumanMessage(content='The square root of 42 is approximately 6.4807.', additional_kwargs={}, response_metadata={}, name='coder', id='aab929b1-70a6-4f39-9921-40cb1389e6b3'),\n",
    "   HumanMessage(content='The square root of 42 is approximately 6.48.', additional_kwargs={}, response_metadata={}, name='researcher', id='b2ae425e-d463-42fc-b478-e1cf34f0e3c3'),\n",
    "   HumanMessage(content='The square root of 42 is approximately 6.4807.', additional_kwargs={}, response_metadata={}, name='researcher', id='ff169091-69c0-49d8-a558-ed12999bd6f4'),\n",
    "   HumanMessage(content='The square root of 42 is approximately 6.4807.', additional_kwargs={}, response_metadata={}, name='researcher', id='8852e20b-5731-420a-a9bf-ef761b6539f0'),\n",
    "   HumanMessage(content='The square root of 42 is approximately 6.4807.', additional_kwargs={}, response_metadata={}, name='researcher', id='78215c01-36c7-4020-b773-74fa55b16838')],\n",
    "  'next': '__end__'})"
   ]
  },
  {
   "cell_type": "code",
   "execution_count": 49,
   "id": "f060cb5e",
   "metadata": {},
   "outputs": [
    {
     "name": "stdout",
     "output_type": "stream",
     "text": [
      "below my goto**********************************\n",
      "coder\n",
      "below my goto**********************************\n",
      "coder\n",
      "below my goto**********************************\n",
      "coder\n",
      "below my goto**********************************\n",
      "coder\n",
      "below my goto**********************************\n",
      "coder\n",
      "below my goto**********************************\n",
      "coder\n",
      "below my goto**********************************\n",
      "FINISH\n"
     ]
    },
    {
     "data": {
      "text/plain": [
       "((),\n",
       " {'messages': [HumanMessage(content='generate python code to print 1 to 5', additional_kwargs={}, response_metadata={}, id='2d073f1e-c125-402e-8314-acb264d37e0f'),\n",
       "   HumanMessage(content='The Python code to print numbers from 1 to 5 is as follows:\\n\\n```python\\nfor i in range(1, 6):\\n    print(i)\\n```\\n\\nThis will output:\\n```\\n1\\n2\\n3\\n4\\n5\\n```', additional_kwargs={}, response_metadata={}, name='coder', id='465260dc-a05b-4313-9791-b46f17e5b6d5'),\n",
       "   HumanMessage(content=\"Here's the Python code to print numbers from 1 to 5:\\n\\n```python\\nfor i in range(1, 6):\\n    print(i)\\n```\\n\\nWhen executed, this will output:\\n\\n```\\n1\\n2\\n3\\n4\\n5\\n```\\n\\nLet me know if you need further assistance!\", additional_kwargs={}, response_metadata={}, name='coder', id='c6b6147d-0502-46d4-81df-170bde2aa201'),\n",
       "   HumanMessage(content=\"To print the numbers from 1 to 5 in Python, you can use a simple `for` loop with the `range()` function. Here's how you can do it:\\n\\n```python\\nfor i in range(1, 6):\\n    print(i)\\n```\\n\\n**Output:**\\n```\\n1\\n2\\n3\\n4\\n5\\n```\\n\\nThis code will loop through the numbers 1 to 5 and print each one on a new line.\", additional_kwargs={}, response_metadata={}, name='coder', id='ff020d28-0229-4913-ae7f-ed57257bd01b'),\n",
       "   HumanMessage(content='Here is the Python code to print numbers from 1 to 5:\\n\\n```python\\nfor i in range(1, 6):\\n    print(i)\\n```\\n\\nWhen executed, this will output:\\n\\n```\\n1\\n2\\n3\\n4\\n5\\n```\\n\\nLet me know if you need further assistance!', additional_kwargs={}, response_metadata={}, name='coder', id='1501c7ea-ddde-4d08-b07f-5d1cfb33cfe9'),\n",
       "   HumanMessage(content='Great! The code successfully printed the numbers from 1 to 5. Let me know if you have any other questions or need further assistance!', additional_kwargs={}, response_metadata={}, name='coder', id='df544bc6-ebed-4286-86d2-4b8bbca4cdaf'),\n",
       "   HumanMessage(content='The code successfully printed the numbers from 1 to 5. Let me know if you have any other questions or need further assistance!', additional_kwargs={}, response_metadata={}, name='coder', id='944f59e3-f8fe-4eb1-932d-0d9f7536c6d2')],\n",
       "  'next': '__end__'})"
      ]
     },
     "execution_count": 49,
     "metadata": {},
     "output_type": "execute_result"
    }
   ],
   "source": [
    "app.invoke({\"messages\": [(\"user\", \"generate python code to print 1 to 5\")]}, subgraphs=True)"
   ]
  }
 ],
 "metadata": {
  "kernelspec": {
   "display_name": ".venv",
   "language": "python",
   "name": "python3"
  },
  "language_info": {
   "codemirror_mode": {
    "name": "ipython",
    "version": 3
   },
   "file_extension": ".py",
   "mimetype": "text/x-python",
   "name": "python",
   "nbconvert_exporter": "python",
   "pygments_lexer": "ipython3",
   "version": "3.12.7"
  }
 },
 "nbformat": 4,
 "nbformat_minor": 5
}
