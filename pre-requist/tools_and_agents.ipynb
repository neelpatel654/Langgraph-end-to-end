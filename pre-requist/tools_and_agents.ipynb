{
 "cells": [
  {
   "cell_type": "code",
   "execution_count": 247,
   "id": "998508fb",
   "metadata": {},
   "outputs": [
    {
     "data": {
      "text/plain": [
       "True"
      ]
     },
     "execution_count": 247,
     "metadata": {},
     "output_type": "execute_result"
    }
   ],
   "source": [
    "import os\n",
    "from dotenv import load_dotenv\n",
    "load_dotenv()"
   ]
  },
  {
   "cell_type": "code",
   "execution_count": 248,
   "id": "3a9c6b77",
   "metadata": {},
   "outputs": [],
   "source": [
    "gemini_api_key = os.getenv(\"GEMINI_API_KEY\")\n",
    "tavily_api_key = os.getenv(\"TAVILY_API_KEY\")\n",
    "serper_api_key = os.getenv(\"SERPER_API_KEY\")\n",
    "\n",
    "os.environ[\"TAVILY_API_KEY\"] = tavily_api_key\n",
    "os.environ[\"SERPER_API_KEY\"] = serper_api_key"
   ]
  },
  {
   "cell_type": "code",
   "execution_count": 249,
   "id": "a6d29d02",
   "metadata": {},
   "outputs": [],
   "source": [
    "from langchain_google_genai import GoogleGenerativeAIEmbeddings\n",
    "embeddings = GoogleGenerativeAIEmbeddings(model=\"models/embedding-001\",google_api_key=gemini_api_key)"
   ]
  },
  {
   "cell_type": "code",
   "execution_count": 250,
   "id": "1a495049",
   "metadata": {},
   "outputs": [],
   "source": [
    "from langchain_google_genai import ChatGoogleGenerativeAI\n",
    "llm = ChatGoogleGenerativeAI(model=\"gemini-2.0-flash\",api_key=gemini_api_key)"
   ]
  },
  {
   "cell_type": "code",
   "execution_count": 251,
   "id": "ca9a4d31",
   "metadata": {},
   "outputs": [
    {
     "data": {
      "text/plain": [
       "'I am doing well, thank you for asking! How are you today?'"
      ]
     },
     "execution_count": 251,
     "metadata": {},
     "output_type": "execute_result"
    }
   ],
   "source": [
    "llm.invoke(\"hi,how are you?\").content"
   ]
  },
  {
   "cell_type": "markdown",
   "id": "11f93d4a",
   "metadata": {},
   "source": [
    "predefine tools"
   ]
  },
  {
   "cell_type": "code",
   "execution_count": 252,
   "id": "6d935e81",
   "metadata": {},
   "outputs": [
    {
     "name": "stdout",
     "output_type": "stream",
     "text": [
      "Page: LangChain\n",
      "Summary: LangChain is a software framework that helps facilitate the integration of large language models (LLMs) into applications. As a language model integration framework, LangChain's use-cases largely overlap with those of language models in general, including document analysis and summarization, chatbots, and code analysis.\n",
      "\n",
      "Page: Retrieval-augmented generation\n",
      "Summary: Retrieval-augmented generation (RAG) is a technique that enables generative artificial intelligence (Gen AI) models to retrieve and incorporate new information. It modifies interactions with a large language model (LLM) so that the model responds to user queries with reference to a specified set of documents, using this information to supplement information from its pre-existing training data. This allows LLMs to use domain-specific and/or updated information. Use cases include providing chatbot access to internal company data or generating responses based on authoritative sources.\n",
      "RAG improves large language models (LLMs) by incorporating information retrieval before generating responses. Unlike traditional LLMs that rely on static training data, RAG pulls relevant text from databases, uploaded documents, or web sources. According to Ars Technica, \"RAG is a way of improving LLM performance, in essence by blending the LLM process with a web search or other document look-up process to help LLMs stick to the facts.\" This method helps reduce AI hallucinations, which have led to real-world issues like chatbots inventing policies or lawyers citing nonexistent legal cases.\n",
      "By dynamically retrieving information, RAG enables AI to provide more accurate responses without frequent retraining. According to IBM, \"RAG also reduces the need for users to continuously train the model on new data and update its parameters as circumstances evolve. In this way, RAG can lower the computational and financial costs of running LLM-powered chatbots in an enterprise setting.\"\n",
      "Beyond efficiency gains, RAG also allows LLMs to include source references in their responses, enabling users to verify information by reviewing cited documents or original sources. This can provide greater transparency, as users can cross-check retrieved content to ensure accuracy and relevance.\n",
      "Retrieval-Augmented Generation (RAG) was first introduced in 2020 by Douwe Kiela, Patrick Lewis, Ethan Perez, Aleksandra Piktus, Fabio Petroni, Vladimir Karpukhin, Naman Goyal, Heinrich Küttler, Mike Lewis, Wen-tau Yih, Tim Rocktäschel, and Sebastian Riedel in their research paper Retrieval-Augmented Generation for Knowledge-Intensive NLP Tasks, at Meta.\n",
      "\n",
      "Page: Milvus (vector database)\n",
      "Summary: Milvus is a distributed vector database developed by Zilliz. It is available as both open-source software and a cloud service.\n",
      "Milvus is an open-source project under LF AI & Data Foundation distributed under the Apache License 2.0.\n"
     ]
    }
   ],
   "source": [
    "from langchain_community.tools import WikipediaQueryRun\n",
    "from langchain_community.utilities import WikipediaAPIWrapper\n",
    "\n",
    "api_wrapper = WikipediaAPIWrapper()\n",
    "tool = WikipediaQueryRun(api_wrapper=api_wrapper)\n",
    "print(tool.run({\"query\": \"langchain\"}))"
   ]
  },
  {
   "cell_type": "code",
   "execution_count": 253,
   "id": "e98e45fd",
   "metadata": {},
   "outputs": [
    {
     "data": {
      "text/plain": [
       "\"['https://www.youtube.com/watch?v=m9s1NQG3TNY&pp=ygUMY2FycnkgbWluYXRp', 'https://www.youtube.com/watch?v=GOFQN8otiYs&pp=ygUMY2FycnkgbWluYXRp']\""
      ]
     },
     "execution_count": 253,
     "metadata": {},
     "output_type": "execute_result"
    }
   ],
   "source": [
    "from langchain_community.tools import YouTubeSearchTool\n",
    "tool2 = YouTubeSearchTool()\n",
    "tool2.run(\"carry minati\")"
   ]
  },
  {
   "cell_type": "code",
   "execution_count": 254,
   "id": "4ac331df",
   "metadata": {},
   "outputs": [
    {
     "data": {
      "text/plain": [
       "[{'title': 'Mohandas Karamchand Gandhi | South African History Online',\n",
       "  'url': 'https://www.sahistory.org.za/people/mohandas-karamchand-gandhi',\n",
       "  'content': 'Mohandas Karamchand Gandhi\\nSynopsis\\nlawyer, founder of the Natal Indian Congress, political prisoner, leader of the Indian community in South Africa, political activist against the White South African Government and the British Government in India\\nFirst name\\nMohandas\\nMiddle name\\nKaramchand\\nLast name\\nGandhi\\nDate of birth\\n02-October-1869\\nLocation of birth\\nPorbandar, Gujarat, India\\nDate of death\\n30-January-1948\\nLocation of death\\nNew Delhi, India\\nGender\\nMale [...] Mohandas Karamchand Gandhi was born to a Hindu family on 2 October 1869, in Porbandar, Gujarat, India. He was the last child of Karamchand Gandhi, his father and his father\\'s fourth wife Putlibai. His father,\\xa0 a lawyer and an\\xa0important government official, belonged to the merchant caste. His early schooling was in nearby Rajkot, where his father served as the adviser or prime minister to the local ruler. India was then under British rule. His father died before Gandhi could finish his [...] claim it was Nagar Sheth of Jetpur, Shri Nautamlal B. Mehta (Kamdar), who was the first to use and bestow \"Mahatma\" for Mohandas Karamchand Gandhi on 21 January 1915 at Kamri Bai School, Jetpur, India. From then on, Gandhi was known as Mahatma Gandhi. It is commonly believed that Rabindranath Tagore first bestowed the name. However, this is incorrect.',\n",
       "  'score': 0.8005209},\n",
       " {'title': 'Mohandas Gandhi - Biography, Facts & Beliefs - HISTORY',\n",
       "  'url': 'https://www.history.com/articles/mahatma-gandhi',\n",
       "  'content': 'Revered the world over for his nonviolent philosophy of passive resistance, Mohandas Karamchand Gandhi was known to his many followers as Mahatma, or “the great-souled one.” He began his activism as an Indian immigrant in South Africa in the early 1900s, and in the years following World War I became the leading figure in India’s struggle to gain independence from Great Britain. Known for his ascetic lifestyle–he often dressed only in a loincloth and shawl–and devout Hindu faith, Gandhi was [...] Mohandas Karamchand Gandhi was born on October 2, 1869, at Porbandar, in the present-day Indian state of Gujarat. His father was the dewan (chief minister) of Porbandar; his deeply religious mother was a devoted practitioner of Vaishnavism (worship of the Hindu god Vishnu), influenced by Jainism, an ascetic religion governed by tenets of self-discipline and nonviolence. At the age of 19, Mohandas left home to study law in London at the Inner Temple, one of the city’s four law colleges. Upon',\n",
       "  'score': 0.79675186},\n",
       " {'title': 'Who was Mahatma Gandhi and what impact did he have on India?',\n",
       "  'url': 'https://www.weforum.org/stories/2019/10/mahatma-gandhi-who-what-impact-india/',\n",
       "  'content': \"He's one of the most instantly recognizable figures of the 20th century – Mohandas Karamchand Gandhi, better known to many as Mahatma Gandhi or Great Soul.\",\n",
       "  'score': 0.78709817},\n",
       " {'title': 'Gandhi, Mohandas K.',\n",
       "  'url': 'https://kinginstitute.stanford.edu/gandhi-mohandas-k',\n",
       "  'content': 'Upon his death, Mohandas K. Gandhi was hailed by the\\xa0London Times\\xa0as “the most influential figure India has produced for generations” (“Mr. Gandhi”). Gandhi protested against racism in South Africa and colonial rule in India using nonviolent resistance. A testament to the revolutionary power of\\xa0nonviolence, Gandhi’s approach directly influenced Martin Luther King, Jr., who argued that the Gandhian philosophy was\\xa0“the only morally and practically sound method open to oppressed people in their [...] Gandhi was born 2 October 1869, in Porbandar, in the western part of India, to Karamchand Gandhi, chief minister of Porbandar, and his wife Putlibai, a devout Hindu. At the age of 18, Gandhi began training as a lawyer in England. After completing his barrister’s degree he returned to India in 1891, but was unable to find well-paid work. In 1893, he accepted a one-year contract to do legal work for an Indian firm in South Africa, but remained for 21 years. It was in South Africa that Gandhi was [...] Gandhi, Mohandas K.\\n\\nOctober 2, 1869\\xa0to\\xa0January 30, 1948',\n",
       "  'score': 0.7065353},\n",
       " {'title': 'Mahatma Gandhi | Biography, Education, Religion ... - Britannica',\n",
       "  'url': 'https://www.britannica.com/biography/Mahatma-Gandhi',\n",
       "  'content': 'GlobalSecurity.org - Mohandas Karamchand Gandhi [...] Ask the Chatbot a Question\\nAlso known as: Mohandas Karamchand Gandhi\\nWritten by\\nB.R. Nanda Former Director, Nehru Memorial Museum and Library, New Delhi. Author of Mahatma Gandhi: A Biography and others.\\nB.R. Nanda\\nFact-checked by [...] Youth\\nGandhi was the youngest child of his father’s fourth wife. His father—Karamchand Gandhi, who was the dewan (chief minister) of Porbandar, the capital of a small principality in western India (in what is now Gujarat state) under British suzerainty—did not have much in the way of a formal education. He was, however, an able administrator who knew how to steer his way between the capricious princes, their long-suffering subjects, and the headstrong British political officers in power.',\n",
       "  'score': 0.67037153}]"
      ]
     },
     "execution_count": 254,
     "metadata": {},
     "output_type": "execute_result"
    }
   ],
   "source": [
    "from langchain_community.tools.tavily_search import TavilySearchResults\n",
    "tool3 = TavilySearchResults()\n",
    "tool3.invoke({\"query\": \"who is mohandas karamchand gandhi?\"})"
   ]
  },
  {
   "cell_type": "markdown",
   "id": "7f686a6f",
   "metadata": {},
   "source": [
    "Create a Custom tool"
   ]
  },
  {
   "cell_type": "code",
   "execution_count": 255,
   "id": "31959aad",
   "metadata": {},
   "outputs": [],
   "source": [
    "from langchain.agents import tool\n",
    "@tool\n",
    "def get_word_length(word: str) -> int:\n",
    "    \"\"\"Return the length of a word.\"\"\"\n",
    "    return len(word)"
   ]
  },
  {
   "cell_type": "code",
   "execution_count": 256,
   "id": "bf226066",
   "metadata": {},
   "outputs": [
    {
     "data": {
      "text/plain": [
       "4"
      ]
     },
     "execution_count": 256,
     "metadata": {},
     "output_type": "execute_result"
    }
   ],
   "source": [
    "get_word_length(\"abnc\")"
   ]
  },
  {
   "cell_type": "code",
   "execution_count": 257,
   "id": "46fa50bc",
   "metadata": {},
   "outputs": [],
   "source": [
    "@tool\n",
    "def multiply(a: int, b:int) -> int:\n",
    "    \"\"\"Multiply two numbers.\"\"\"\n",
    "    return a*b"
   ]
  },
  {
   "cell_type": "code",
   "execution_count": 258,
   "id": "dd8136b1",
   "metadata": {},
   "outputs": [
    {
     "name": "stdout",
     "output_type": "stream",
     "text": [
      "multiply\n",
      "Multiply two numbers.\n",
      "{'a': {'title': 'A', 'type': 'integer'}, 'b': {'title': 'B', 'type': 'integer'}}\n"
     ]
    }
   ],
   "source": [
    "print(multiply.name)\n",
    "print(multiply.description)\n",
    "print(multiply.args)"
   ]
  },
  {
   "cell_type": "code",
   "execution_count": 259,
   "id": "ef63e571",
   "metadata": {},
   "outputs": [
    {
     "data": {
      "text/plain": [
       "200"
      ]
     },
     "execution_count": 259,
     "metadata": {},
     "output_type": "execute_result"
    }
   ],
   "source": [
    "multiply.invoke({\"a\":10,\"b\":20})"
   ]
  },
  {
   "cell_type": "markdown",
   "id": "8b7dd4de",
   "metadata": {},
   "source": [
    "Concept of Agents\n",
    "This Agent class from the first version of LangChain(lagacy)\n",
    "they updated it towards the different classes\n",
    "https://python.langchain.com/docs/concepts/"
   ]
  },
  {
   "cell_type": "code",
   "execution_count": 260,
   "id": "5bcd7b60",
   "metadata": {},
   "outputs": [],
   "source": [
    "from langchain.agents import AgentType, load_tools, initialize_agent\n",
    "\n",
    "tool = load_tools([\"wikipedia\"],llm=llm)"
   ]
  },
  {
   "cell_type": "code",
   "execution_count": 261,
   "id": "2e3268e4",
   "metadata": {},
   "outputs": [],
   "source": [
    "agent = initialize_agent(tool,llm,agent=AgentType.ZERO_SHOT_REACT_DESCRIPTION, verbose=True)"
   ]
  },
  {
   "cell_type": "code",
   "execution_count": 262,
   "id": "63b6eb77",
   "metadata": {},
   "outputs": [
    {
     "name": "stdout",
     "output_type": "stream",
     "text": [
      "\n",
      "\n",
      "\u001b[1m> Entering new AgentExecutor chain...\u001b[0m\n",
      "\u001b[32;1m\u001b[1;3mI need to find out what LLaMA is and who created it. I can use Wikipedia to find this information.\n",
      "Action: wikipedia\n",
      "Action Input: LLaMA LLM\u001b[0m\n",
      "Observation: \u001b[36;1m\u001b[1;3mPage: Llama (language model)\n",
      "Summary: Llama (Large Language Model Meta AI, formerly stylized as LLaMA) is a family of large language models (LLMs) released by Meta AI starting in February 2023. The latest version is Llama 4, released in April 2025.\n",
      "Llama models are trained at different parameter sizes, ranging between 1B and 405B. Initially  only a foundation model, starting with Llama 2, Meta AI released instruction fine-tuned versions alongside foundation models.\n",
      "Model weights for the first version of Llama were only available to researchers on a case-by-case basis, under a non-commercial license. Unauthorized copies of the first model were shared via BitTorrent. Subsequent versions of Llama were made accessible outside academia and released under licenses that permitted some commercial use.\n",
      "Alongside the release of Llama 3, Meta added virtual assistant features to Facebook and WhatsApp in select regions, and a standalone website. Both services use a Llama 3 model.\n",
      "\n",
      "\n",
      "\n",
      "Page: Llama.cpp\n",
      "Summary: llama.cpp is an open source software library that performs inference on various large language models such as Llama. It is co-developed alongside the GGML project, a general-purpose tensor library.\n",
      "Command-line tools are included with the library, alongside a server with a simple web interface.\n",
      "\n",
      "\n",
      "\n",
      "Page: List of large language models\n",
      "Summary: A large language model (LLM) is a type of machine learning model designed for natural language processing tasks such as language generation. LLMs are language models with many parameters, and are trained with self-supervised learning on a vast amount of text.\n",
      "This page lists notable large language models.\n",
      "For the training cost column, 1 petaFLOP-day = 1 petaFLOP/sec × 1 day = 8.64E19 FLOP. Also, only the largest model's cost is written.\n",
      "\n",
      "\u001b[0m\n",
      "Thought:\u001b[32;1m\u001b[1;3mI now know that LLaMA is a family of large language models released by Meta AI.\n",
      "Final Answer: LLaMA is a family of large language models released by Meta AI.\u001b[0m\n",
      "\n",
      "\u001b[1m> Finished chain.\u001b[0m\n"
     ]
    },
    {
     "data": {
      "text/plain": [
       "'LLaMA is a family of large language models released by Meta AI.'"
      ]
     },
     "execution_count": 262,
     "metadata": {},
     "output_type": "execute_result"
    }
   ],
   "source": [
    "agent.run(\"what is llama and who create this llm model?\")"
   ]
  },
  {
   "cell_type": "markdown",
   "id": "c99a1b6b",
   "metadata": {},
   "source": [
    "A Tool Calling Agent refers to an AI system or framework that dynamically invokes external tools or APIs to accomplish tasks as part of its decision-making process. Instead of relying solely on internal reasoning or knowledge, the agent calls specific tools to perform actions like calculations, searches, or other operations. This type of agent is often used in real-world applications where tasks require interaction with external systems."
   ]
  },
  {
   "cell_type": "code",
   "execution_count": 263,
   "id": "60e1d5cd",
   "metadata": {},
   "outputs": [
    {
     "data": {
      "text/plain": [
       "[{'title': 'Weather in San Francisco',\n",
       "  'url': 'https://www.weatherapi.com/',\n",
       "  'content': \"{'location': {'name': 'San Francisco', 'region': 'California', 'country': 'United States of America', 'lat': 37.775, 'lon': -122.4183, 'tz_id': 'America/Los_Angeles', 'localtime_epoch': 1744099881, 'localtime': '2025-04-08 01:11'}, 'current': {'last_updated_epoch': 1744099200, 'last_updated': '2025-04-08 01:00', 'temp_c': 12.8, 'temp_f': 55.0, 'is_day': 0, 'condition': {'text': 'Partly cloudy', 'icon': '//cdn.weatherapi.com/weather/64x64/night/116.png', 'code': 1003}, 'wind_mph': 5.8, 'wind_kph': 9.4, 'wind_degree': 278, 'wind_dir': 'W', 'pressure_mb': 1022.0, 'pressure_in': 30.19, 'precip_mm': 0.0, 'precip_in': 0.0, 'humidity': 86, 'cloud': 25, 'feelslike_c': 12.1, 'feelslike_f': 53.7, 'windchill_c': 11.1, 'windchill_f': 51.9, 'heatindex_c': 12.0, 'heatindex_f': 53.6, 'dewpoint_c': 11.4, 'dewpoint_f': 52.5, 'vis_km': 16.0, 'vis_miles': 9.0, 'uv': 0.0, 'gust_mph': 8.8, 'gust_kph': 14.2}}\",\n",
       "  'score': 0.971735},\n",
       " {'title': 'San Francisco weather in April 2025 | Weather25.com',\n",
       "  'url': 'https://www.weather25.com/north-america/usa/california/san-francisco?page=month&month=April',\n",
       "  'content': '| Sun | Mon | Tue | Wed | Thu | Fri | Sat |\\n| --- | --- | --- | --- | --- | --- | --- |\\n| \\n | \\n| 1  53° /48° | 2  53° /46° | 3  53° /46° | 4  62° /48° | 5  64° /53° |\\n| 6  57° /51° | 7  59° /50° | 8  60° /50° | 9  64° /53° | 10  64° /55° | 11  59° /53° | 12  55° /48° |\\n| 13  59° /46° | 14  59° /48° | 15  60° /48° | 16  62° /48° | 17  60° /48° | 18  60° /50° | 19  60° /50° |\\n| 20  60° /48° | 21  62° /50° | 22  62° /50° | 23  62° /50° | 24  62° /50° | 25  60° /50° | 26  64° /50° | [...] | July | 77° / 57° | 0 | 31 | 0 | 0.12 in | \\nPerfect\\n| San Francisco in July |\\n| August | 77° / 57° | 0 | 31 | 0 | 0.12 in | \\nPerfect\\n| San Francisco in August |\\n| September | 77° / 57° | 0 | 30 | 0 | 0.16 in | \\nPerfect\\n| San Francisco in September |\\n| October | 73° / 55° | 1 | 30 | 0 | 1.02 in | \\nPerfect\\n| San Francisco in October |\\n| November | 64° / 50° | 3 | 27 | 0 | 1.46 in | \\nGood\\n| San Francisco in November |\\n| December | 57° / 46° | 4 | 27 | 0 | 2.17 in | \\nGood [...] | 27  66° /50° | 28  66° /51° | 29  64° /51° | 30  62° /50° | \\n| \\n| \\n|\\nClick on a day for an hourly weather forecast\\nExplore the weather in San Francisco in other months\\n01 January02 February03 March04 April05 May06 June07 July08 August09 September10 October11 November12 December\\nSan Francisco annual weather\\n| Month | Temperatures | Rainy Days | Dry Days | Snowy Days | Rainfall | Weather | More details |\\n| --- | --- | --- | --- | --- | --- | --- | --- |',\n",
       "  'score': 0.8364614},\n",
       " {'title': 'San Francisco weather in August 2025 | Weather25.com',\n",
       "  'url': 'https://www.weather25.com/north-america/usa/california/san-francisco?page=month&month=August',\n",
       "  'content': '| Sun | Mon | Tue | Wed | Thu | Fri | Sat |\\n| --- | --- | --- | --- | --- | --- | --- |\\n| \\n | \\n| \\n| \\n| \\n| 1  20° /14° | 2  21° /13° |\\n| 3  22° /14° | 4  20° /13° | 5  20° /13° | 6  22° /13° | 7  21° /13° | 8  21° /13° | 9  21° /14° |\\n| 10  21° /14° | 11  21° /15° | 12  22° /14° | 13  22° /15° | 14  24° /16° | 15  24° /16° | 16  24° /15° |\\n| 17  22° /15° | 18  21° /14° | 19  22° /14° | 20  22° /14° | 21  21° /14° | 22  22° /14° | 23  21° /14° | [...] Temperatures\\n25° / 14°\\n\\nRainy Days\\n0\\n\\nSnowy Days\\n0\\n\\nDry Days\\n31\\n\\nRainfall\\n3\\nmm\\n\\nSun Hours\\n11.9\\nHrs\\nHistoric average weather for August\\n\\nAugust [...] | 24  21° /14° | 25  22° /14° | 26  23° /15° | 27  23° /14° | 28  23° /15° | 29  22° /15° | 30  23° /15° |\\n| 31  22° /15° | \\n| \\n| \\n| \\n| \\n| \\n|\\nClick on a day for an hourly weather forecast\\nExplore the weather in San Francisco in other months\\n01 January02 February03 March04 April05 May06 June07 July08 August09 September10 October11 November12 December\\nSan Francisco annual weather\\n| Month | Temperatures | Rainy Days | Dry Days | Snowy Days | Rainfall | Weather | More details |',\n",
       "  'score': 0.8131201},\n",
       " {'title': 'Weather in San Francisco in April 2025 - Detailed Forecast',\n",
       "  'url': 'https://www.easeweather.com/north-america/united-states/california/city-and-county-of-san-francisco/san-francisco/april',\n",
       "  'content': '11.8\\xa0mph\\nAvg max wind\\n\\n71 %\\nAvg humidity [...] April\\nJanuaryFebruaryMarch\\nApril\\nMayJuneJulyAugustSeptemberOctoberNovemberDecember\\nWeather in San Francisco for April 2025\\nYour guide to San Francisco weather in April - trends and predictions\\nTemperatures\\n\\n\\nThe forecast for the next days in San Francisco predicts temperatures to be around 59\\xa0°F, close to the historical average. [...] AngelesLouisvilleMadisonManhattanMemphisMiamiMilwaukeeMinneapolisMobileMontgomeryNashvilleNew OrleansNew York CityNewarkNorfolkOklahoma CityOmahaOrlandoPhiladelphiaPhoenixPittsburghPortlandQueensRichmondRiversideSacramentoSalt Lake CitySan AntonioSan Diego',\n",
       "  'score': 0.796562}]"
      ]
     },
     "execution_count": 263,
     "metadata": {},
     "output_type": "execute_result"
    }
   ],
   "source": [
    "from langchain_community.tools.tavily_search import TavilySearchResults\n",
    "search = TavilySearchResults()\n",
    "search.invoke(\"what is the weather in SF\")"
   ]
  },
  {
   "cell_type": "code",
   "execution_count": 264,
   "id": "f4d3aa41",
   "metadata": {},
   "outputs": [],
   "source": [
    "tools = [search]"
   ]
  },
  {
   "cell_type": "code",
   "execution_count": 265,
   "id": "8542dce2",
   "metadata": {},
   "outputs": [
    {
     "data": {
      "text/plain": [
       "[SystemMessagePromptTemplate(prompt=PromptTemplate(input_variables=[], input_types={}, partial_variables={}, template='You are a helpful assistant'), additional_kwargs={}),\n",
       " MessagesPlaceholder(variable_name='chat_history', optional=True),\n",
       " HumanMessagePromptTemplate(prompt=PromptTemplate(input_variables=['input'], input_types={}, partial_variables={}, template='{input}'), additional_kwargs={}),\n",
       " MessagesPlaceholder(variable_name='agent_scratchpad')]"
      ]
     },
     "execution_count": 265,
     "metadata": {},
     "output_type": "execute_result"
    }
   ],
   "source": [
    "from langchain import hub\n",
    "prompt = hub.pull(\"hwchase17/openai-functions-agent\")\n",
    "prompt.messages"
   ]
  },
  {
   "cell_type": "code",
   "execution_count": 266,
   "id": "41ae2a21",
   "metadata": {},
   "outputs": [],
   "source": [
    "from langchain.agents import create_tool_calling_agent\n",
    "agent = create_tool_calling_agent(llm,tools,prompt)"
   ]
  },
  {
   "cell_type": "code",
   "execution_count": 267,
   "id": "424d85da",
   "metadata": {},
   "outputs": [
    {
     "name": "stdout",
     "output_type": "stream",
     "text": [
      "\n",
      "\n",
      "\u001b[1m> Entering new AgentExecutor chain...\u001b[0m\n",
      "\u001b[32;1m\u001b[1;3mI am doing well, thank you for asking. How can I help you today?\u001b[0m\n",
      "\n",
      "\u001b[1m> Finished chain.\u001b[0m\n"
     ]
    },
    {
     "data": {
      "text/plain": [
       "{'input': 'hello how are you?',\n",
       " 'output': 'I am doing well, thank you for asking. How can I help you today?'}"
      ]
     },
     "execution_count": 267,
     "metadata": {},
     "output_type": "execute_result"
    }
   ],
   "source": [
    "from langchain.agents import AgentExecutor\n",
    "agent_executor = AgentExecutor(agent=agent,tools=tools,verbose=True)\n",
    "\n",
    "agent_executor.invoke({\"input\":\"hello how are you?\"})"
   ]
  },
  {
   "cell_type": "code",
   "execution_count": 268,
   "id": "7e9e5d5e",
   "metadata": {},
   "outputs": [
    {
     "name": "stdout",
     "output_type": "stream",
     "text": [
      "\n",
      "\n",
      "\u001b[1m> Entering new AgentExecutor chain...\u001b[0m\n",
      "\u001b[32;1m\u001b[1;3m\n",
      "Invoking: `tavily_search_results_json` with `{'query': 'weather in San Francisco'}`\n",
      "\n",
      "\n",
      "\u001b[0m\u001b[36;1m\u001b[1;3m[{'title': 'San Francisco weather in April 2025 | Weather25.com', 'url': 'https://www.weather25.com/north-america/usa/california/san-francisco?page=month&month=April', 'content': '| Sun | Mon | Tue | Wed | Thu | Fri | Sat |\\n| --- | --- | --- | --- | --- | --- | --- |\\n| \\n | \\n| 1  53° /48° | 2  53° /46° | 3  53° /46° | 4  62° /48° | 5  64° /53° |\\n| 6  57° /51° | 7  59° /50° | 8  60° /50° | 9  64° /53° | 10  64° /55° | 11  59° /53° | 12  55° /48° |\\n| 13  59° /46° | 14  59° /48° | 15  60° /48° | 16  62° /48° | 17  60° /48° | 18  60° /50° | 19  60° /50° |\\n| 20  60° /48° | 21  62° /50° | 22  62° /50° | 23  62° /50° | 24  62° /50° | 25  60° /50° | 26  64° /50° | [...] | July | 77° / 57° | 0 | 31 | 0 | 0.12 in | \\nPerfect\\n| San Francisco in July |\\n| August | 77° / 57° | 0 | 31 | 0 | 0.12 in | \\nPerfect\\n| San Francisco in August |\\n| September | 77° / 57° | 0 | 30 | 0 | 0.16 in | \\nPerfect\\n| San Francisco in September |\\n| October | 73° / 55° | 1 | 30 | 0 | 1.02 in | \\nPerfect\\n| San Francisco in October |\\n| November | 64° / 50° | 3 | 27 | 0 | 1.46 in | \\nGood\\n| San Francisco in November |\\n| December | 57° / 46° | 4 | 27 | 0 | 2.17 in | \\nGood [...] | 27  66° /50° | 28  66° /51° | 29  64° /51° | 30  62° /50° | \\n| \\n| \\n|\\nClick on a day for an hourly weather forecast\\nExplore the weather in San Francisco in other months\\n01 January02 February03 March04 April05 May06 June07 July08 August09 September10 October11 November12 December\\nSan Francisco annual weather\\n| Month | Temperatures | Rainy Days | Dry Days | Snowy Days | Rainfall | Weather | More details |\\n| --- | --- | --- | --- | --- | --- | --- | --- |', 'score': 0.83932644}, {'title': 'San Francisco weather in August 2025 | Weather25.com', 'url': 'https://www.weather25.com/north-america/usa/california/san-francisco?page=month&month=August', 'content': '| Sun | Mon | Tue | Wed | Thu | Fri | Sat |\\n| --- | --- | --- | --- | --- | --- | --- |\\n| \\n | \\n| \\n| \\n| \\n| 1  20° /14° | 2  21° /13° |\\n| 3  22° /14° | 4  20° /13° | 5  20° /13° | 6  22° /13° | 7  21° /13° | 8  21° /13° | 9  21° /14° |\\n| 10  21° /14° | 11  21° /15° | 12  22° /14° | 13  22° /15° | 14  24° /16° | 15  24° /16° | 16  24° /15° |\\n| 17  22° /15° | 18  21° /14° | 19  22° /14° | 20  22° /14° | 21  21° /14° | 22  22° /14° | 23  21° /14° | [...] Temperatures\\n25° / 14°\\n\\nRainy Days\\n0\\n\\nSnowy Days\\n0\\n\\nDry Days\\n31\\n\\nRainfall\\n3\\nmm\\n\\nSun Hours\\n11.9\\nHrs\\nHistoric average weather for August\\n\\nAugust [...] | 24  21° /14° | 25  22° /14° | 26  23° /15° | 27  23° /14° | 28  23° /15° | 29  22° /15° | 30  23° /15° |\\n| 31  22° /15° | \\n| \\n| \\n| \\n| \\n| \\n|\\nClick on a day for an hourly weather forecast\\nExplore the weather in San Francisco in other months\\n01 January02 February03 March04 April05 May06 June07 July08 August09 September10 October11 November12 December\\nSan Francisco annual weather\\n| Month | Temperatures | Rainy Days | Dry Days | Snowy Days | Rainfall | Weather | More details |', 'score': 0.81875163}, {'title': 'Weather in San Francisco', 'url': 'https://www.weatherapi.com/', 'content': \"{'location': {'name': 'San Francisco', 'region': 'California', 'country': 'United States of America', 'lat': 37.775, 'lon': -122.4183, 'tz_id': 'America/Los_Angeles', 'localtime_epoch': 1744099881, 'localtime': '2025-04-08 01:11'}, 'current': {'last_updated_epoch': 1744099200, 'last_updated': '2025-04-08 01:00', 'temp_c': 12.8, 'temp_f': 55.0, 'is_day': 0, 'condition': {'text': 'Partly cloudy', 'icon': '//cdn.weatherapi.com/weather/64x64/night/116.png', 'code': 1003}, 'wind_mph': 5.8, 'wind_kph': 9.4, 'wind_degree': 278, 'wind_dir': 'W', 'pressure_mb': 1022.0, 'pressure_in': 30.19, 'precip_mm': 0.0, 'precip_in': 0.0, 'humidity': 86, 'cloud': 25, 'feelslike_c': 12.1, 'feelslike_f': 53.7, 'windchill_c': 11.1, 'windchill_f': 51.9, 'heatindex_c': 12.0, 'heatindex_f': 53.6, 'dewpoint_c': 11.4, 'dewpoint_f': 52.5, 'vis_km': 16.0, 'vis_miles': 9.0, 'uv': 0.0, 'gust_mph': 8.8, 'gust_kph': 14.2}}\", 'score': 0.537882}, {'title': '10-Day Weather Forecast for San Francisco, CA', 'url': 'https://weather.com/weather/tenday/l/San+Francisco+CA+USCA0987:1:US', 'content': \"Heads-up\\nWinter Storm Brings Snow And Ice This Weekend\\n\\n\\n\\nHumidity80%\\n\\n\\nUV Index0 of 11\\n\\n\\nMoonrise12:41 pm\\nWaxing Gibbous\\n\\n\\nMoonset3:33 am\\n\\n\\nSat 08\\nSunny\\n58°/41°\\n5%\\nNNW 8\\xa0mph\\nSat 08 | Day\\n58°\\n5%\\nNNW 8\\xa0mph\\nMainly sunny. High 58F. Winds NNW at 5 to 10 mph.\\n\\n\\nHumidity62%\\n\\n\\nUV Index3 of 11\\n\\n\\nSunrise7:06 am\\n\\n\\nSunset5:41 pm\\n\\n\\nSat 08 | Night\\n41°\\n5%\\nN 8\\xa0mph\\nA mostly clear sky. Low 41F. Winds N at 5 to 10 mph.\\n\\n\\nHumidity76%\\n\\n\\nUV Index0 of 11\\n\\n\\nMoonrise1:41 pm\\nWaxing Gibbous\\n\\n\\nMoonset4:36 am [...] Advertisement\\nDon't Miss\\n Barrage Of Winter Storms Ahead: Here's The Timing\\n Northeast Snow Totals Likely To Surpass Past 2 Winters Combined\\n Here We Snow Again: Wintry Weekend For Midwest And Northeast\\n More Snow? Third Winter Storm In A Week To Hit Midwest, East\\nSee More\\nRadar\\nNow\\n© 2025 Mapbox\\xa0© OpenStreetMap|Improve this map\\nAdvertisement\\nAdvertisement\\nWinter Wellness\\n How To Deal With Asthma In The Cold\\n Conditioning Your Lungs For Cold Weather Exercise [...] Mon 10\\nAM Fog/PM Clouds\\n57°/43°\\n6%\\nS 9\\xa0mph\\nMon 10 | Day\\n57°\\n6%\\nS 9\\xa0mph\\nMostly cloudy skies with some morning fog. High 57F. Winds S at 5 to 10 mph.\\n\\n\\nHumidity61%\\n\\n\\nUV Index3 of 11\\n\\n\\nSunrise7:04 am\\n\\n\\nSunset5:43 pm\\n\\n\\nMon 10 | Night\\n43°\\n6%\\nW 7\\xa0mph\\nPartly to mostly cloudy. Low 43F. Winds W at 5 to 10 mph.\\n\\n\\nHumidity80%\\n\\n\\nUV Index0 of 11\\n\\n\\nMoonrise3:55 pm\\nWaxing Gibbous\\n\\n\\nMoonset6:15 am\", 'score': 0.50388235}, {'title': 'San Francisco Bay Area, CA - National Weather Service', 'url': 'https://www.weather.gov/mtr/', 'content': 'Weather.gov > San Francisco Bay Area, CA\\nCurrent Hazards\\nCurrent Conditions\\nRadar\\nForecasts\\nRivers and Lakes\\nClimate and Past Weather\\nLocal Programs\\nClick a location below for detailed forecast.\\nLast Map Update: Sat, Feb 8, 2025 at 5:26:43 am PST\\nWatches, Warnings & Advisories\\nZoom Out', 'score': 0.47738418}]\u001b[0m\u001b[32;1m\u001b[1;3mThe weather in San Francisco is partly cloudy with a temperature of 55°F. The wind is blowing from the west at 5.8 mph.\u001b[0m\n",
      "\n",
      "\u001b[1m> Finished chain.\u001b[0m\n"
     ]
    },
    {
     "data": {
      "text/plain": [
       "{'input': 'whats the weather in sf?',\n",
       " 'output': 'The weather in San Francisco is partly cloudy with a temperature of 55°F. The wind is blowing from the west at 5.8 mph.'}"
      ]
     },
     "execution_count": 268,
     "metadata": {},
     "output_type": "execute_result"
    }
   ],
   "source": [
    "agent_executor.invoke({\"input\": \"whats the weather in sf?\"})"
   ]
  },
  {
   "cell_type": "markdown",
   "id": "a3b4a15a",
   "metadata": {},
   "source": [
    "1. RAG tool\n",
    "2. ReAct\n",
    "3. custom tool with ReAct agent\n",
    "4. agent code from latest versions(v0.2 and v0.3)"
   ]
  },
  {
   "cell_type": "code",
   "execution_count": 269,
   "id": "913c919b",
   "metadata": {},
   "outputs": [],
   "source": [
    "from langchain_community.document_loaders import WebBaseLoader\n",
    "from langchain_community.vectorstores import FAISS\n",
    "from langchain_text_splitters import RecursiveCharacterTextSplitter\n",
    "\n",
    "loader = WebBaseLoader(\"https://blog.langchain.dev/langgraph-studio-the-first-agent-ide/\")\n",
    "docs = loader.load()"
   ]
  },
  {
   "cell_type": "code",
   "execution_count": 270,
   "id": "33159488",
   "metadata": {},
   "outputs": [],
   "source": [
    "documents = RecursiveCharacterTextSplitter(chunk_size=1000, chunk_overlap=200).split_documents(docs)"
   ]
  },
  {
   "cell_type": "code",
   "execution_count": 271,
   "id": "70321faa",
   "metadata": {},
   "outputs": [],
   "source": [
    "vector = FAISS.from_documents(documents,embeddings)\n",
    "retriever = vector.as_retriever()"
   ]
  },
  {
   "cell_type": "code",
   "execution_count": 272,
   "id": "a3dae65a",
   "metadata": {},
   "outputs": [
    {
     "data": {
      "text/plain": [
       "Document(id='4e6aa952-577d-4fff-b8b7-86b0c5b5d503', metadata={'source': 'https://blog.langchain.dev/langgraph-studio-the-first-agent-ide/', 'title': 'LangGraph Studio: The first agent IDE', 'description': 'LangGraph Studio provides a specialized agent IDE for visualizing, interacting with, and debugging complex agentic applications. See how to use it on your desktop today.', 'language': 'en'}, page_content=\"is needed to make the development process easier. Building LLM applications differs from traditional software development, requiring different tooling outside of the traditional code editor.Coding is still important to developing LLM applications — after all, production-ready LangGraph applications have complicated custom logic in the nodes and edges of the graphs that are created. We don't aim to replace code editors but, instead, to augment the development experience with tools tailored for LangGraph applications. LangGraph Studio facilitates this by making it easy to visualize and interact with agent graphs, even if development still primarily happens in code. Visualizing graphs helps developers understand their structure. Furthermore, you can modify an agent result (or the logic underlying a specific node) halfway through the agent's trajectory. This creates an iterative process, by letting you interact with and manipulate the state at that point in time.While there is much more\")"
      ]
     },
     "execution_count": 272,
     "metadata": {},
     "output_type": "execute_result"
    }
   ],
   "source": [
    "retriever.invoke(\"what is langgrapg studio? \")[0]"
   ]
  },
  {
   "cell_type": "code",
   "execution_count": 273,
   "id": "b9f3f3a4",
   "metadata": {},
   "outputs": [],
   "source": [
    "from langchain.tools.retriever import create_retriever_tool\n",
    "retriever_tool = create_retriever_tool(\n",
    "    retriever,\n",
    "    \"langGraph_search\",\n",
    "    \"Search for information about langGraph. For any questions about langGraph, you must use this tool!\",\n",
    ")"
   ]
  },
  {
   "cell_type": "code",
   "execution_count": 274,
   "id": "05079b33",
   "metadata": {},
   "outputs": [],
   "source": [
    "tools = [search, retriever_tool]"
   ]
  },
  {
   "cell_type": "code",
   "execution_count": 275,
   "id": "8e7980fa",
   "metadata": {},
   "outputs": [],
   "source": [
    "from langchain.agents import create_tool_calling_agent\n",
    "agent = create_tool_calling_agent(llm,tools, prompt)"
   ]
  },
  {
   "cell_type": "code",
   "execution_count": 276,
   "id": "b2557497",
   "metadata": {},
   "outputs": [
    {
     "name": "stdout",
     "output_type": "stream",
     "text": [
      "\n",
      "\n",
      "\u001b[1m> Entering new AgentExecutor chain...\u001b[0m\n",
      "\u001b[32;1m\u001b[1;3m\n",
      "Invoking: `langGraph_search` with `{'query': 'langgraph studio and how to use it'}`\n",
      "\n",
      "\n",
      "\u001b[0m\u001b[33;1m\u001b[1;3ma specific node) halfway through the agent's trajectory. This creates an iterative process, by letting you interact with and manipulate the state at that point in time.While there is much more to explore, we're excited to introduce LangGraph Studio to start with bringing some of the core features of an agent IDE to the world.How to use LangGraph StudioLangGraph Studio is a desktop app, currently available for Apple Silicon. You can download a version here. Support for more platforms is coming soon.After you download and open LangGraph Studio, you will be prompted to log in with your LangSmith account. All users of LangSmith (including those with free accounts) currently have access to LangGraph Studio while it is in beta. You can sign up for a LangSmith account here.After downloading LangSmith, you can open a directory. At a bare minimum, this directory needs to contain a Python file with a graph defined in it. Next, you will need to create a langgraph.json file containing details\n",
      "\n",
      "is needed to make the development process easier. Building LLM applications differs from traditional software development, requiring different tooling outside of the traditional code editor.Coding is still important to developing LLM applications — after all, production-ready LangGraph applications have complicated custom logic in the nodes and edges of the graphs that are created. We don't aim to replace code editors but, instead, to augment the development experience with tools tailored for LangGraph applications. LangGraph Studio facilitates this by making it easy to visualize and interact with agent graphs, even if development still primarily happens in code. Visualizing graphs helps developers understand their structure. Furthermore, you can modify an agent result (or the logic underlying a specific node) halfway through the agent's trajectory. This creates an iterative process, by letting you interact with and manipulate the state at that point in time.While there is much more\n",
      "\n",
      "0:00\n",
      "\n",
      "                            /0:20\n",
      "\n",
      "\n",
      "1×\n",
      "\n",
      "\n",
      "\n",
      "\n",
      "\n",
      "\n",
      "\n",
      "\n",
      "\n",
      "\n",
      "\n",
      "\n",
      "\n",
      "\n",
      "ConclusionBuilding agentic applications differs from traditional software development. While code editors remain important, new IDEs designed for agents are also needed. LangGraph Studio is a step in this direction, and we're excited to see how it enhances your workflow.For more on LangGraph Studio, check out our documentation. You can also watch a video walkthrough on YouTube if that's more your style. You can sign up for LangSmith today to try out LangGraph Studio for free.We'd also love your feedback - drop us a line at hello@langchain.dev or on Twitter to share your thoughts.\n",
      "\n",
      "\n",
      "Join our newsletter\n",
      "Updates from the LangChain team and community\n",
      "\n",
      "\n",
      "Enter your email\n",
      "\n",
      "Subscribe\n",
      "\n",
      "Processing your application...\n",
      "Success! Please check your inbox and click the link to confirm your subscription.\n",
      "Sorry, something went wrong. Please try again.\n",
      "\n",
      "\n",
      "\n",
      "\n",
      "\n",
      "\n",
      "\n",
      "\n",
      "\n",
      "\n",
      "\n",
      "\n",
      "\n",
      "Sign up\n",
      "\n",
      "\n",
      "\n",
      "\n",
      "\n",
      "            © LangChain Blog 2025\n",
      "\n",
      "LLMs have paved the way for the development of new types of agentic applications — and as LLM applications evolve, so must the tooling needed to efficiently develop them. Today, we're announcing LangGraph Studio - the first IDE designed specifically for agent development - in open beta.LangGraph Studio offers a new way to develop LLM applications, providing a specialized agent IDE for visualizing, interacting with, and debugging complex agentic applications. In this blog, we'll give a brief overview of LangGraph and then explore how LangGraph Studio streamlines the development of agentic applications.LangGraph: Balancing agent control with agency  In January 2023, we launched LangGraph, a highly controllable, low-level orchestration framework for building agentic applications. Since then, we've seen  teams build more complex agentic applications for production; in turn, we've heavily invested in LangGraph, leading to a stable 0.1 release this past June.LangGraph features a persistence\u001b[0m\u001b[32;1m\u001b[1;3mLangGraph Studio is the first IDE designed specifically for agent development. It's a desktop app that allows you to visualize, interact with, and debug complex agentic applications. It helps developers understand the structure of their graphs and modify agent results or logic.\n",
      "\n",
      "To use it:\n",
      "\n",
      "1.  Download the app (currently available for Apple Silicon).2.  Log in with your LangSmith account (free accounts have access during the beta).\n",
      "3.  Open a directory containing a Python file with a graph defined in it and a `langgraph.json` file containing details.\n",
      "\n",
      "It seems to augment the development experience by providing tools tailored for LangGraph applications.\u001b[0m\n",
      "\n",
      "\u001b[1m> Finished chain.\u001b[0m\n"
     ]
    },
    {
     "data": {
      "text/plain": [
       "{'input': 'hi! what is langgraph studio and how to use it?',\n",
       " 'output': \"LangGraph Studio is the first IDE designed specifically for agent development. It's a desktop app that allows you to visualize, interact with, and debug complex agentic applications. It helps developers understand the structure of their graphs and modify agent results or logic.\\n\\nTo use it:\\n\\n1.  Download the app (currently available for Apple Silicon).2.  Log in with your LangSmith account (free accounts have access during the beta).\\n3.  Open a directory containing a Python file with a graph defined in it and a `langgraph.json` file containing details.\\n\\nIt seems to augment the development experience by providing tools tailored for LangGraph applications.\"}"
      ]
     },
     "execution_count": 276,
     "metadata": {},
     "output_type": "execute_result"
    }
   ],
   "source": [
    "from langchain.agents import AgentExecutor\n",
    "agent_executor = AgentExecutor(agent=agent,tools=tools,verbose=True)\n",
    "\n",
    "agent_executor.invoke({\"input\":\"hi! what is langgraph studio and how to use it?\"})"
   ]
  },
  {
   "cell_type": "code",
   "execution_count": 277,
   "id": "cec1f4e7",
   "metadata": {},
   "outputs": [
    {
     "name": "stdout",
     "output_type": "stream",
     "text": [
      "\n",
      "\n",
      "\u001b[1m> Entering new AgentExecutor chain...\u001b[0m\n",
      "\u001b[32;1m\u001b[1;3mI'm sorry, I don't have the ability to get weather information. I can only use the tools available to me, which are a search engine and a tool for looking up information about LangGraph.\u001b[0m\n",
      "\n",
      "\u001b[1m> Finished chain.\u001b[0m\n"
     ]
    },
    {
     "data": {
      "text/plain": [
       "{'input': 'whats the weather in sf?',\n",
       " 'output': \"I'm sorry, I don't have the ability to get weather information. I can only use the tools available to me, which are a search engine and a tool for looking up information about LangGraph.\"}"
      ]
     },
     "execution_count": 277,
     "metadata": {},
     "output_type": "execute_result"
    }
   ],
   "source": [
    "agent_executor.invoke({\"input\": \"whats the weather in sf?\"})"
   ]
  },
  {
   "cell_type": "code",
   "execution_count": 278,
   "id": "79b525b3",
   "metadata": {},
   "outputs": [],
   "source": [
    "from langchain.utilities import GoogleSerperAPIWrapper\n",
    "from langchain.agents import Tool\n",
    "from langchain_core.prompts import PromptTemplate\n",
    "from langchain.agents import AgentExecutor, create_react_agent"
   ]
  },
  {
   "cell_type": "code",
   "execution_count": 279,
   "id": "c71717ed",
   "metadata": {},
   "outputs": [],
   "source": [
    "google_search = GoogleSerperAPIWrapper(serper_api_key=serper_api_key)\n",
    "tools = [\n",
    "    Tool(\n",
    "        name=\"Intermediate Answer\",\n",
    "        func=google_search.run,\n",
    "        description=\"useful for when you need to ask with search\",\n",
    "        verbose = True\n",
    "    )\n",
    "]"
   ]
  },
  {
   "cell_type": "code",
   "execution_count": 280,
   "id": "98d08f5d",
   "metadata": {},
   "outputs": [],
   "source": [
    "template = '''Answer the following questions as best you can. You have access to the following tools:\n",
    "{tools}\n",
    "Use the following format:\n",
    "Question: the input question you must answer\n",
    "Thought: you should always think about what to do\n",
    "Action: the action to take, should be one of [{tool_names}]\n",
    "Action Input: the input to the action\n",
    "Observation: the result of the action\n",
    "... (this Thought/Action/Action Input/Observation can repeat N times)\n",
    "Thought: I now know the final answer\n",
    "Final Answer: the final answer to the original input question\n",
    "Begin!\n",
    "Question: {input}\n",
    "Thought:{agent_scratchpad}'''"
   ]
  },
  {
   "cell_type": "code",
   "execution_count": 281,
   "id": "2692b0b7",
   "metadata": {},
   "outputs": [],
   "source": [
    "prompt = PromptTemplate.from_template(template)\n",
    "\n",
    "search_agent = create_react_agent(llm,tools,prompt)"
   ]
  },
  {
   "cell_type": "code",
   "execution_count": 282,
   "id": "67262940",
   "metadata": {},
   "outputs": [],
   "source": [
    "agent_executor = AgentExecutor(\n",
    "    agent=search_agent,\n",
    "    tools = tools,\n",
    "    verbose= True,\n",
    "    return_intermediate_steps=True,\n",
    "    handle_parsing_errors=True\n",
    ")"
   ]
  },
  {
   "cell_type": "code",
   "execution_count": 283,
   "id": "cadc127d",
   "metadata": {},
   "outputs": [
    {
     "name": "stdout",
     "output_type": "stream",
     "text": [
      "\n",
      "\n",
      "\u001b[1m> Entering new AgentExecutor chain...\u001b[0m\n",
      "\u001b[32;1m\u001b[1;3mI need to find out who the captain of the 2011 Cricket World Cup-winning team was, and then find out where that person's hometown is.\n",
      "\n",
      "Action: Intermediate Answer\n",
      "Action Input: \"who was the captain of the 2011 cricket world cup winning team\"\u001b[0m\u001b[36;1m\u001b[1;3mIndia national cricket team\u001b[0m\u001b[32;1m\u001b[1;3mI already know the 2011 Cricket World Cup-winning team was India. I now need to find out who the captain was.\n",
      "\n",
      "Action: Intermediate Answer\n",
      "Action Input: \"who was india's captain in 2011 cricket world cup\"\u001b[0m\u001b[36;1m\u001b[1;3mIndian captain Mahendra Singh Dhoni had then said he preferred having three seamers because it gave him more options. He already had proven spinners in Harbhajan and Yuvraj, and could call upon many other Indian players who can bowl part-time spin (including Sachin Tendulkar, Suresh Raina, and Virender Sehwag).\u001b[0m\u001b[32;1m\u001b[1;3mThe captain of the 2011 Cricket World Cup-winning team (India) was Mahendra Singh Dhoni. Now I need to find his hometown.\n",
      "\n",
      "Action: Intermediate Answer\n",
      "Action Input: \"Mahendra Singh Dhoni hometown\"\u001b[0m\u001b[36;1m\u001b[1;3mDhoni was born on 7 July 1981 in Ranchi, Bihar (now in Jharkhand) in a Hindu Rajput family to Pan Singh and Devaki Devi. His parents hailed from Lwali village in Uttar Pradesh (now Uttarakhand) and he was the youngest of three children.\u001b[0m\u001b[32;1m\u001b[1;3mThe hometown of the 2011 cricket world cup captain winner, Mahendra Singh Dhoni, is Ranchi, Bihar (now in Jharkhand).\n",
      "Final Answer: Ranchi, Bihar (now in Jharkhand)\u001b[0m\n",
      "\n",
      "\u001b[1m> Finished chain.\u001b[0m\n"
     ]
    },
    {
     "data": {
      "text/plain": [
       "{'input': 'Where is the hometown of the 2011 cricket worldcup captain winner ?',\n",
       " 'output': 'Ranchi, Bihar (now in Jharkhand)',\n",
       " 'intermediate_steps': [(AgentAction(tool='Intermediate Answer', tool_input='who was the captain of the 2011 cricket world cup winning team', log='I need to find out who the captain of the 2011 Cricket World Cup-winning team was, and then find out where that person\\'s hometown is.\\n\\nAction: Intermediate Answer\\nAction Input: \"who was the captain of the 2011 cricket world cup winning team\"'),\n",
       "   'India national cricket team'),\n",
       "  (AgentAction(tool='Intermediate Answer', tool_input=\"who was india's captain in 2011 cricket world cup\", log='I already know the 2011 Cricket World Cup-winning team was India. I now need to find out who the captain was.\\n\\nAction: Intermediate Answer\\nAction Input: \"who was india\\'s captain in 2011 cricket world cup\"'),\n",
       "   'Indian captain Mahendra Singh Dhoni had then said he preferred having three seamers because it gave him more options. He already had proven spinners in Harbhajan and Yuvraj, and could call upon many other Indian players who can bowl part-time spin (including Sachin Tendulkar, Suresh Raina, and Virender Sehwag).'),\n",
       "  (AgentAction(tool='Intermediate Answer', tool_input='Mahendra Singh Dhoni hometown', log='The captain of the 2011 Cricket World Cup-winning team (India) was Mahendra Singh Dhoni. Now I need to find his hometown.\\n\\nAction: Intermediate Answer\\nAction Input: \"Mahendra Singh Dhoni hometown\"'),\n",
       "   'Dhoni was born on 7 July 1981 in Ranchi, Bihar (now in Jharkhand) in a Hindu Rajput family to Pan Singh and Devaki Devi. His parents hailed from Lwali village in Uttar Pradesh (now Uttarakhand) and he was the youngest of three children.')]}"
      ]
     },
     "execution_count": 283,
     "metadata": {},
     "output_type": "execute_result"
    }
   ],
   "source": [
    "agent_executor.invoke({\"input\": \"Where is the hometown of the 2011 cricket worldcup captain winner ?\"})"
   ]
  },
  {
   "cell_type": "markdown",
   "id": "e9238e21",
   "metadata": {},
   "source": [
    "ReAct Agent with Custom tools"
   ]
  },
  {
   "cell_type": "code",
   "execution_count": 284,
   "id": "a2d64b62",
   "metadata": {},
   "outputs": [],
   "source": [
    "from langchain.tools import tool\n",
    "from langchain import hub\n",
    "from langchain.agents import AgentExecutor, create_react_agent"
   ]
  },
  {
   "cell_type": "code",
   "execution_count": 285,
   "id": "6c3ff587",
   "metadata": {},
   "outputs": [],
   "source": [
    "@tool\n",
    "def get_employee_id(name):\n",
    "  \"\"\"\n",
    "  To get employee id, it takes employee name as arguments\n",
    "  name(str): Name of the employee\n",
    "  \"\"\"\n",
    "  fake_employees = {\n",
    "    \"Alice\": \"E001\",\n",
    "    \"Bob\": \"E002\",\n",
    "    \"Charlie\": \"E003\",\n",
    "    \"Diana\": \"E004\",\n",
    "    \"Evan\": \"E005\",\n",
    "    \"Fiona\": \"E006\",\n",
    "    \"George\": \"E007\",\n",
    "    \"Hannah\": \"E008\",\n",
    "    \"Ian\": \"E009\",\n",
    "    \"Jasmine\": \"E010\"}\n",
    "  \n",
    "  return fake_employees.get(name,\"Employee not found\")"
   ]
  },
  {
   "cell_type": "code",
   "execution_count": 286,
   "id": "9133df4d",
   "metadata": {},
   "outputs": [],
   "source": [
    "@tool\n",
    "def get_employee_salary(employee_id):\n",
    "  \"\"\"\n",
    "  To get the salary of an employee, it takes employee_id as input and return salary\n",
    "  \"\"\"\n",
    "  employee_salaries = {\n",
    "    \"E001\": 56000,\n",
    "    \"E002\": 47000,\n",
    "    \"E003\": 52000,\n",
    "    \"E004\": 61000,\n",
    "    \"E005\": 45000,\n",
    "    \"E006\": 58000,\n",
    "    \"E007\": 49000,\n",
    "    \"E008\": 53000,\n",
    "    \"E009\": 50000,\n",
    "    \"E010\": 55000\n",
    "    }\n",
    "  return employee_salaries.get(employee_id,\"Employee not found\")"
   ]
  },
  {
   "cell_type": "code",
   "execution_count": 287,
   "id": "9451b83d",
   "metadata": {},
   "outputs": [
    {
     "name": "stdout",
     "output_type": "stream",
     "text": [
      "Answer the following questions as best you can. You have access to the following tools:\n",
      "\n",
      "{tools}\n",
      "\n",
      "Use the following format:\n",
      "\n",
      "Question: the input question you must answer\n",
      "Thought: you should always think about what to do\n",
      "Action: the action to take, should be one of [{tool_names}]\n",
      "Action Input: the input to the action\n",
      "Observation: the result of the action\n",
      "... (this Thought/Action/Action Input/Observation can repeat N times)\n",
      "Thought: I now know the final answer\n",
      "Final Answer: the final answer to the original input question\n",
      "\n",
      "Begin!\n",
      "\n",
      "Question: {input}\n",
      "Thought:{agent_scratchpad}\n"
     ]
    }
   ],
   "source": [
    "prompt = hub.pull(\"hwchase17/react\")\n",
    "\n",
    "print(prompt.template)"
   ]
  },
  {
   "cell_type": "code",
   "execution_count": 288,
   "id": "f788e771",
   "metadata": {},
   "outputs": [],
   "source": [
    "tools1 = [get_employee_id, get_employee_salary]\n",
    "\n",
    "agent = create_react_agent(llm,tools1,prompt)\n",
    "\n",
    "agent_executor = AgentExecutor(agent=agent,tools=tools1,verbose=True)"
   ]
  },
  {
   "cell_type": "code",
   "execution_count": 289,
   "id": "5d3aceaf",
   "metadata": {},
   "outputs": [
    {
     "name": "stdout",
     "output_type": "stream",
     "text": [
      "\n",
      "\n",
      "\u001b[1m> Entering new AgentExecutor chain...\u001b[0m\n",
      "\u001b[32;1m\u001b[1;3mI need to find the salary of sunny. First, I need to find sunny's employee ID.\n",
      "Action: get_employee_id\n",
      "Action Input: sunny\u001b[0m\u001b[36;1m\u001b[1;3mEmployee not found\u001b[0m\u001b[32;1m\u001b[1;3mI apologize, but I am unable to find the employee id for sunny.\n",
      "Final Answer: Employee not found\u001b[0m\n",
      "\n",
      "\u001b[1m> Finished chain.\u001b[0m\n"
     ]
    },
    {
     "data": {
      "text/plain": [
       "{'input': 'What is the Salary of sunny?', 'output': 'Employee not found'}"
      ]
     },
     "execution_count": 289,
     "metadata": {},
     "output_type": "execute_result"
    }
   ],
   "source": [
    "agent_executor.invoke({\"input\":\"What is the Salary of sunny?\"})"
   ]
  },
  {
   "cell_type": "code",
   "execution_count": 290,
   "id": "ac559c1b",
   "metadata": {},
   "outputs": [
    {
     "name": "stdout",
     "output_type": "stream",
     "text": [
      "\n",
      "\n",
      "\u001b[1m> Entering new AgentExecutor chain...\u001b[0m\n",
      "\u001b[32;1m\u001b[1;3mI need to find the salary of Evan. First I need to find Evan's employee ID.\n",
      "Action: get_employee_id\n",
      "Action Input: Evan\u001b[0m\u001b[36;1m\u001b[1;3mE005\u001b[0m\u001b[32;1m\u001b[1;3mI now have Evan's employee ID, which is E005. Now I need to find the salary for employee E005.\n",
      "Action: get_employee_salary\n",
      "Action Input: E005\u001b[0m\u001b[33;1m\u001b[1;3m45000\u001b[0m\u001b[32;1m\u001b[1;3mI now know the salary of Evan.\n",
      "Final Answer: 45000\u001b[0m\n",
      "\n",
      "\u001b[1m> Finished chain.\u001b[0m\n"
     ]
    },
    {
     "data": {
      "text/plain": [
       "{'input': 'What is the Salary of Evan?', 'output': '45000'}"
      ]
     },
     "execution_count": 290,
     "metadata": {},
     "output_type": "execute_result"
    }
   ],
   "source": [
    "agent_executor.invoke({\"input\":\"What is the Salary of Evan?\"})"
   ]
  }
 ],
 "metadata": {
  "kernelspec": {
   "display_name": "venv",
   "language": "python",
   "name": "python3"
  },
  "language_info": {
   "codemirror_mode": {
    "name": "ipython",
    "version": 3
   },
   "file_extension": ".py",
   "mimetype": "text/x-python",
   "name": "python",
   "nbconvert_exporter": "python",
   "pygments_lexer": "ipython3",
   "version": "3.12.7"
  }
 },
 "nbformat": 4,
 "nbformat_minor": 5
}
