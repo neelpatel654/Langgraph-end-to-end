{
 "cells": [
  {
   "cell_type": "markdown",
   "id": "e4aaf947",
   "metadata": {},
   "source": [
    "Simple WorkFlow with Graph"
   ]
  },
  {
   "cell_type": "code",
   "execution_count": 1,
   "id": "2e75d1f8",
   "metadata": {},
   "outputs": [],
   "source": [
    "def function3(input3):\n",
    "    return input3"
   ]
  },
  {
   "cell_type": "code",
   "execution_count": 2,
   "id": "5fe0e3cc",
   "metadata": {},
   "outputs": [],
   "source": [
    "def function1(input1):\n",
    "    return input1 + \" from first function\"\n",
    "\n",
    "def function2(input2):\n",
    "    output = function3(\"this is function3 in between\")\n",
    "    return input2 +\" \"+ output +\" and Patel from second function\""
   ]
  },
  {
   "cell_type": "code",
   "execution_count": 3,
   "id": "d626910f",
   "metadata": {},
   "outputs": [],
   "source": [
    "from langgraph.graph import Graph\n",
    "\n",
    "workflow1 = Graph()"
   ]
  },
  {
   "cell_type": "code",
   "execution_count": 4,
   "id": "961494fe",
   "metadata": {},
   "outputs": [
    {
     "data": {
      "text/plain": [
       "<langgraph.graph.graph.Graph at 0x1f931ae8dd0>"
      ]
     },
     "execution_count": 4,
     "metadata": {},
     "output_type": "execute_result"
    }
   ],
   "source": [
    "workflow1.add_node(\"function1\",function1)\n",
    "workflow1.add_node(\"function2\",function2)\n",
    "\n",
    "workflow1.add_edge(\"function1\",\"function2\")"
   ]
  },
  {
   "cell_type": "code",
   "execution_count": 5,
   "id": "7ebf221b",
   "metadata": {},
   "outputs": [
    {
     "data": {
      "text/plain": [
       "<langgraph.graph.graph.Graph at 0x1f931ae8dd0>"
      ]
     },
     "execution_count": 5,
     "metadata": {},
     "output_type": "execute_result"
    }
   ],
   "source": [
    "workflow1.set_entry_point(\"function1\")"
   ]
  },
  {
   "cell_type": "code",
   "execution_count": 6,
   "id": "ea41d224",
   "metadata": {},
   "outputs": [
    {
     "data": {
      "text/plain": [
       "<langgraph.graph.graph.Graph at 0x1f931ae8dd0>"
      ]
     },
     "execution_count": 6,
     "metadata": {},
     "output_type": "execute_result"
    }
   ],
   "source": [
    "workflow1.set_finish_point(\"function2\")"
   ]
  },
  {
   "cell_type": "code",
   "execution_count": 7,
   "id": "fe675bc3",
   "metadata": {},
   "outputs": [],
   "source": [
    "app1 = workflow1.compile()"
   ]
  },
  {
   "cell_type": "code",
   "execution_count": 8,
   "id": "473bd601",
   "metadata": {},
   "outputs": [
    {
     "data": {
      "image/png": "[encoded data removed]",
      "text/plain": [
       "<IPython.core.display.Image object>"
      ]
     },
     "metadata": {},
     "output_type": "display_data"
    }
   ],
   "source": [
    "from IPython.display import Image, display\n",
    "\n",
    "try:\n",
    "    display(Image(app1.get_graph().draw_mermaid_png()))\n",
    "except Exception as e:\n",
    "    print(e)"
   ]
  },
  {
   "cell_type": "code",
   "execution_count": 9,
   "id": "c784dd33",
   "metadata": {},
   "outputs": [],
   "source": [
    "# app1.invoke(\"hi this is neal\")"
   ]
  },
  {
   "cell_type": "code",
   "execution_count": 10,
   "id": "efe0f709",
   "metadata": {},
   "outputs": [],
   "source": [
    "input = \"hi this is neal\""
   ]
  },
  {
   "cell_type": "code",
   "execution_count": 11,
   "id": "155fcbb8",
   "metadata": {},
   "outputs": [
    {
     "name": "stdout",
     "output_type": "stream",
     "text": [
      "here is output from function1\n",
      "_____\n",
      "hi this is neal from first function\n",
      "\n",
      "\n",
      "here is output from function2\n",
      "_____\n",
      "hi this is neal from first function this is function3 in between and Patel from second function\n",
      "\n",
      "\n"
     ]
    }
   ],
   "source": [
    "for output in app1.stream(input):\n",
    "    for key,value in output.items():\n",
    "        print(f\"here is output from {key}\")\n",
    "        print(\"_____\")\n",
    "        print(value)\n",
    "        print(\"\\n\")"
   ]
  },
  {
   "cell_type": "markdown",
   "id": "36a37ce9",
   "metadata": {},
   "source": [
    "Integrating LLM call in the LangGraph"
   ]
  },
  {
   "cell_type": "code",
   "execution_count": 12,
   "id": "0b1a5c5f",
   "metadata": {},
   "outputs": [
    {
     "name": "stderr",
     "output_type": "stream",
     "text": [
      "c:\\AI\\langgraph-end-to-end\\venv\\Lib\\site-packages\\tqdm\\auto.py:21: TqdmWarning: IProgress not found. Please update jupyter and ipywidgets. See https://ipywidgets.readthedocs.io/en/stable/user_install.html\n",
      "  from .autonotebook import tqdm as notebook_tqdm\n"
     ]
    }
   ],
   "source": [
    "import os\n",
    "from dotenv import load_dotenv\n",
    "from langchain_google_genai import GoogleGenerativeAIEmbeddings\n",
    "from langchain_google_genai import ChatGoogleGenerativeAI\n",
    "\n",
    "load_dotenv()\n",
    "\n",
    "gemini_api_key = os.getenv(\"GEMINI_API_KEY\")\n",
    "\n",
    "embeddings = GoogleGenerativeAIEmbeddings(model=\"models/embedding-001\",google_api_key=gemini_api_key)\n",
    "llm = ChatGoogleGenerativeAI(model=\"gemini-2.0-flash\",api_key=gemini_api_key)"
   ]
  },
  {
   "cell_type": "code",
   "execution_count": 13,
   "id": "e82ada4a",
   "metadata": {},
   "outputs": [
    {
     "data": {
      "text/plain": [
       "'Hi there! How can I help you today?'"
      ]
     },
     "execution_count": 13,
     "metadata": {},
     "output_type": "execute_result"
    }
   ],
   "source": [
    "llm.invoke(\"hi\").content"
   ]
  },
  {
   "cell_type": "code",
   "execution_count": 14,
   "id": "53d43804",
   "metadata": {},
   "outputs": [],
   "source": [
    "def function1(input):\n",
    "    llm =  ChatGoogleGenerativeAI(model=\"gemini-2.0-flash\",api_key=gemini_api_key)\n",
    "    response = llm.invoke(input).content\n",
    "    return response"
   ]
  },
  {
   "cell_type": "code",
   "execution_count": 15,
   "id": "f747ac2d",
   "metadata": {},
   "outputs": [],
   "source": [
    "def function2(input):\n",
    "    upper_case = input.upper()\n",
    "    return upper_case"
   ]
  },
  {
   "cell_type": "code",
   "execution_count": 16,
   "id": "45ce51e7",
   "metadata": {},
   "outputs": [],
   "source": [
    "from langgraph.graph import Graph\n",
    "workflow2 = Graph()"
   ]
  },
  {
   "cell_type": "code",
   "execution_count": 17,
   "id": "f06b4cc3",
   "metadata": {},
   "outputs": [
    {
     "data": {
      "text/plain": [
       "<langgraph.graph.graph.Graph at 0x1f949bc3d40>"
      ]
     },
     "execution_count": 17,
     "metadata": {},
     "output_type": "execute_result"
    }
   ],
   "source": [
    "workflow2.add_node(\"llm\",function1)\n",
    "workflow2.add_node(\"upper_string\",function2)"
   ]
  },
  {
   "cell_type": "code",
   "execution_count": 18,
   "id": "d573065d",
   "metadata": {},
   "outputs": [
    {
     "data": {
      "text/plain": [
       "<langgraph.graph.graph.Graph at 0x1f949bc3d40>"
      ]
     },
     "execution_count": 18,
     "metadata": {},
     "output_type": "execute_result"
    }
   ],
   "source": [
    "workflow2.add_edge(\"llm\",\"upper_string\")"
   ]
  },
  {
   "cell_type": "code",
   "execution_count": 19,
   "id": "3f5dcd7d",
   "metadata": {},
   "outputs": [
    {
     "data": {
      "text/plain": [
       "<langgraph.graph.graph.Graph at 0x1f949bc3d40>"
      ]
     },
     "execution_count": 19,
     "metadata": {},
     "output_type": "execute_result"
    }
   ],
   "source": [
    "workflow2.set_entry_point(\"llm\")\n",
    "workflow2.set_finish_point(\"upper_string\")"
   ]
  },
  {
   "cell_type": "code",
   "execution_count": 20,
   "id": "71cc2bbe",
   "metadata": {},
   "outputs": [],
   "source": [
    "app2 = workflow2.compile()"
   ]
  },
  {
   "cell_type": "code",
   "execution_count": 21,
   "id": "94ca4b29",
   "metadata": {},
   "outputs": [
    {
     "data": {
      "image/png": "[encoded data removed]",
      "text/plain": [
       "<IPython.core.display.Image object>"
      ]
     },
     "metadata": {},
     "output_type": "display_data"
    }
   ],
   "source": [
    "from IPython.display import Image, display\n",
    "\n",
    "try:\n",
    "    display(Image(app2.get_graph().draw_mermaid_png()))\n",
    "except Exception as e:\n",
    "    print(e)"
   ]
  },
  {
   "cell_type": "code",
   "execution_count": 22,
   "id": "026a180d",
   "metadata": {},
   "outputs": [
    {
     "data": {
      "text/plain": [
       "'THE FIRST HOME MINISTER OF INDIA WAS **SARDAR VALLABHBHAI PATEL**.'"
      ]
     },
     "execution_count": 22,
     "metadata": {},
     "output_type": "execute_result"
    }
   ],
   "source": [
    "app2.invoke(\"what is name of first indian home minister\")"
   ]
  },
  {
   "cell_type": "code",
   "execution_count": 23,
   "id": "4b3af018",
   "metadata": {},
   "outputs": [
    {
     "name": "stdout",
     "output_type": "stream",
     "text": [
      "## GENERATIVE AI (GENAI) EXPLAINED IN DETAIL\n",
      "\n",
      "GENERATIVE AI (GENAI) REFERS TO A CATEGORY OF ARTIFICIAL INTELLIGENCE ALGORITHMS DESIGNED TO **GENERATE NEW CONTENT** THAT RESEMBLES THE DATA IT WAS TRAINED ON.  INSTEAD OF SIMPLY RECOGNIZING PATTERNS OR CLASSIFYING DATA, GENAI MODELS CAN CREATE ENTIRELY NEW OUTPUTS, SUCH AS TEXT, IMAGES, AUDIO, VIDEO, AND EVEN CODE.\n",
      "\n",
      "THINK OF IT LIKE THIS: INSTEAD OF JUST BEING ABLE TO IDENTIFY A CAT IN A PICTURE, GENAI CAN *DRAW* A PICTURE OF A CAT, EVEN ONE THAT DOESN'T EXIST IN ITS TRAINING DATA.\n",
      "\n",
      "**KEY CONCEPTS AND COMPONENTS:**\n",
      "\n",
      "* **TRAINING DATA:**  GENAI MODELS LEARN BY ANALYZING MASSIVE DATASETS OF EXISTING CONTENT. THE QUALITY AND DIVERSITY OF THIS DATA ARE CRUCIAL TO THE MODEL'S PERFORMANCE.  FOR EXAMPLE, A GENAI MODEL TRAINED ON A LARGE COLLECTION OF CLASSICAL PAINTINGS WILL LIKELY GENERATE ART WITH STYLISTIC ELEMENTS SIMILAR TO THOSE PAINTINGS.\n",
      "* **NEURAL NETWORKS:**  MOST GENAI MODELS ARE BASED ON DEEP LEARNING TECHNIQUES, PARTICULARLY NEURAL NETWORKS. THESE NETWORKS ARE STRUCTURED WITH MULTIPLE LAYERS OF INTERCONNECTED NODES (NEURONS) THAT PROCESS INFORMATION IN A WAY INSPIRED BY THE HUMAN BRAIN.  DIFFERENT TYPES OF NEURAL NETWORK ARCHITECTURES ARE USED FOR DIFFERENT TYPES OF GENERATIVE TASKS.\n",
      "* **ALGORITHMS:**  SPECIFIC ALGORITHMS ARE USED TO TRAIN AND OPERATE THE NEURAL NETWORKS.  COMMON EXAMPLES INCLUDE:\n",
      "    * **GENERATIVE ADVERSARIAL NETWORKS (GANS):** GANS INVOLVE TWO NEURAL NETWORKS: A GENERATOR AND A DISCRIMINATOR. THE GENERATOR CREATES NEW CONTENT, WHILE THE DISCRIMINATOR TRIES TO DISTINGUISH BETWEEN THE GENERATED CONTENT AND REAL CONTENT FROM THE TRAINING DATA. THIS CREATES A COMPETITIVE LOOP THAT DRIVES THE GENERATOR TO PRODUCE INCREASINGLY REALISTIC OUTPUTS.\n",
      "    * **VARIATIONAL AUTOENCODERS (VAES):** VAES LEARN A COMPRESSED, PROBABILISTIC REPRESENTATION (LATENT SPACE) OF THE TRAINING DATA.  BY SAMPLING FROM THIS LATENT SPACE, THE MODEL CAN GENERATE NEW VARIATIONS OF THE ORIGINAL DATA.\n",
      "    * **TRANSFORMERS:**  TRANSFORMERS ARE PARTICULARLY EFFECTIVE FOR TEXT AND SEQUENCE GENERATION. THEY USE A MECHANISM CALLED \"ATTENTION\" TO WEIGH THE IMPORTANCE OF DIFFERENT PARTS OF THE INPUT SEQUENCE WHEN GENERATING THE OUTPUT. MODELS LIKE GPT (GENERATIVE PRE-TRAINED TRANSFORMER) ARE BASED ON THE TRANSFORMER ARCHITECTURE.\n",
      "* **INFERENCE:**  ONCE THE MODEL IS TRAINED, IT CAN BE USED TO GENERATE NEW CONTENT. THIS PROCESS IS CALLED INFERENCE.  YOU PROVIDE THE MODEL WITH A PROMPT OR STARTING POINT, AND IT GENERATES AN OUTPUT BASED ON ITS LEARNED PATTERNS.  THE QUALITY OF THE OUTPUT DEPENDS ON THE MODEL'S TRAINING, THE PROMPT, AND THE MODEL'S INHERENT CAPABILITIES.\n",
      "\n",
      "**TYPES OF GENAI MODELS AND APPLICATIONS:**\n",
      "\n",
      "GENAI IS USED IN A WIDE VARIETY OF APPLICATIONS, EACH LEVERAGING DIFFERENT MODEL TYPES:\n",
      "\n",
      "* **TEXT GENERATION:**\n",
      "    * **MODELS:** GPT-3, LAMDA, BARD, LLAMA\n",
      "    * **APPLICATIONS:**\n",
      "        * **CONTENT CREATION:** WRITING ARTICLES, BLOG POSTS, MARKETING COPY, SCRIPTS, AND EVEN ENTIRE BOOKS.\n",
      "        * **CHATBOTS AND VIRTUAL ASSISTANTS:** CREATING MORE NATURAL AND ENGAGING CONVERSATIONAL EXPERIENCES.\n",
      "        * **CODE GENERATION:**  GENERATING CODE SNIPPETS OR EVEN ENTIRE PROGRAMS BASED ON NATURAL LANGUAGE DESCRIPTIONS.\n",
      "        * **SUMMARIZATION:**  CONDENSING LENGTHY DOCUMENTS INTO SHORTER SUMMARIES.\n",
      "        * **TRANSLATION:**  TRANSLATING TEXT BETWEEN LANGUAGES.\n",
      "* **IMAGE GENERATION:**\n",
      "    * **MODELS:** DALL-E 2, MIDJOURNEY, STABLE DIFFUSION, IMAGEN\n",
      "    * **APPLICATIONS:**\n",
      "        * **ART AND DESIGN:** CREATING ORIGINAL ARTWORK, ILLUSTRATIONS, AND DESIGN CONCEPTS.\n",
      "        * **PRODUCT VISUALIZATION:**  GENERATING REALISTIC IMAGES OF PRODUCTS FROM DESCRIPTIONS.\n",
      "        * **ARCHITECTURAL VISUALIZATION:** CREATING RENDERINGS OF BUILDINGS FROM BLUEPRINTS.\n",
      "        * **GAMING ASSET CREATION:** GENERATING TEXTURES, MODELS, AND ENVIRONMENTS FOR GAMES.\n",
      "        * **PHOTO EDITING AND ENHANCEMENT:**  ADDING OR REMOVING ELEMENTS FROM IMAGES, ENHANCING RESOLUTION, AND RESTORING OLD PHOTOS.\n",
      "* **AUDIO GENERATION:**\n",
      "    * **MODELS:** JUKEBOX, MUSICLM, AUDIOLM\n",
      "    * **APPLICATIONS:**\n",
      "        * **MUSIC COMPOSITION:** GENERATING NEW MUSICAL PIECES IN VARIOUS STYLES.\n",
      "        * **SOUND EFFECTS CREATION:**  GENERATING REALISTIC SOUND EFFECTS FOR GAMES, MOVIES, AND OTHER APPLICATIONS.\n",
      "        * **SPEECH SYNTHESIS:**  CREATING REALISTIC-SOUNDING SPEECH FROM TEXT.\n",
      "        * **AUDIO RESTORATION:**  CLEANING UP AND ENHANCING AUDIO RECORDINGS.\n",
      "* **VIDEO GENERATION:**\n",
      "    * **MODELS:** MAKE-A-VIDEO, PHENAKI, RUNWAYML\n",
      "    * **APPLICATIONS:**\n",
      "        * **CREATING SHORT VIDEO CLIPS FROM TEXT PROMPTS.**\n",
      "        * **GENERATING SPECIAL EFFECTS AND VISUAL ENHANCEMENTS.**\n",
      "        * **CREATING ANIMATED CONTENT.**\n",
      "        * **GENERATING TRAINING VIDEOS AND EDUCATIONAL MATERIALS.**\n",
      "* **3D MODEL GENERATION:**\n",
      "    * **MODELS:**  SEVERAL RESEARCH PROJECTS ARE EXPLORING THIS AREA.\n",
      "    * **APPLICATIONS:**\n",
      "        * **CREATING 3D MODELS FOR GAMES AND VIRTUAL REALITY.**\n",
      "        * **GENERATING PROTOTYPES FOR PRODUCT DESIGN.**\n",
      "        * **CREATING 3D ASSETS FOR ARCHITECTURAL VISUALIZATION.**\n",
      "* **CODE GENERATION:**\n",
      "    * **MODELS:** CODEX, GITHUB COPILOT\n",
      "    * **APPLICATIONS:**\n",
      "        * **GENERATING CODE SNIPPETS BASED ON NATURAL LANGUAGE DESCRIPTIONS.**\n",
      "        * **AUTOCOMPLETING CODE AS YOU TYPE.**\n",
      "        * **HELPING DEVELOPERS DEBUG AND REFACTOR CODE.**\n",
      "* **DRUG DISCOVERY AND MATERIAL SCIENCE:**\n",
      "    * **MODELS:**  SPECIALIZED MODELS ARE BEING DEVELOPED FOR THESE FIELDS.\n",
      "    * **APPLICATIONS:**\n",
      "        * **DESIGNING NEW DRUG CANDIDATES.**\n",
      "        * **PREDICTING THE PROPERTIES OF NEW MATERIALS.**\n",
      "        * **OPTIMIZING CHEMICAL REACTIONS.**\n",
      "\n",
      "**ADVANTAGES OF GENAI:**\n",
      "\n",
      "* **INCREASED EFFICIENCY AND PRODUCTIVITY:** AUTOMATES TASKS THAT WOULD OTHERWISE REQUIRE SIGNIFICANT HUMAN EFFORT.\n",
      "* **CREATIVITY AND INNOVATION:**  CAN GENERATE NOVEL IDEAS AND SOLUTIONS THAT HUMANS MIGHT NOT HAVE CONSIDERED.\n",
      "* **PERSONALIZATION:**  CAN TAILOR CONTENT AND EXPERIENCES TO INDIVIDUAL USERS.\n",
      "* **ACCESSIBILITY:**  MAKES CREATIVE TOOLS AND RESOURCES AVAILABLE TO A WIDER AUDIENCE.\n",
      "* **COST REDUCTION:**  CAN REDUCE THE COSTS ASSOCIATED WITH CONTENT CREATION AND OTHER TASKS.\n",
      "\n",
      "**CHALLENGES AND ETHICAL CONSIDERATIONS:**\n",
      "\n",
      "* **BIAS AND FAIRNESS:**  GENAI MODELS CAN PERPETUATE BIASES PRESENT IN THEIR TRAINING DATA, LEADING TO UNFAIR OR DISCRIMINATORY OUTCOMES.\n",
      "* **MISINFORMATION AND DEEPFAKES:**  THE ABILITY TO GENERATE REALISTIC SYNTHETIC CONTENT RAISES CONCERNS ABOUT THE SPREAD OF MISINFORMATION AND THE CREATION OF DEEPFAKES.\n",
      "* **COPYRIGHT AND INTELLECTUAL PROPERTY:**  QUESTIONS ARISE ABOUT WHO OWNS THE COPYRIGHT TO CONTENT GENERATED BY AI MODELS.\n",
      "* **JOB DISPLACEMENT:**  CONCERNS EXIST THAT GENAI COULD AUTOMATE JOBS CURRENTLY PERFORMED BY HUMANS.\n",
      "* **HALLUCINATIONS:** MODELS CAN SOMETIMES GENERATE INCORRECT OR NONSENSICAL INFORMATION THAT IS PRESENTED AS FACT.\n",
      "* **ENVIRONMENTAL IMPACT:** TRAINING LARGE GENAI MODELS CAN CONSUME SIGNIFICANT AMOUNTS OF ENERGY.\n",
      "* **SECURITY RISKS:**  GENAI MODELS CAN BE USED TO GENERATE MALICIOUS CODE OR PHISHING EMAILS.\n",
      "\n",
      "**THE FUTURE OF GENAI:**\n",
      "\n",
      "GENAI IS A RAPIDLY EVOLVING FIELD WITH TREMENDOUS POTENTIAL.  WE CAN EXPECT TO SEE:\n",
      "\n",
      "* **MORE POWERFUL AND VERSATILE MODELS:**  FUTURE MODELS WILL BE ABLE TO GENERATE EVEN MORE REALISTIC AND COMPLEX CONTENT.\n",
      "* **INCREASED INTEGRATION WITH OTHER TECHNOLOGIES:**  GENAI WILL BE INTEGRATED WITH OTHER AI TECHNOLOGIES, SUCH AS COMPUTER VISION AND NATURAL LANGUAGE PROCESSING, TO CREATE EVEN MORE SOPHISTICATED APPLICATIONS.\n",
      "* **WIDER ADOPTION ACROSS INDUSTRIES:**  GENAI WILL BE ADOPTED BY MORE AND MORE INDUSTRIES AS ITS CAPABILITIES CONTINUE TO IMPROVE.\n",
      "* **IMPROVED ETHICAL GUIDELINES AND REGULATIONS:**  EFFORTS WILL BE MADE TO ADDRESS THE ETHICAL CHALLENGES ASSOCIATED WITH GENAI AND TO ENSURE THAT IT IS USED RESPONSIBLY.\n",
      "* **MORE USER-FRIENDLY INTERFACES:**  GENAI TOOLS WILL BECOME EASIER TO USE, MAKING THEM ACCESSIBLE TO A WIDER AUDIENCE.\n",
      "\n",
      "**IN CONCLUSION, GENERATIVE AI IS A TRANSFORMATIVE TECHNOLOGY WITH THE POTENTIAL TO REVOLUTIONIZE MANY ASPECTS OF OUR LIVES. WHILE IT PRESENTS SIGNIFICANT CHALLENGES, ITS BENEFITS ARE UNDENIABLE, AND ITS FUTURE IS BRIGHT.** UNDERSTANDING ITS CAPABILITIES AND LIMITATIONS IS CRUCIAL FOR NAVIGATING THE EXCITING AND RAPIDLY EVOLVING LANDSCAPE OF AI.\n"
     ]
    }
   ],
   "source": [
    "print(app2.invoke(\"what is genai explain in detail\"))"
   ]
  },
  {
   "cell_type": "code",
   "execution_count": 24,
   "id": "792ac034",
   "metadata": {},
   "outputs": [],
   "source": [
    "input = \"what is name of first indian home minister\""
   ]
  },
  {
   "cell_type": "code",
   "execution_count": 25,
   "id": "b20b7e93",
   "metadata": {},
   "outputs": [
    {
     "name": "stdout",
     "output_type": "stream",
     "text": [
      "here is output from llm\n",
      "_____\n",
      "The first Home Minister of India was **Sardar Vallabhbhai Patel**.\n",
      "\n",
      "\n",
      "here is output from upper_string\n",
      "_____\n",
      "THE FIRST HOME MINISTER OF INDIA WAS **SARDAR VALLABHBHAI PATEL**.\n",
      "\n",
      "\n"
     ]
    }
   ],
   "source": [
    "for output in app2.stream(input):\n",
    "    for key,value in output.items():\n",
    "        print(f\"here is output from {key}\")\n",
    "        print(\"_____\")\n",
    "        print(value)\n",
    "        print(\"\\n\")"
   ]
  },
  {
   "cell_type": "markdown",
   "id": "22ba0661",
   "metadata": {},
   "source": [
    "Lets Create our own output token counter"
   ]
  },
  {
   "cell_type": "code",
   "execution_count": 26,
   "id": "4dc381dd",
   "metadata": {},
   "outputs": [],
   "source": [
    "def function3(input):\n",
    "    token = input.split()\n",
    "    token_number = len(token)\n",
    "    token_number = f\"total token number is {token_number}\"\n",
    "    return token_number"
   ]
  },
  {
   "cell_type": "code",
   "execution_count": 27,
   "id": "dcb88ff7",
   "metadata": {},
   "outputs": [],
   "source": [
    "workflow3 = Graph()\n",
    "workflow3.add_node(\"llm\",function1)\n",
    "workflow3.add_node(\"token_counter\",function3)\n",
    "workflow3.add_edge(\"llm\",\"token_counter\")\n",
    "workflow3.set_entry_point(\"llm\")\n",
    "workflow3.set_finish_point(\"token_counter\")\n",
    "app3 = workflow3.compile()"
   ]
  },
  {
   "cell_type": "code",
   "execution_count": 28,
   "id": "7afb5451",
   "metadata": {},
   "outputs": [
    {
     "data": {
      "image/png": "[encoded data removed]",
      "text/plain": [
       "<IPython.core.display.Image object>"
      ]
     },
     "metadata": {},
     "output_type": "display_data"
    }
   ],
   "source": [
    "from IPython.display import Image, display\n",
    "\n",
    "try:\n",
    "    display(Image(app3.get_graph().draw_mermaid_png()))\n",
    "except Exception as e:\n",
    "    # This requires some extra dependencies and is optional\n",
    "    print(e)"
   ]
  },
  {
   "cell_type": "code",
   "execution_count": 29,
   "id": "1f7f7a55",
   "metadata": {},
   "outputs": [
    {
     "data": {
      "text/plain": [
       "'total token number is 10'"
      ]
     },
     "execution_count": 29,
     "metadata": {},
     "output_type": "execute_result"
    }
   ],
   "source": [
    "app3.invoke(\"what is a name of first indian home minister?\")"
   ]
  },
  {
   "cell_type": "code",
   "execution_count": 30,
   "id": "757f1f2c",
   "metadata": {},
   "outputs": [],
   "source": [
    "input=\"ask any question\""
   ]
  },
  {
   "cell_type": "code",
   "execution_count": 31,
   "id": "539feeb5",
   "metadata": {},
   "outputs": [
    {
     "name": "stdout",
     "output_type": "stream",
     "text": [
      "here is output from llm\n",
      "_______\n",
      "Okay, here's a question for you:\n",
      "\n",
      "**If you could have any superpower, but it could only be used to solve one specific problem in the world, what superpower would you choose and what problem would you solve?**\n",
      "\n",
      "\n",
      "here is output from token_counter\n",
      "_______\n",
      "total token number is 37\n",
      "\n",
      "\n"
     ]
    }
   ],
   "source": [
    "for output in app3.stream(input):\n",
    "    for key,value in output.items():\n",
    "        print(f\"here is output from {key}\")\n",
    "        print(\"_______\")\n",
    "        print(value)\n",
    "        print(\"\\n\")"
   ]
  },
  {
   "cell_type": "code",
   "execution_count": 32,
   "id": "01924988",
   "metadata": {},
   "outputs": [],
   "source": [
    "#### Integrating RAG Pipeline #########\n",
    "\n",
    "import os\n",
    "from dotenv import load_dotenv\n",
    "from langchain_google_genai import GoogleGenerativeAIEmbeddings\n",
    "from langchain_google_genai import ChatGoogleGenerativeAI\n",
    "\n",
    "load_dotenv()\n",
    "\n",
    "gemini_api_key = os.getenv(\"GEMINI_API_KEY\")\n",
    "\n",
    "embeddings = GoogleGenerativeAIEmbeddings(model=\"models/embedding-001\",google_api_key=gemini_api_key)\n",
    "llm = ChatGoogleGenerativeAI(model=\"gemini-2.0-flash\",api_key=gemini_api_key)"
   ]
  },
  {
   "cell_type": "code",
   "execution_count": 33,
   "id": "33308f3a",
   "metadata": {},
   "outputs": [],
   "source": [
    "from langchain_core.output_parsers import StrOutputParser\n",
    "from langchain_core.prompts import ChatPromptTemplate\n",
    "from langchain_core.runnables import RunnablePassthrough\n",
    "from langchain_community.document_loaders import TextLoader, DirectoryLoader\n",
    "from langchain_community.vectorstores import Chroma\n",
    "from langchain.text_splitter import RecursiveCharacterTextSplitter"
   ]
  },
  {
   "cell_type": "code",
   "execution_count": 34,
   "id": "3c23694b",
   "metadata": {},
   "outputs": [
    {
     "name": "stderr",
     "output_type": "stream",
     "text": [
      "C:\\Users\\Parth\\AppData\\Local\\Temp\\ipykernel_15952\\3504320004.py:15: LangChainDeprecationWarning: The method `BaseRetriever.get_relevant_documents` was deprecated in langchain-core 0.1.46 and will be removed in 1.0. Use :meth:`~invoke` instead.\n",
      "  docs = retriever.get_relevant_documents(query)\n"
     ]
    },
    {
     "name": "stdout",
     "output_type": "stream",
     "text": [
      "[Document(metadata={'source': '..\\\\data\\\\llama3.txt'}, page_content='the 8B parameter version of Llama 3 as being \"surprisingly capable\" given it\\'s size.[11]'), Document(metadata={'source': '..\\\\data\\\\llama3.txt'}, page_content='The latest version is Llama 3 released in April 2024.[4]'), Document(metadata={'source': '..\\\\data\\\\llama3.txt'}, page_content='and Claude in most benchmarks.[9][10] Wired describes the 8B parameter version of Llama 3 as being')]\n"
     ]
    }
   ],
   "source": [
    "loader = DirectoryLoader(\"../data\",glob=\"./*.txt\",loader_cls=TextLoader)\n",
    "docs = loader.load()\n",
    "text_splitter = RecursiveCharacterTextSplitter(\n",
    "    chunk_size = 100,\n",
    "    chunk_overlap = 50\n",
    ")\n",
    "new_docs = text_splitter.split_documents(documents=docs)\n",
    "doc_strings = [doc.page_content for doc in new_docs]\n",
    "\n",
    "db = Chroma.from_documents(new_docs,embeddings)\n",
    "\n",
    "retriever = db.as_retriever(search_kwargs={\"k\":3})\n",
    "\n",
    "query = \"Tell me about llama3?\"\n",
    "docs = retriever.get_relevant_documents(query)\n",
    "print(docs)\n",
    "# print(docs[0].metadata)\n",
    "# print(docs[0].page_content)\n",
    "\n",
    "# for doc in docs:\n",
    "#     print(doc)"
   ]
  },
  {
   "cell_type": "code",
   "execution_count": 35,
   "id": "2f9c33dd",
   "metadata": {},
   "outputs": [],
   "source": [
    "def function_1(AgentState):\n",
    "    \n",
    "    message=AgentState[\"messages\"]\n",
    "    \n",
    "    question=message[-1]\n",
    "    \n",
    "    complete_prompt=\"Your task is to provide only the brief answer based on the user query. \\\n",
    "        Don't include too much reasoning. Following is the user query: \" + question\n",
    "    \n",
    "    response = llm.invoke(complete_prompt)\n",
    "    \n",
    "    AgentState['messages'].append(response.content) # appending LLM call response to the AgentState\n",
    "    \n",
    "    #print(AgentState)\n",
    "    \n",
    "    return AgentState"
   ]
  },
  {
   "cell_type": "code",
   "execution_count": 36,
   "id": "81a14777",
   "metadata": {},
   "outputs": [],
   "source": [
    "AgentState= {}"
   ]
  },
  {
   "cell_type": "code",
   "execution_count": 37,
   "id": "4a00fd3d",
   "metadata": {},
   "outputs": [],
   "source": [
    "AgentState[\"messages\"]= []"
   ]
  },
  {
   "cell_type": "code",
   "execution_count": 38,
   "id": "e45b8d70",
   "metadata": {},
   "outputs": [
    {
     "data": {
      "text/plain": [
       "{'messages': []}"
      ]
     },
     "execution_count": 38,
     "metadata": {},
     "output_type": "execute_result"
    }
   ],
   "source": [
    "AgentState"
   ]
  },
  {
   "cell_type": "code",
   "execution_count": 39,
   "id": "cfb9090b",
   "metadata": {},
   "outputs": [],
   "source": [
    "AgentState[\"messages\"].append(\"hi, how are you?\")"
   ]
  },
  {
   "cell_type": "code",
   "execution_count": 40,
   "id": "a97fd23e",
   "metadata": {},
   "outputs": [],
   "source": [
    "AgentState[\"messages\"].append(\"hi, what ypu doing?\")"
   ]
  },
  {
   "cell_type": "code",
   "execution_count": 41,
   "id": "c7f7f9fe",
   "metadata": {},
   "outputs": [
    {
     "data": {
      "text/plain": [
       "{'messages': ['hi, how are you?', 'hi, what ypu doing?']}"
      ]
     },
     "execution_count": 41,
     "metadata": {},
     "output_type": "execute_result"
    }
   ],
   "source": [
    "AgentState"
   ]
  },
  {
   "cell_type": "code",
   "execution_count": 42,
   "id": "7c706b0f",
   "metadata": {},
   "outputs": [],
   "source": [
    "def function_2(AgentState):\n",
    "    messages = AgentState['messages']\n",
    "    question = messages[0] ## Fetching the user question\n",
    "\n",
    "    template = \"\"\"Answer the question based only on the following context:\n",
    "    {context}\n",
    "\n",
    "    Question: {question}\n",
    "    \"\"\"\n",
    "    prompt = ChatPromptTemplate.from_template(template)\n",
    "\n",
    "    retrieval_chain = (\n",
    "        {\"context\": retriever, \"question\": RunnablePassthrough()}\n",
    "        | prompt\n",
    "        | llm\n",
    "        | StrOutputParser()\n",
    "        )\n",
    "    result = retrieval_chain.invoke(question)\n",
    "    return result"
   ]
  },
  {
   "cell_type": "code",
   "execution_count": 43,
   "id": "222cf749",
   "metadata": {},
   "outputs": [],
   "source": [
    "from langgraph.graph import Graph\n",
    "workflow4 = Graph()\n",
    "workflow4.add_node(\"LLM\", function_1)\n",
    "workflow4.add_node(\"RAGtool\", function_2)\n",
    "workflow4.add_edge('LLM', 'RAGtool')\n",
    "workflow4.set_entry_point(\"LLM\")\n",
    "workflow4.set_finish_point(\"RAGtool\")\n",
    "app4 = workflow4.compile()"
   ]
  },
  {
   "cell_type": "code",
   "execution_count": 44,
   "id": "b2ff69bf",
   "metadata": {},
   "outputs": [
    {
     "data": {
      "image/png": "[encoded data removed]",
      "text/plain": [
       "<IPython.core.display.Image object>"
      ]
     },
     "metadata": {},
     "output_type": "display_data"
    }
   ],
   "source": [
    "from IPython.display import Image, display\n",
    "\n",
    "try:\n",
    "    display(Image(app4.get_graph().draw_mermaid_png()))\n",
    "except Exception as e:\n",
    "    # This requires some extra dependencies and is optional\n",
    "    print(e)"
   ]
  },
  {
   "cell_type": "code",
   "execution_count": 45,
   "id": "9be43fe0",
   "metadata": {},
   "outputs": [],
   "source": [
    "inputs = {\"messages\": [\"Tell me about llama3 model\"]}"
   ]
  },
  {
   "cell_type": "code",
   "execution_count": 46,
   "id": "771d790a",
   "metadata": {},
   "outputs": [
    {
     "name": "stdout",
     "output_type": "stream",
     "text": [
      "Output from node 'LLM':\n",
      "---\n",
      "{'messages': ['Tell me about llama3 model', 'A large language model created by Meta.']}\n",
      "\n",
      "---\n",
      "\n",
      "Output from node 'RAGtool':\n",
      "---\n",
      "The 8B parameter version of Llama 3 is described as \"surprisingly capable\" given its size. Llama models have been compared favorably against other large language models.\n",
      "\n",
      "---\n",
      "\n"
     ]
    }
   ],
   "source": [
    "for output in app4.stream(inputs):\n",
    "    # stream() yields dictionaries with output keyed by node name\n",
    "    for key, value in output.items():   \n",
    "        print(f\"Output from node '{key}':\")\n",
    "        print(\"---\")\n",
    "        print(value)\n",
    "    print(\"\\n---\\n\")"
   ]
  },
  {
   "cell_type": "code",
   "execution_count": null,
   "id": "a176f25e",
   "metadata": {},
   "outputs": [],
   "source": [
    "import os\n",
    "from dotenv import load_dotenv\n",
    "from langchain_google_genai import GoogleGenerativeAIEmbeddings\n",
    "from langchain_google_genai import ChatGoogleGenerativeAI\n",
    "\n",
    "load_dotenv()\n",
    "\n",
    "gemini_api_key = os.getenv(\"GEMINI_API_KEY\")\n",
    "\n",
    "embeddings = GoogleGenerativeAIEmbeddings(model=\"models/embedding-001\",google_api_key=gemini_api_key)\n",
    "llm = ChatGoogleGenerativeAI(model=\"gemini-2.0-flash\",api_key=gemini_api_key)"
   ]
  },
  {
   "cell_type": "code",
   "execution_count": 48,
   "id": "982d0180",
   "metadata": {},
   "outputs": [],
   "source": [
    "loader2 = DirectoryLoader(\"../data\",glob=\"./*.txt\",loader_cls=TextLoader)\n",
    "docs2 = loader.load()\n",
    "\n",
    "text_splitter = RecursiveCharacterTextSplitter(\n",
    "    chunk_size=200,\n",
    "    chunk_overlap = 50\n",
    ")\n",
    "new_docs2 = text_splitter.split_documents(documents=docs2)\n",
    "doc_strings2 = [doc.page_content for doc in new_docs2]\n",
    "\n"
   ]
  },
  {
   "cell_type": "code",
   "execution_count": 49,
   "id": "cbcc5085",
   "metadata": {},
   "outputs": [],
   "source": [
    "db2 = Chroma.from_documents(new_docs2, embeddings)\n",
    "retriever2 = db2.as_retriever(search_kwargs={\"k\": 3})"
   ]
  },
  {
   "cell_type": "code",
   "execution_count": 50,
   "id": "af8da842",
   "metadata": {},
   "outputs": [
    {
     "name": "stdout",
     "output_type": "stream",
     "text": [
      "{'source': '..\\\\data\\\\japan.txt'}\n",
      "Japan's last four year GDP:\n",
      "page_content='Japan's last four year GDP:' metadata={'source': '..\\\\data\\\\japan.txt'}\n",
      "page_content='Industrial revival hope for Japan' metadata={'source': '..\\\\data\\\\japan.txt'}\n",
      "page_content='Industrial revival hope for Japan\n",
      "\n",
      "Japanese industry is growing faster than expected, boosting hopes that the country's retreat back into recession is over.' metadata={'source': '..\\\\data\\\\japan.txt'}\n"
     ]
    }
   ],
   "source": [
    "query = \"Tell me About Japan's Industrial Growth? \"\n",
    "docs = retriever2.get_relevant_documents(query)\n",
    "# print(docs)\n",
    "print(docs[0].metadata)\n",
    "print(docs[0].page_content)\n",
    "\n",
    "for doc in docs:\n",
    "    print(doc)"
   ]
  },
  {
   "cell_type": "code",
   "execution_count": 51,
   "id": "83a873e3",
   "metadata": {},
   "outputs": [],
   "source": [
    "from typing import TypedDict,Annotated, Sequence\n",
    "import operator\n",
    "from langchain_core.messages import BaseMessage\n",
    "from langchain.prompts import PromptTemplate\n",
    "\n",
    "class AgentState(TypedDict):\n",
    "    # The 'messages' field should be a sequence of strings, and we annotate it with 'operator.add'\n",
    "    # This implies we might want to \"add\" new messages to the sequence later\n",
    "    messages: Annotated[Sequence[BaseMessage], operator.add]"
   ]
  },
  {
   "cell_type": "code",
   "execution_count": 52,
   "id": "d3e564d5",
   "metadata": {},
   "outputs": [],
   "source": [
    "from pydantic import BaseModel, Field\n",
    "class TopicSelectionParser(BaseModel):\n",
    "    Topic: str = Field(description='Selected Topic')\n",
    "    Reasoning: str = Field(description='Reasoning behind topic selection')"
   ]
  },
  {
   "cell_type": "code",
   "execution_count": 53,
   "id": "f188f807",
   "metadata": {},
   "outputs": [
    {
     "name": "stdout",
     "output_type": "stream",
     "text": [
      "The output should be formatted as a JSON instance that conforms to the JSON schema below.\n",
      "\n",
      "As an example, for the schema {\"properties\": {\"foo\": {\"title\": \"Foo\", \"description\": \"a list of strings\", \"type\": \"array\", \"items\": {\"type\": \"string\"}}}, \"required\": [\"foo\"]}\n",
      "the object {\"foo\": [\"bar\", \"baz\"]} is a well-formatted instance of the schema. The object {\"properties\": {\"foo\": [\"bar\", \"baz\"]}} is not well-formatted.\n",
      "\n",
      "Here is the output schema:\n",
      "```\n",
      "{\"properties\": {\"Topic\": {\"description\": \"Selected Topic\", \"title\": \"Topic\", \"type\": \"string\"}, \"Reasoning\": {\"description\": \"Reasoning behind topic selection\", \"title\": \"Reasoning\", \"type\": \"string\"}}, \"required\": [\"Topic\", \"Reasoning\"]}\n",
      "```\n"
     ]
    }
   ],
   "source": [
    "from langchain.output_parsers import PydanticOutputParser\n",
    "parser = PydanticOutputParser(pydantic_object=TopicSelectionParser)\n",
    "\n",
    "print(parser.get_format_instructions())"
   ]
  },
  {
   "cell_type": "code",
   "execution_count": 67,
   "id": "c4a6f6ec",
   "metadata": {},
   "outputs": [],
   "source": [
    "def function_1(state):\n",
    "    message= state[\"messages\"]\n",
    "    question = message[-1]\n",
    "    print(question)\n",
    "\n",
    "    template = \"\"\"\n",
    "    Your task is to classify the given user query into one of the following categories: [Japan, Not Related]. \n",
    "    Only respond with the category name and nothing else.\n",
    "\n",
    "    User query: {question}\n",
    "    {format_instructions}\n",
    "    \"\"\"\n",
    "\n",
    "    prompt = PromptTemplate(template=template,input_variables=[question],partial_variables={\"format_instructions\":parser.get_format_instructions()})\n",
    "\n",
    "    chain = prompt|llm|parser\n",
    "\n",
    "    response = chain.invoke({\"question\":question,\"format_instructions\" : parser.get_format_instructions() })\n",
    "\n",
    "    print(response)\n",
    "    return {\"messages\": [response.Topic]}"
   ]
  },
  {
   "cell_type": "code",
   "execution_count": 68,
   "id": "e34225d0",
   "metadata": {},
   "outputs": [],
   "source": [
    "template=\"\"\"\n",
    "    Your task is to classify the given user query into one of the following categories: [Japan, Not Related]. \n",
    "    Only respond with the category name and nothing else.\n",
    "\n",
    "    User query: \"Tell me about Japan's Industrial Growth\"\n",
    "    The output should be formatted as a JSON instance that conforms to the JSON schema below.\n",
    "\n",
    "    As an example, for the schema {\"properties\": {\"foo\": {\"title\": \"Foo\", \"description\": \"a list of strings\", \"type\": \"array\", \"items\": {\"type\": \"string\"}}}, \"required\": [\"foo\"]}\n",
    "    the object {\"foo\": [\"bar\", \"baz\"]} is a well-formatted instance of the schema. The object {\"properties\": {\"foo\": [\"bar\", \"baz\"]}} is not well-formatted.\n",
    "\n",
    "    Here is the output schema:\n",
    "    ```\n",
    "    {\"properties\": {\"Topic\": {\"description\": \"Selected Topic\", \"title\": \"Topic\", \"type\": \"string\"}, \"Reasoning\": {\"description\": \"Reasoning behind topic selection\", \"title\": \"Reasoning\", \"type\": \"string\"}}, \"required\": [\"Topic\", \"Reasoning\"]}\n",
    "        \"\"\""
   ]
  },
  {
   "cell_type": "code",
   "execution_count": 69,
   "id": "e88ccc67",
   "metadata": {},
   "outputs": [],
   "source": [
    "state = {\"messages\":[\"Tell me about Japan's Industrial Growth\"]}"
   ]
  },
  {
   "cell_type": "code",
   "execution_count": 70,
   "id": "7464697c",
   "metadata": {},
   "outputs": [
    {
     "name": "stdout",
     "output_type": "stream",
     "text": [
      "Tell me about Japan's Industrial Growth\n",
      "Topic='Japan' Reasoning='The query explicitly asks about Japan.'\n"
     ]
    },
    {
     "data": {
      "text/plain": [
       "{'messages': ['Japan']}"
      ]
     },
     "execution_count": 70,
     "metadata": {},
     "output_type": "execute_result"
    }
   ],
   "source": [
    "function_1(state)"
   ]
  },
  {
   "cell_type": "code",
   "execution_count": 71,
   "id": "e0465bd6",
   "metadata": {},
   "outputs": [],
   "source": [
    "def function_2(state):\n",
    "    print('-> Calling RAG ->')\n",
    "    messages = state['messages']\n",
    "    question = messages[0] ## Fetching the user question\n",
    "    print(question)\n",
    "    \n",
    "    template = \"\"\"Answer the question based only on the following context:\n",
    "    {context}\n",
    "\n",
    "    Question: {question}\n",
    "    \"\"\"\n",
    "    prompt = ChatPromptTemplate.from_template(template)\n",
    "    \n",
    "    print(prompt)\n",
    "\n",
    "    retrieval_chain = (\n",
    "        {\"context\": retriever, \"question\": RunnablePassthrough()}\n",
    "        | prompt\n",
    "        | llm\n",
    "        | StrOutputParser()\n",
    "        )\n",
    "    result = retrieval_chain.invoke(question)\n",
    "    return  {\"messages\": [result]}"
   ]
  },
  {
   "cell_type": "code",
   "execution_count": 72,
   "id": "86221a75",
   "metadata": {},
   "outputs": [
    {
     "name": "stdout",
     "output_type": "stream",
     "text": [
      "-> Calling RAG ->\n",
      "Japan\n",
      "input_variables=['context', 'question'] input_types={} partial_variables={} messages=[HumanMessagePromptTemplate(prompt=PromptTemplate(input_variables=['context', 'question'], input_types={}, partial_variables={}, template='Answer the question based only on the following context:\\n    {context}\\n\\n    Question: {question}\\n    '), additional_kwargs={})]\n"
     ]
    },
    {
     "data": {
      "text/plain": [
       "{'messages': ['Based on the provided documents, here are some facts about Japan:\\n\\n*   Japanese industry is growing faster than expected.\\n*   Weaker exports had helped trigger a 0.1% contraction in the final three months of last year after two previous quarters.\\n*   Retail sales picked up faster than at any time since 1997.']}"
      ]
     },
     "execution_count": 72,
     "metadata": {},
     "output_type": "execute_result"
    }
   ],
   "source": [
    "function_2({'messages': ['Japan']})"
   ]
  },
  {
   "cell_type": "code",
   "execution_count": 73,
   "id": "d5d6be0c",
   "metadata": {},
   "outputs": [],
   "source": [
    "def function_3(state):\n",
    "    print('-> Calling LLM ->')\n",
    "\n",
    "    messages = state['messages']\n",
    "    question = messages[0]\n",
    "\n",
    "    complete_query = \"Anwer the follow question with your knowledge of the real world. Following is the user question: \" + question\n",
    "    response = llm.invoke(complete_query)\n",
    "    return {\"messages\":[response.content]}"
   ]
  },
  {
   "cell_type": "code",
   "execution_count": 79,
   "id": "ac84c6e2",
   "metadata": {},
   "outputs": [],
   "source": [
    "def router(state):\n",
    "    print('-> Router ->')\n",
    "\n",
    "    messages = state[\"messages\"]\n",
    "    last_message = messages[-1]\n",
    "    print(last_message)\n",
    "    if 'Japan' in last_message:\n",
    "        return 'RAG Call'\n",
    "    else:\n",
    "        return 'LLM Call'"
   ]
  },
  {
   "cell_type": "code",
   "execution_count": 80,
   "id": "c91cb29c",
   "metadata": {},
   "outputs": [],
   "source": [
    "from langgraph.graph import StateGraph, END\n",
    "\n",
    "workflow5 = StateGraph(AgentState)\n",
    "workflow5.add_node(\"agent\", function_1)\n",
    "workflow5.add_node(\"RAG\", function_2)\n",
    "workflow5.add_node(\"LLM\", function_3)\n",
    "\n",
    "workflow5.set_entry_point(\"agent\")\n",
    "\n",
    "workflow5.add_conditional_edges(\n",
    "    \"agent\",\n",
    "    router,\n",
    "    {\n",
    "        \"RAG Call\": \"RAG\",\n",
    "        \"LLM Call\": \"LLM\",\n",
    "    }\n",
    ")\n",
    "\n",
    "workflow5.add_edge(\"RAG\",END)\n",
    "workflow5.add_edge(\"LLM\",END)\n",
    "app5=workflow5.compile()"
   ]
  },
  {
   "cell_type": "code",
   "execution_count": 81,
   "id": "ffe3dd19",
   "metadata": {},
   "outputs": [
    {
     "data": {
      "image/png": "[encoded data removed]",
      "text/plain": [
       "<IPython.core.display.Image object>"
      ]
     },
     "metadata": {},
     "output_type": "display_data"
    }
   ],
   "source": [
    "from IPython.display import Image, display\n",
    "\n",
    "try:\n",
    "    display(Image(app5.get_graph().draw_mermaid_png()))\n",
    "except Exception as e:\n",
    "    # This requires some extra dependencies and is optional\n",
    "    print(e)"
   ]
  },
  {
   "cell_type": "code",
   "execution_count": 82,
   "id": "22dce44c",
   "metadata": {},
   "outputs": [],
   "source": [
    "inputs = {\"messages\": [\"Tell me about Japan's Industrial Growth\"]}"
   ]
  },
  {
   "cell_type": "code",
   "execution_count": 83,
   "id": "fb88cff4",
   "metadata": {},
   "outputs": [
    {
     "name": "stdout",
     "output_type": "stream",
     "text": [
      "Tell me about Japan's Industrial Growth\n",
      "Topic='Japan' Reasoning='The query explicitly asks about Japan.'\n",
      "-> Router ->\n",
      "Japan\n",
      "-> Calling RAG ->\n",
      "Tell me about Japan's Industrial Growth\n",
      "input_variables=['context', 'question'] input_types={} partial_variables={} messages=[HumanMessagePromptTemplate(prompt=PromptTemplate(input_variables=['context', 'question'], input_types={}, partial_variables={}, template='Answer the question based only on the following context:\\n    {context}\\n\\n    Question: {question}\\n    '), additional_kwargs={})]\n"
     ]
    }
   ],
   "source": [
    "output = app5.invoke(inputs)"
   ]
  },
  {
   "cell_type": "code",
   "execution_count": 85,
   "id": "645e4529",
   "metadata": {},
   "outputs": [
    {
     "name": "stdout",
     "output_type": "stream",
     "text": [
      "{'messages': [\"Tell me about Japan's Industrial Growth\", 'Japan', \"Japanese industry is growing faster than expected, boosting hopes that the country's retreat back into recession is over.\"]}\n"
     ]
    }
   ],
   "source": [
    "print(output)"
   ]
  },
  {
   "cell_type": "code",
   "execution_count": 86,
   "id": "0d4ea0d9",
   "metadata": {},
   "outputs": [],
   "source": [
    "inputs = {\"messages\": [\"Tell me about first prime minister of india?\"]}"
   ]
  },
  {
   "cell_type": "code",
   "execution_count": 87,
   "id": "ede0a15c",
   "metadata": {},
   "outputs": [
    {
     "name": "stdout",
     "output_type": "stream",
     "text": [
      "Tell me about first prime minister of india?\n",
      "Topic='Not Related' Reasoning='The query is about the first prime minister of India, which is not related to Japan.'\n",
      "-> Router ->\n",
      "Not Related\n",
      "-> Calling LLM ->\n"
     ]
    }
   ],
   "source": [
    "output = app5.invoke(inputs)"
   ]
  },
  {
   "cell_type": "code",
   "execution_count": 88,
   "id": "8c2bfdbf",
   "metadata": {},
   "outputs": [
    {
     "data": {
      "text/plain": [
       "{'messages': ['Tell me about first prime minister of india?',\n",
       "  'Not Related',\n",
       "  \"The first Prime Minister of India was **Jawaharlal Nehru**.\\n\\nHere's some key information about him:\\n\\n*   **Tenure:** He served as Prime Minister from August 15, 1947, the day India gained independence, until his death on May 27, 1964. This makes him the longest-serving Prime Minister of India.\\n\\n*   **Political Party:** He was a prominent leader of the Indian National Congress, which played a crucial role in the Indian independence movement.\\n\\n*   **Ideology:** Nehru was a key architect of India's post-independence policies. He advocated for a socialist-leaning economy, non-alignment in international relations (the Non-Aligned Movement), and secularism. He was a proponent of planned economic development and established institutions like the Planning Commission.\\n\\n*   **Key Achievements:**\\n\\n    *   Played a significant role in shaping India's foreign policy.\\n    *   Oversaw the integration of princely states into India.\\n    *   Focused on industrialization and scientific development.\\n    *   Promoted education and established numerous institutions of higher learning.\\n    *   Championed democratic values and parliamentary governance.\\n\\n*   **Legacy:** Nehru's legacy is complex and debated. He is remembered as a key figure in India's independence and nation-building. However, his policies have also been criticized for their perceived inefficiencies and slow economic growth. His family, particularly his daughter Indira Gandhi and grandson Rajiv Gandhi, also went on to become Prime Ministers of India, establishing a significant political dynasty.\"]}"
      ]
     },
     "execution_count": 88,
     "metadata": {},
     "output_type": "execute_result"
    }
   ],
   "source": [
    "output"
   ]
  }
 ],
 "metadata": {
  "kernelspec": {
   "display_name": "venv",
   "language": "python",
   "name": "python3"
  },
  "language_info": {
   "codemirror_mode": {
    "name": "ipython",
    "version": 3
   },
   "file_extension": ".py",
   "mimetype": "text/x-python",
   "name": "python",
   "nbconvert_exporter": "python",
   "pygments_lexer": "ipython3",
   "version": "3.12.7"
  }
 },
 "nbformat": 4,
 "nbformat_minor": 5
}
